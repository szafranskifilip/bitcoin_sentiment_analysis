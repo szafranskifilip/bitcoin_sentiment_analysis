{
 "cells": [
  {
   "cell_type": "markdown",
   "metadata": {},
   "source": [
    "## Cryptocurrency sentiment analisis and its coorelation with coins price"
   ]
  },
  {
   "cell_type": "markdown",
   "metadata": {},
   "source": [
    "### Import libraries"
   ]
  },
  {
   "cell_type": "code",
   "execution_count": 144,
   "metadata": {},
   "outputs": [],
   "source": [
    "import pandas as pd\n",
    "import numpy as np\n",
    "\n",
    "from sklearn.preprocessing import StandardScaler\n",
    "from sklearn.model_selection import train_test_split, GridSearchCV, cross_val_score\n",
    "import matplotlib.pyplot as plt\n",
    "import seaborn as sns\n",
    "import pickle\n",
    "import requests\n",
    "\n",
    "%matplotlib inline\n",
    "plt.style.use('seaborn')\n",
    "\n",
    "import warnings\n",
    "warnings.filterwarnings('ignore')"
   ]
  },
  {
   "cell_type": "code",
   "execution_count": 459,
   "metadata": {},
   "outputs": [],
   "source": [
    "import tweepy\n",
    "import datetime\n",
    "import json\n",
    "from datetime import datetime, timedelta"
   ]
  },
  {
   "cell_type": "markdown",
   "metadata": {},
   "source": [
    "### Import data"
   ]
  },
  {
   "cell_type": "markdown",
   "metadata": {},
   "source": [
    "Twitter Developer Account. In order to get access to the Tweepy API, it is important for you to create a developer account and this account must be approved from twitter"
   ]
  },
  {
   "cell_type": "code",
   "execution_count": 409,
   "metadata": {},
   "outputs": [],
   "source": [
    "#Import key and tokens from config.py\n",
    "from config import *"
   ]
  },
  {
   "cell_type": "code",
   "execution_count": 348,
   "metadata": {},
   "outputs": [],
   "source": [
    "client = tweepy.Client(bearer_token=bearer_token, \n",
    "                       consumer_key=consumer_key, \n",
    "                       consumer_secret=consumer_secret, \n",
    "                       access_token=acces_token, \n",
    "                       access_token_secret=token_secret,\n",
    "                       wait_on_rate_limit=True)"
   ]
  },
  {
   "cell_type": "code",
   "execution_count": 381,
   "metadata": {},
   "outputs": [],
   "source": [
    "query=\"(#btc OR #bitcoin OR bitcoin) is:verified -has:media -is:retweet lang:en\""
   ]
  },
  {
   "cell_type": "code",
   "execution_count": 374,
   "metadata": {},
   "outputs": [],
   "source": [
    "\n",
    "\n",
    "#Get dates in ISO format YYYY-MM-DDTHH:mm:ssZ (ISO 8601/RFC 3339).\n",
    "#today('end_time') must be a minimum of 10 seconds prior to the request time. \n",
    "#We add an hour to avoid the newest tweets without comlete public metrics data \n",
    "\n",
    "today = datetime.now() - timedelta(hours=1) + timedelta(hours=5)\n",
    "seven_days_back = today - timedelta(days=6, hours=22)\n",
    "\n",
    "today = today.strftime('%Y-%m-%dT%H:%M:%SZ')\n",
    "seven_days_back = seven_days_back.strftime('%Y-%m-%dT%H:%M:%SZ')"
   ]
  },
  {
   "cell_type": "code",
   "execution_count": 375,
   "metadata": {},
   "outputs": [
    {
     "data": {
      "text/plain": [
       "'2022-01-28T22:09:51Z'"
      ]
     },
     "execution_count": 375,
     "metadata": {},
     "output_type": "execute_result"
    }
   ],
   "source": [
    "today"
   ]
  },
  {
   "cell_type": "code",
   "execution_count": 376,
   "metadata": {},
   "outputs": [
    {
     "data": {
      "text/plain": [
       "'2022-01-22T00:09:51Z'"
      ]
     },
     "execution_count": 376,
     "metadata": {},
     "output_type": "execute_result"
    }
   ],
   "source": [
    "seven_days_back"
   ]
  },
  {
   "cell_type": "code",
   "execution_count": 377,
   "metadata": {},
   "outputs": [],
   "source": [
    "import csv #Import csv\n",
    "\n",
    "#Open/create a file to append data to\n",
    "csvFile = open('api_csv/tweets_results.csv', 'a')\n",
    "\n",
    "# # Use csv writer\n",
    "csvWriter = csv.writer(csvFile)\n",
    "\n",
    "csvWriter.writerow(['item.id',\n",
    "                    'item.author_id',\n",
    "                    'item.created_at',\n",
    "                    'item.source', \n",
    "                    'item.public_metrics[\"retweet_count\"]',\n",
    "                    'item.public_metrics[\"reply_count\"]',\n",
    "                    'item.public_metrics[\"like_count\"]',\n",
    "                    'item.public_metrics[\"like_count\"]',\n",
    "                    'item.text'])\n",
    "\n",
    "for response in tweepy.Paginator(client.search_recent_tweets, query=query, \n",
    "                              start_time=str(seven_days_back),\n",
    "                              end_time=str(today),\n",
    "                              tweet_fields='id,author_id,created_at,geo,public_metrics,source,text',\n",
    "                              user_fields='id,name,username,public_metrics',\n",
    "                              place_fields='full_name,country,country_code,geo',\n",
    "                              expansions='author_id,geo.place_id',\n",
    "                              max_results=100, limit=1200):\n",
    "    \n",
    "    # Write a row to the CSV file. I use encode UTF-8\n",
    "    for item in response.data:\n",
    "        # Write a row to the CSV file. I use encode UTF-8\n",
    "        csvWriter.writerow([item.id,\n",
    "                            item.author_id,\n",
    "                            item.created_at,\n",
    "                            item.source, \n",
    "                            item.public_metrics[\"retweet_count\"],\n",
    "                            item.public_metrics[\"reply_count\"],\n",
    "                            item.public_metrics[\"like_count\"],\n",
    "                            item.public_metrics[\"like_count\"],\n",
    "                            item.text])\n",
    "\n",
    "csvFile.close()"
   ]
  },
  {
   "cell_type": "code",
   "execution_count": 382,
   "metadata": {},
   "outputs": [],
   "source": [
    "#Open/create a file to append data to\n",
    "csvFile = open('api_csv/author_results.csv', 'a')\n",
    "\n",
    "# # Use csv writer\n",
    "csvWriter = csv.writer(csvFile)\n",
    "\n",
    "csvWriter.writerow(['item.name',\n",
    "                    'item.id',\n",
    "                    'item.username',\n",
    "                    'item.public_metrics[\"followers_count\"]',\n",
    "                    'item.public_metrics[\"following_count\"]',\n",
    "                    'item.public_metrics[\"tweet_count\"]',\n",
    "                    'item.public_metrics[\"listed_count\"]'])\n",
    "\n",
    "for response in tweepy.Paginator(client.search_recent_tweets, query=query, \n",
    "                              start_time=str(seven_days_back),\n",
    "                              end_time=str(today),\n",
    "                              tweet_fields='id,author_id,created_at,geo,public_metrics,source,text',\n",
    "                              user_fields='id,name,username,public_metrics',\n",
    "                              place_fields='full_name,country,country_code,geo',\n",
    "                              expansions='author_id,geo.place_id',\n",
    "                              max_results=100, limit=1200):\n",
    "\n",
    "    # Write a row to the CSV file. I use encode UTF-8\n",
    "    for item in response.includes['users']:\n",
    "        # Write a row to the CSV file. I use encode UTF-8\n",
    "        csvWriter.writerow([item.name,\n",
    "                    item.id,\n",
    "                    item.username,\n",
    "                    item.public_metrics[\"followers_count\"],\n",
    "                    item.public_metrics[\"following_count\"],\n",
    "                    item.public_metrics[\"tweet_count\"],\n",
    "                    item.public_metrics[\"listed_count\"]])\n",
    "\n",
    "csvFile.close()"
   ]
  },
  {
   "cell_type": "code",
   "execution_count": 379,
   "metadata": {},
   "outputs": [],
   "source": [
    "query=\"(#btc OR #bitcoin OR bitcoin) lang:en\"\n",
    "\n",
    "#Open/create a file to append data to\n",
    "csvFile = open('api_csv/tweets_counts.csv', 'a')\n",
    "\n",
    "# # Use csv writer\n",
    "csvWriter = csv.writer(csvFile)\n",
    "\n",
    "csvWriter.writerow(['item.start',\n",
    "                    'item.end',\n",
    "                    'item.tweet_count'])\n",
    "\n",
    "response = client.get_recent_tweets_count(query=query, start_time=str(seven_days_back),\n",
    "                                                               end_time=str(today), \n",
    "                                                               granularity='hour')\n",
    "#     # Write a row to the CSV file. I use encode UTF-8\n",
    "for item in response.data:\n",
    "    # Write a row to the CSV file. I use encode UTF-8\n",
    "    csvWriter.writerow([item['start'],\n",
    "                        item['end'],\n",
    "                        item['tweet_count']])\n",
    "                                 \n",
    "csvFile.close()"
   ]
  },
  {
   "cell_type": "code",
   "execution_count": null,
   "metadata": {},
   "outputs": [],
   "source": []
  },
  {
   "cell_type": "markdown",
   "metadata": {},
   "source": [
    "### BTC price"
   ]
  },
  {
   "cell_type": "code",
   "execution_count": 449,
   "metadata": {
    "tags": []
   },
   "outputs": [],
   "source": [
    "apiKey = 'f6abe5070d5ed0669957e251a399b0aefd50288230480daf4b5e2e196c72c2ec'\n",
    "\n",
    "url = \"https://min-api.cryptocompare.com/data/v2/histohour\"\n",
    "\n",
    "payload = {\n",
    "    \"api_key\": apiKey,\n",
    "    \"fsym\": \"BTC\",\n",
    "    \"tsym\": \"USD\",\n",
    "    \"limit\": 250\n",
    "}\n",
    "\n",
    "result = requests.get(url, params=payload).json()"
   ]
  },
  {
   "cell_type": "code",
   "execution_count": 450,
   "metadata": {},
   "outputs": [
    {
     "data": {
      "text/plain": [
       "{'time': 1642748400,\n",
       " 'high': 39173.58,\n",
       " 'low': 38575.8,\n",
       " 'open': 38697.49,\n",
       " 'volumefrom': 1758.17,\n",
       " 'volumeto': 68334552.69,\n",
       " 'close': 39142.31,\n",
       " 'conversionType': 'direct',\n",
       " 'conversionSymbol': ''}"
      ]
     },
     "execution_count": 450,
     "metadata": {},
     "output_type": "execute_result"
    }
   ],
   "source": [
    "result['Data']['Data'][0]"
   ]
  },
  {
   "cell_type": "code",
   "execution_count": 451,
   "metadata": {},
   "outputs": [
    {
     "data": {
      "text/html": [
       "<div>\n",
       "<style scoped>\n",
       "    .dataframe tbody tr th:only-of-type {\n",
       "        vertical-align: middle;\n",
       "    }\n",
       "\n",
       "    .dataframe tbody tr th {\n",
       "        vertical-align: top;\n",
       "    }\n",
       "\n",
       "    .dataframe thead th {\n",
       "        text-align: right;\n",
       "    }\n",
       "</style>\n",
       "<table border=\"1\" class=\"dataframe\">\n",
       "  <thead>\n",
       "    <tr style=\"text-align: right;\">\n",
       "      <th></th>\n",
       "      <th>time</th>\n",
       "      <th>high</th>\n",
       "      <th>low</th>\n",
       "      <th>open</th>\n",
       "      <th>volumefrom</th>\n",
       "      <th>volumeto</th>\n",
       "      <th>close</th>\n",
       "      <th>conversionType</th>\n",
       "      <th>conversionSymbol</th>\n",
       "    </tr>\n",
       "  </thead>\n",
       "  <tbody>\n",
       "    <tr>\n",
       "      <th>0</th>\n",
       "      <td>1642748400</td>\n",
       "      <td>39173.58</td>\n",
       "      <td>38575.80</td>\n",
       "      <td>38697.49</td>\n",
       "      <td>1758.17</td>\n",
       "      <td>68334552.69</td>\n",
       "      <td>39142.31</td>\n",
       "      <td>direct</td>\n",
       "      <td></td>\n",
       "    </tr>\n",
       "    <tr>\n",
       "      <th>1</th>\n",
       "      <td>1642752000</td>\n",
       "      <td>39294.17</td>\n",
       "      <td>39030.88</td>\n",
       "      <td>39142.31</td>\n",
       "      <td>1288.39</td>\n",
       "      <td>50434328.22</td>\n",
       "      <td>39170.84</td>\n",
       "      <td>direct</td>\n",
       "      <td></td>\n",
       "    </tr>\n",
       "    <tr>\n",
       "      <th>2</th>\n",
       "      <td>1642755600</td>\n",
       "      <td>39191.28</td>\n",
       "      <td>38953.29</td>\n",
       "      <td>39170.84</td>\n",
       "      <td>1549.57</td>\n",
       "      <td>60508276.18</td>\n",
       "      <td>38980.45</td>\n",
       "      <td>direct</td>\n",
       "      <td></td>\n",
       "    </tr>\n",
       "    <tr>\n",
       "      <th>3</th>\n",
       "      <td>1642759200</td>\n",
       "      <td>39090.91</td>\n",
       "      <td>38878.86</td>\n",
       "      <td>38980.45</td>\n",
       "      <td>1272.89</td>\n",
       "      <td>49626815.02</td>\n",
       "      <td>38981.85</td>\n",
       "      <td>direct</td>\n",
       "      <td></td>\n",
       "    </tr>\n",
       "    <tr>\n",
       "      <th>4</th>\n",
       "      <td>1642762800</td>\n",
       "      <td>38986.50</td>\n",
       "      <td>38694.25</td>\n",
       "      <td>38981.85</td>\n",
       "      <td>1454.38</td>\n",
       "      <td>56453857.47</td>\n",
       "      <td>38901.98</td>\n",
       "      <td>direct</td>\n",
       "      <td></td>\n",
       "    </tr>\n",
       "  </tbody>\n",
       "</table>\n",
       "</div>"
      ],
      "text/plain": [
       "         time      high       low      open  volumefrom     volumeto  \\\n",
       "0  1642748400  39173.58  38575.80  38697.49     1758.17  68334552.69   \n",
       "1  1642752000  39294.17  39030.88  39142.31     1288.39  50434328.22   \n",
       "2  1642755600  39191.28  38953.29  39170.84     1549.57  60508276.18   \n",
       "3  1642759200  39090.91  38878.86  38980.45     1272.89  49626815.02   \n",
       "4  1642762800  38986.50  38694.25  38981.85     1454.38  56453857.47   \n",
       "\n",
       "      close conversionType conversionSymbol  \n",
       "0  39142.31         direct                   \n",
       "1  39170.84         direct                   \n",
       "2  38980.45         direct                   \n",
       "3  38981.85         direct                   \n",
       "4  38901.98         direct                   "
      ]
     },
     "execution_count": 451,
     "metadata": {},
     "output_type": "execute_result"
    }
   ],
   "source": [
    "df = pd.DataFrame(result['Data']['Data'])\n",
    "\n",
    "df.head()"
   ]
  },
  {
   "cell_type": "code",
   "execution_count": 452,
   "metadata": {},
   "outputs": [
    {
     "name": "stdout",
     "output_type": "stream",
     "text": [
      "<class 'pandas.core.frame.DataFrame'>\n",
      "RangeIndex: 251 entries, 0 to 250\n",
      "Data columns (total 9 columns):\n",
      " #   Column            Non-Null Count  Dtype  \n",
      "---  ------            --------------  -----  \n",
      " 0   time              251 non-null    int64  \n",
      " 1   high              251 non-null    float64\n",
      " 2   low               251 non-null    float64\n",
      " 3   open              251 non-null    float64\n",
      " 4   volumefrom        251 non-null    float64\n",
      " 5   volumeto          251 non-null    float64\n",
      " 6   close             251 non-null    float64\n",
      " 7   conversionType    251 non-null    object \n",
      " 8   conversionSymbol  251 non-null    object \n",
      "dtypes: float64(6), int64(1), object(2)\n",
      "memory usage: 17.8+ KB\n"
     ]
    }
   ],
   "source": [
    "df.info()"
   ]
  },
  {
   "cell_type": "code",
   "execution_count": 453,
   "metadata": {},
   "outputs": [],
   "source": [
    "def unix_to_utc(x):\n",
    "    utc = datetime.utcfromtimestamp(x).strftime('%Y-%m-%d %H:%M:%S')\n",
    "    return utc"
   ]
  },
  {
   "cell_type": "code",
   "execution_count": 454,
   "metadata": {},
   "outputs": [],
   "source": [
    "#Convert UNIX timestamp to readbale format (datetime64[ns])\n",
    "df.time = df.time.apply(unix_to_utc)\n",
    "df.time = pd.to_datetime(df.time)\n",
    "#Drop reduntant columns\n",
    "df.drop(columns=['conversionType','conversionSymbol'], inplace=True)"
   ]
  },
  {
   "cell_type": "code",
   "execution_count": 455,
   "metadata": {},
   "outputs": [
    {
     "data": {
      "text/html": [
       "<div>\n",
       "<style scoped>\n",
       "    .dataframe tbody tr th:only-of-type {\n",
       "        vertical-align: middle;\n",
       "    }\n",
       "\n",
       "    .dataframe tbody tr th {\n",
       "        vertical-align: top;\n",
       "    }\n",
       "\n",
       "    .dataframe thead th {\n",
       "        text-align: right;\n",
       "    }\n",
       "</style>\n",
       "<table border=\"1\" class=\"dataframe\">\n",
       "  <thead>\n",
       "    <tr style=\"text-align: right;\">\n",
       "      <th></th>\n",
       "      <th>time</th>\n",
       "      <th>high</th>\n",
       "      <th>low</th>\n",
       "      <th>open</th>\n",
       "      <th>volumefrom</th>\n",
       "      <th>volumeto</th>\n",
       "      <th>close</th>\n",
       "    </tr>\n",
       "  </thead>\n",
       "  <tbody>\n",
       "    <tr>\n",
       "      <th>0</th>\n",
       "      <td>2022-01-21 07:00:00</td>\n",
       "      <td>39173.58</td>\n",
       "      <td>38575.80</td>\n",
       "      <td>38697.49</td>\n",
       "      <td>1758.17</td>\n",
       "      <td>68334552.69</td>\n",
       "      <td>39142.31</td>\n",
       "    </tr>\n",
       "    <tr>\n",
       "      <th>1</th>\n",
       "      <td>2022-01-21 08:00:00</td>\n",
       "      <td>39294.17</td>\n",
       "      <td>39030.88</td>\n",
       "      <td>39142.31</td>\n",
       "      <td>1288.39</td>\n",
       "      <td>50434328.22</td>\n",
       "      <td>39170.84</td>\n",
       "    </tr>\n",
       "    <tr>\n",
       "      <th>2</th>\n",
       "      <td>2022-01-21 09:00:00</td>\n",
       "      <td>39191.28</td>\n",
       "      <td>38953.29</td>\n",
       "      <td>39170.84</td>\n",
       "      <td>1549.57</td>\n",
       "      <td>60508276.18</td>\n",
       "      <td>38980.45</td>\n",
       "    </tr>\n",
       "    <tr>\n",
       "      <th>3</th>\n",
       "      <td>2022-01-21 10:00:00</td>\n",
       "      <td>39090.91</td>\n",
       "      <td>38878.86</td>\n",
       "      <td>38980.45</td>\n",
       "      <td>1272.89</td>\n",
       "      <td>49626815.02</td>\n",
       "      <td>38981.85</td>\n",
       "    </tr>\n",
       "    <tr>\n",
       "      <th>4</th>\n",
       "      <td>2022-01-21 11:00:00</td>\n",
       "      <td>38986.50</td>\n",
       "      <td>38694.25</td>\n",
       "      <td>38981.85</td>\n",
       "      <td>1454.38</td>\n",
       "      <td>56453857.47</td>\n",
       "      <td>38901.98</td>\n",
       "    </tr>\n",
       "  </tbody>\n",
       "</table>\n",
       "</div>"
      ],
      "text/plain": [
       "                 time      high       low      open  volumefrom     volumeto  \\\n",
       "0 2022-01-21 07:00:00  39173.58  38575.80  38697.49     1758.17  68334552.69   \n",
       "1 2022-01-21 08:00:00  39294.17  39030.88  39142.31     1288.39  50434328.22   \n",
       "2 2022-01-21 09:00:00  39191.28  38953.29  39170.84     1549.57  60508276.18   \n",
       "3 2022-01-21 10:00:00  39090.91  38878.86  38980.45     1272.89  49626815.02   \n",
       "4 2022-01-21 11:00:00  38986.50  38694.25  38981.85     1454.38  56453857.47   \n",
       "\n",
       "      close  \n",
       "0  39142.31  \n",
       "1  39170.84  \n",
       "2  38980.45  \n",
       "3  38981.85  \n",
       "4  38901.98  "
      ]
     },
     "execution_count": 455,
     "metadata": {},
     "output_type": "execute_result"
    }
   ],
   "source": [
    "df.head()"
   ]
  },
  {
   "cell_type": "code",
   "execution_count": 456,
   "metadata": {},
   "outputs": [
    {
     "name": "stdout",
     "output_type": "stream",
     "text": [
      "<class 'pandas.core.frame.DataFrame'>\n",
      "RangeIndex: 251 entries, 0 to 250\n",
      "Data columns (total 7 columns):\n",
      " #   Column      Non-Null Count  Dtype         \n",
      "---  ------      --------------  -----         \n",
      " 0   time        251 non-null    datetime64[ns]\n",
      " 1   high        251 non-null    float64       \n",
      " 2   low         251 non-null    float64       \n",
      " 3   open        251 non-null    float64       \n",
      " 4   volumefrom  251 non-null    float64       \n",
      " 5   volumeto    251 non-null    float64       \n",
      " 6   close       251 non-null    float64       \n",
      "dtypes: datetime64[ns](1), float64(6)\n",
      "memory usage: 13.9 KB\n"
     ]
    }
   ],
   "source": [
    "df.info()"
   ]
  },
  {
   "cell_type": "code",
   "execution_count": 458,
   "metadata": {},
   "outputs": [],
   "source": [
    "df.to_csv('data/btc_usd_hourly.csv', index=False)"
   ]
  },
  {
   "cell_type": "code",
   "execution_count": null,
   "metadata": {},
   "outputs": [],
   "source": []
  }
 ],
 "metadata": {
  "kernelspec": {
   "display_name": "learn-env",
   "language": "python",
   "name": "learn-env"
  },
  "language_info": {
   "codemirror_mode": {
    "name": "ipython",
    "version": 3
   },
   "file_extension": ".py",
   "mimetype": "text/x-python",
   "name": "python",
   "nbconvert_exporter": "python",
   "pygments_lexer": "ipython3",
   "version": "3.6.9"
  }
 },
 "nbformat": 4,
 "nbformat_minor": 4
}
