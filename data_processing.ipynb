{
 "cells": [
  {
   "cell_type": "markdown",
   "metadata": {},
   "source": [
    "## Cryptocurrency sentiment analisis and its coorelation with coins price"
   ]
  },
  {
   "cell_type": "markdown",
   "metadata": {},
   "source": [
    "### Import libraries"
   ]
  },
  {
   "cell_type": "code",
   "execution_count": 1,
   "metadata": {},
   "outputs": [],
   "source": [
    "import pandas as pd\n",
    "import numpy as np\n",
    "\n",
    "from sklearn.preprocessing import StandardScaler\n",
    "from sklearn.model_selection import train_test_split, GridSearchCV, cross_val_score\n",
    "import matplotlib.pyplot as plt\n",
    "import seaborn as sns\n",
    "import pickle\n",
    "\n",
    "%matplotlib inline\n",
    "plt.style.use('seaborn')\n",
    "\n",
    "import warnings\n",
    "warnings.filterwarnings('ignore')"
   ]
  },
  {
   "cell_type": "markdown",
   "metadata": {},
   "source": [
    "### Import data"
   ]
  },
  {
   "cell_type": "markdown",
   "metadata": {},
   "source": [
    "Twitter Developer Account. In order to get access to the Tweepy API, it is important for you to create a developer account and this account must be approved from twitter"
   ]
  },
  {
   "cell_type": "code",
   "execution_count": 3,
   "metadata": {},
   "outputs": [],
   "source": [
    "# API Key 6KPXPFCK6onmG3cwmjKGtOkOu\n",
    "# API Key Secret bvuImdz4iU2qDJUv1ahhHjnitjeicAGqmKyeEaHCuliNKQPKwT\n",
    "# Bearer Token AAAAAAAAAAAAAAAAAAAAANKlYQEAAAAAfyLY5%2BSs7kv1yeU3HMjAxraIgw8%3DUjt8YUco55e0tbCnTFp5a7O9czbvMOdVd4Dpun84eadnhUUPNN\n",
    "# Access token 1164950589874278402-lG5bB2Ai13YmvOZfXV9ZKA4CqA2ZFh\n",
    "# Access token secret FPOImd2yoHDoUYauiCK3u38MpSrJVf3y8l5TIOAbwm0I2"
   ]
  },
  {
   "cell_type": "code",
   "execution_count": null,
   "metadata": {},
   "outputs": [],
   "source": []
  }
 ],
 "metadata": {
  "kernelspec": {
   "display_name": "learn-env",
   "language": "python",
   "name": "learn-env"
  },
  "language_info": {
   "codemirror_mode": {
    "name": "ipython",
    "version": 3
   },
   "file_extension": ".py",
   "mimetype": "text/x-python",
   "name": "python",
   "nbconvert_exporter": "python",
   "pygments_lexer": "ipython3",
   "version": "3.6.9"
  }
 },
 "nbformat": 4,
 "nbformat_minor": 4
}
