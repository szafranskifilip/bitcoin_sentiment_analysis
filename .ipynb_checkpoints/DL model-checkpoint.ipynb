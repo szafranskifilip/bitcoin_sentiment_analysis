{
 "cells": [
  {
   "cell_type": "code",
   "execution_count": 1,
   "id": "b18807bb-1cb0-401b-9c19-7244063256b3",
   "metadata": {},
   "outputs": [
    {
     "name": "stderr",
     "output_type": "stream",
     "text": [
      "[nltk_data] Downloading package stopwords to\n",
      "[nltk_data]     /Users/filipszafranski/nltk_data...\n",
      "[nltk_data]   Package stopwords is already up-to-date!\n",
      "[nltk_data] Downloading package punkt to\n",
      "[nltk_data]     /Users/filipszafranski/nltk_data...\n",
      "[nltk_data]   Package punkt is already up-to-date!\n"
     ]
    }
   ],
   "source": [
    "#Import libraries\n",
    "import nltk\n",
    "nltk.download('stopwords')\n",
    "nltk.download('punkt')\n",
    "from nltk.corpus import stopwords\n",
    "from nltk import word_tokenize, FreqDist\n",
    "\n",
    "import string\n",
    "\n",
    "from sklearn.feature_extraction.text import TfidfVectorizer, CountVectorizer, TfidfTransformer\n",
    "from sklearn.pipeline import Pipeline\n",
    "from sklearn.metrics import accuracy_score\n",
    "from sklearn.datasets import fetch_20newsgroups\n",
    "from sklearn.ensemble import RandomForestClassifier\n",
    "from sklearn.naive_bayes import MultinomialNB\n",
    "from sklearn.model_selection import train_test_split\n",
    "from sklearn import preprocessing\n",
    "from sklearn.utils.multiclass import unique_labels\n",
    "from sklearn.utils.class_weight import compute_class_weight\n",
    "from sklearn.metrics import confusion_matrix\n",
    "\n",
    "\n",
    "import matplotlib.pyplot as plt\n",
    "import pandas as pd\n",
    "import numpy as np\n",
    "import seaborn as sns\n",
    "\n",
    "# from keras.utils import to_categorical\n",
    "# from keras.preprocessing.sequence import pad_sequences\n",
    "# from keras.preprocessing.text import Tokenizer\n",
    "# from keras import models\n",
    "# from keras import layers\n",
    "# from keras import optimizers\n",
    "# from keras.layers import Dense, Dropout, Embedding, LSTM, GlobalMaxPooling1D, SpatialDropout1D\n",
    "\n",
    "import gensim\n",
    "from gensim.models import Word2Vec\n",
    "\n",
    "np.random.seed(0)\n",
    "\n",
    "%matplotlib inline\n",
    "plt.style.use('seaborn')\n",
    "\n",
    "import warnings\n",
    "warnings.filterwarnings('ignore')"
   ]
  },
  {
   "cell_type": "code",
   "execution_count": null,
   "id": "ae9effca-50b1-4f3a-a412-17ab0ac35634",
   "metadata": {},
   "outputs": [],
   "source": []
  },
  {
   "cell_type": "markdown",
   "id": "b3e80f12-3052-4081-a295-8a06a08b4af5",
   "metadata": {},
   "source": [
    "### Read and Load the Dataset"
   ]
  },
  {
   "cell_type": "code",
   "execution_count": 2,
   "id": "0ea12850-6122-453a-a3d9-2c086e5d3e32",
   "metadata": {},
   "outputs": [
    {
     "data": {
      "text/html": [
       "<div>\n",
       "<style scoped>\n",
       "    .dataframe tbody tr th:only-of-type {\n",
       "        vertical-align: middle;\n",
       "    }\n",
       "\n",
       "    .dataframe tbody tr th {\n",
       "        vertical-align: top;\n",
       "    }\n",
       "\n",
       "    .dataframe thead th {\n",
       "        text-align: right;\n",
       "    }\n",
       "</style>\n",
       "<table border=\"1\" class=\"dataframe\">\n",
       "  <thead>\n",
       "    <tr style=\"text-align: right;\">\n",
       "      <th></th>\n",
       "      <th>text</th>\n",
       "      <th>label</th>\n",
       "    </tr>\n",
       "  </thead>\n",
       "  <tbody>\n",
       "    <tr>\n",
       "      <th>0</th>\n",
       "      <td>@FamiLee_Farm @0xBingBong I first dissented in...</td>\n",
       "      <td>negative</td>\n",
       "    </tr>\n",
       "    <tr>\n",
       "      <th>1</th>\n",
       "      <td>A disaster.\\n\\nThe sooner aid agencies worldwi...</td>\n",
       "      <td>negative</td>\n",
       "    </tr>\n",
       "    <tr>\n",
       "      <th>2</th>\n",
       "      <td>With the very real threat of the government tr...</td>\n",
       "      <td>negative</td>\n",
       "    </tr>\n",
       "    <tr>\n",
       "      <th>3</th>\n",
       "      <td>Bitcoin mining's energy use has more than trip...</td>\n",
       "      <td>neutral</td>\n",
       "    </tr>\n",
       "    <tr>\n",
       "      <th>4</th>\n",
       "      <td>Tori Zero NFT Project Launched a Joint Coopera...</td>\n",
       "      <td>positive</td>\n",
       "    </tr>\n",
       "  </tbody>\n",
       "</table>\n",
       "</div>"
      ],
      "text/plain": [
       "                                                text     label\n",
       "0  @FamiLee_Farm @0xBingBong I first dissented in...  negative\n",
       "1  A disaster.\\n\\nThe sooner aid agencies worldwi...  negative\n",
       "2  With the very real threat of the government tr...  negative\n",
       "3  Bitcoin mining's energy use has more than trip...   neutral\n",
       "4  Tori Zero NFT Project Launched a Joint Coopera...  positive"
      ]
     },
     "execution_count": 2,
     "metadata": {},
     "output_type": "execute_result"
    }
   ],
   "source": [
    "# Upload datasets\n",
    "df = pd.read_csv('data/tweet_labeled.csv', encoding = 'unicode_escape')\n",
    "df.head()"
   ]
  },
  {
   "cell_type": "markdown",
   "id": "f2b207f1-1a93-4547-9ded-26a5f8b73124",
   "metadata": {},
   "source": [
    "### Exploratory Data Analysis"
   ]
  },
  {
   "cell_type": "code",
   "execution_count": 3,
   "id": "280df649-aae9-4f4a-a67b-ecde25001868",
   "metadata": {},
   "outputs": [
    {
     "name": "stdout",
     "output_type": "stream",
     "text": [
      "<class 'pandas.core.frame.DataFrame'>\n",
      "RangeIndex: 4766 entries, 0 to 4765\n",
      "Data columns (total 2 columns):\n",
      " #   Column  Non-Null Count  Dtype \n",
      "---  ------  --------------  ----- \n",
      " 0   text    4766 non-null   object\n",
      " 1   label   4766 non-null   object\n",
      "dtypes: object(2)\n",
      "memory usage: 74.6+ KB\n"
     ]
    }
   ],
   "source": [
    "df.info()"
   ]
  },
  {
   "cell_type": "code",
   "execution_count": 4,
   "id": "602f9eff-266d-416e-adf3-3cdc10d5668e",
   "metadata": {},
   "outputs": [
    {
     "data": {
      "text/plain": [
       "array(['negative', 'neutral', 'positive'], dtype=object)"
      ]
     },
     "execution_count": 4,
     "metadata": {},
     "output_type": "execute_result"
    }
   ],
   "source": [
    "#Unique target variables\n",
    "df['label'].unique()"
   ]
  },
  {
   "cell_type": "code",
   "execution_count": 5,
   "id": "df002e35-d6aa-4bd4-bc83-679513336045",
   "metadata": {},
   "outputs": [
    {
     "data": {
      "image/png": "[encoded data removed]",
      "text/plain": [
       "<Figure size 576x396 with 1 Axes>"
      ]
     },
     "metadata": {},
     "output_type": "display_data"
    }
   ],
   "source": [
    "#Visualization of target variables\n",
    "df['label'].value_counts().plot(kind='bar');"
   ]
  },
  {
   "cell_type": "markdown",
   "id": "fca3a08c-7848-4709-8134-ae293130c9ef",
   "metadata": {},
   "source": [
    "### Cleaning and Preprocessing Data"
   ]
  },
  {
   "cell_type": "markdown",
   "id": "b3edacdf-d53e-47ab-92bf-0387dce4f267",
   "metadata": {},
   "source": [
    "#### Break apart the data and the labels, and then inspect the class names"
   ]
  },
  {
   "cell_type": "code",
   "execution_count": 6,
   "id": "0b53ab64-21de-45ca-9dd4-64a6a5db681f",
   "metadata": {},
   "outputs": [],
   "source": [
    "#Break apart the data and labels by dropping columns\n",
    "data = df.drop(columns=['label'])\n",
    "target = df.drop(columns=['text'])"
   ]
  },
  {
   "cell_type": "code",
   "execution_count": 7,
   "id": "eae94f3b-d035-4dee-b387-c35feb922d52",
   "metadata": {},
   "outputs": [
    {
     "name": "stdout",
     "output_type": "stream",
     "text": [
      "{0: 'negative', 1: 'neutral', 2: 'positive'}\n"
     ]
    }
   ],
   "source": [
    "#Check values for target encoding\n",
    "c = target.label.astype('category')\n",
    "label_names = dict(enumerate(c.cat.categories))\n",
    "print (label_names)"
   ]
  },
  {
   "cell_type": "code",
   "execution_count": 8,
   "id": "13174465-a185-42dc-af36-3b9e8114ccad",
   "metadata": {},
   "outputs": [],
   "source": [
    "#Change type of column\n",
    "#https://pandas.pydata.org/pandas-docs/version/0.23/generated/pandas.Categorical.html\n",
    "target['label'] = pd.Categorical(target['label'])"
   ]
  },
  {
   "cell_type": "code",
   "execution_count": 9,
   "id": "e2aab3a5-7c29-42ad-828c-99253bbb1e70",
   "metadata": {},
   "outputs": [],
   "source": [
    "#Encode labels as per dictonary above\n",
    "target['label'] = target['label'].cat.codes"
   ]
  },
  {
   "cell_type": "code",
   "execution_count": 10,
   "id": "c9e9802a-6402-44c1-bfc6-e58ef795e17b",
   "metadata": {},
   "outputs": [
    {
     "data": {
      "text/plain": [
       "[0, 1, 2]"
      ]
     },
     "execution_count": 10,
     "metadata": {},
     "output_type": "execute_result"
    }
   ],
   "source": [
    "class_names = list(label_names.keys())\n",
    "class_names"
   ]
  },
  {
   "cell_type": "code",
   "execution_count": 11,
   "id": "3bd3876b-ebdd-4d31-98a7-94a2bda6b5b3",
   "metadata": {},
   "outputs": [
    {
     "name": "stdout",
     "output_type": "stream",
     "text": [
      "[1.21550625 1.15287857 0.76341502]\n"
     ]
    }
   ],
   "source": [
    "#Address class weight imbalance by providing class weights with sklearn compute_class_weight function\n",
    "class_weights = compute_class_weight('balanced', class_names, target['label'])\n",
    "print(class_weights)"
   ]
  },
  {
   "cell_type": "markdown",
   "id": "528d5600-1d5a-4854-8b26-146708fe86a5",
   "metadata": {},
   "source": [
    "#### List of stopwords"
   ]
  },
  {
   "cell_type": "code",
   "execution_count": 12,
   "id": "b942c18e-5f78-4909-adb0-665cac7c0b65",
   "metadata": {},
   "outputs": [],
   "source": [
    "# #### Getting a list of all of the english stopwords, and concatenating them with a list of all the punctuation.\n",
    "stopwords_list = stopwords.words('english') + list(string.punctuation)\n",
    "stopwords_list += [\"''\", '\"\"', '...', '``', \"'s\"]"
   ]
  },
  {
   "cell_type": "code",
   "execution_count": 13,
   "id": "eeb01a24-e590-4350-bc93-b27c571604eb",
   "metadata": {},
   "outputs": [],
   "source": [
    "#Define function that returns tokenized lowercased tweet without stopwords\n",
    "def process_tweet(tweet):\n",
    "    tokens = nltk.word_tokenize(tweet)\n",
    "    stopwords_removed = [token.lower() for token in tokens if token.lower() not in stopwords_list]\n",
    "    return stopwords_removed"
   ]
  },
  {
   "cell_type": "code",
   "execution_count": 14,
   "id": "081c2c44-bf0d-4d85-a81c-e4f825a4784c",
   "metadata": {},
   "outputs": [
    {
     "data": {
      "text/plain": [
       "['familee_farm',\n",
       " '0xbingbong',\n",
       " 'first',\n",
       " 'dissented',\n",
       " '2018',\n",
       " 'spot',\n",
       " 'bitcoin',\n",
       " 'etp',\n",
       " 'denial',\n",
       " '4',\n",
       " 'years',\n",
       " 'later',\n",
       " 'still',\n",
       " 'approval',\n",
       " 'sec',\n",
       " 'remains',\n",
       " 'mired',\n",
       " 'unbounded',\n",
       " 'dangerous',\n",
       " 'territory',\n",
       " 'merit',\n",
       " 'regulation',\n",
       " 'commission',\n",
       " 'ill-equipped',\n",
       " 'https',\n",
       " '//t.co/stmetrqpqn']"
      ]
     },
     "execution_count": 14,
     "metadata": {},
     "output_type": "execute_result"
    }
   ],
   "source": [
    "#Check how removing stopwords works\n",
    "process_tweet(data.text[0])"
   ]
  },
  {
   "cell_type": "markdown",
   "id": "2be73b17-0912-4dfb-853e-cdffe07d159e",
   "metadata": {},
   "source": [
    "#### Check tweet lenghts distrubution and max value"
   ]
  },
  {
   "cell_type": "code",
   "execution_count": 32,
   "id": "505dc8c3-179e-4fce-8e76-83b508641c1c",
   "metadata": {},
   "outputs": [
    {
     "ename": "NameError",
     "evalue": "name 'Tokenizer' is not defined",
     "output_type": "error",
     "traceback": [
      "\u001b[0;31m---------------------------------------------------------------------------\u001b[0m",
      "\u001b[0;31mNameError\u001b[0m                                 Traceback (most recent call last)",
      "\u001b[0;32m/var/folders/l2/k0kzp4_94t124f1tz8_9bd9r0000gn/T/ipykernel_76194/1114155962.py\u001b[0m in \u001b[0;36m<module>\u001b[0;34m\u001b[0m\n\u001b[1;32m      1\u001b[0m \u001b[0;31m# Convert training data into tensors to feed into neural net\u001b[0m\u001b[0;34m\u001b[0m\u001b[0;34m\u001b[0m\u001b[0m\n\u001b[1;32m      2\u001b[0m \u001b[0;31m# create tokenizer\u001b[0m\u001b[0;34m\u001b[0m\u001b[0;34m\u001b[0m\u001b[0m\n\u001b[0;32m----> 3\u001b[0;31m \u001b[0mt\u001b[0m \u001b[0;34m=\u001b[0m \u001b[0mTokenizer\u001b[0m\u001b[0;34m(\u001b[0m\u001b[0;34m)\u001b[0m\u001b[0;34m\u001b[0m\u001b[0;34m\u001b[0m\u001b[0m\n\u001b[0m\u001b[1;32m      4\u001b[0m \u001b[0mt\u001b[0m\u001b[0;34m.\u001b[0m\u001b[0mfit_on_texts\u001b[0m\u001b[0;34m(\u001b[0m\u001b[0mdata\u001b[0m\u001b[0;34m[\u001b[0m\u001b[0;34m'text'\u001b[0m\u001b[0;34m]\u001b[0m\u001b[0;34m)\u001b[0m\u001b[0;34m\u001b[0m\u001b[0;34m\u001b[0m\u001b[0m\n",
      "\u001b[0;31mNameError\u001b[0m: name 'Tokenizer' is not defined"
     ]
    }
   ],
   "source": [
    "# Convert training data into tensors to feed into neural net\n",
    "# create tokenizer\n",
    "t = Tokenizer()\n",
    "t.fit_on_texts(data['text'])"
   ]
  },
  {
   "cell_type": "code",
   "execution_count": 43,
   "id": "ccf58d1e-ffff-4394-954a-8fb98c0ebe0d",
   "metadata": {},
   "outputs": [],
   "source": [
    "# Find number of unique words in our tweets\n",
    "vocab_size = len(t.word_index) + 1"
   ]
  },
  {
   "cell_type": "code",
   "execution_count": 44,
   "id": "dca65a12-8f2f-4536-931c-bf1faad93f46",
   "metadata": {},
   "outputs": [],
   "source": [
    "# integer encode everything\n",
    "sequences = t.texts_to_sequences(data['tweet_text'])"
   ]
  },
  {
   "cell_type": "code",
   "execution_count": 45,
   "id": "bd658757-17ba-469f-b47b-d50b7c65e12d",
   "metadata": {},
   "outputs": [],
   "source": [
    "# Find longest tweet in sequences\n",
    "def max_tweet():\n",
    "    for i in range(1, len(sequences)):\n",
    "        max_length = len(sequences[0])\n",
    "        if len(sequences[i]) > max_length:\n",
    "            max_length = len(sequences[i])\n",
    "    return max_length"
   ]
  },
  {
   "cell_type": "code",
   "execution_count": 46,
   "id": "0fb4cc24-8d0f-460a-86e7-9d798fc93a71",
   "metadata": {},
   "outputs": [
    {
     "data": {
      "text/plain": [
       "24"
      ]
     },
     "execution_count": 46,
     "metadata": {},
     "output_type": "execute_result"
    }
   ],
   "source": [
    "max_tweet_len = max_tweet()\n",
    "max_tweet_len"
   ]
  },
  {
   "cell_type": "code",
   "execution_count": 47,
   "id": "ecdf59ce-d95d-4002-901f-0ddf4bad3403",
   "metadata": {},
   "outputs": [],
   "source": [
    "#Truncate and pad input sequences to be all the same lenght vectors\n",
    "padded_data = pad_sequences(sequences, maxlen=max_tweet_len)"
   ]
  },
  {
   "cell_type": "code",
   "execution_count": 48,
   "id": "1364979c-4ea8-436d-9d0e-3bebe5c1e0d3",
   "metadata": {},
   "outputs": [
    {
     "data": {
      "text/plain": [
       "array([[5869,   23,   51, ..., 3955,    6,    1],\n",
       "       [   0,    0, 5870, ..., 3956,    6,    1],\n",
       "       [   0,    0,    0, ...,  208,    6,    1],\n",
       "       ...,\n",
       "       [   0,    0,  110, ...,   16,    1, 2452],\n",
       "       [   0,  157,  687, ...,  143, 2546,    1],\n",
       "       [   0,    0,    0, ...,    6,    1,    4]], dtype=int32)"
      ]
     },
     "execution_count": 48,
     "metadata": {},
     "output_type": "execute_result"
    }
   ],
   "source": [
    "padded_data"
   ]
  },
  {
   "cell_type": "code",
   "execution_count": 49,
   "id": "c2733af8-ff65-4459-87fa-34e7dc857f6d",
   "metadata": {},
   "outputs": [],
   "source": [
    "X_train, X_test, y_train, y_test = train_test_split(padded_data, target, test_size = 0.2, random_state = 0)"
   ]
  },
  {
   "cell_type": "code",
   "execution_count": 50,
   "id": "7be27f6f-608f-43fb-8ff6-6d568df8050b",
   "metadata": {},
   "outputs": [],
   "source": [
    "y_train = to_categorical(y_train)\n",
    "y_test = to_categorical(y_test)"
   ]
  },
  {
   "cell_type": "code",
   "execution_count": 51,
   "id": "e7d02be3-9948-4b74-998d-41758f9e2aa4",
   "metadata": {},
   "outputs": [
    {
     "name": "stdout",
     "output_type": "stream",
     "text": [
      "X_train size: (7273, 24)\n",
      "y_train size: (7273, 3)\n",
      "X_test size: (1819, 24)\n",
      "y_test size: (1819, 3)\n"
     ]
    }
   ],
   "source": [
    "# Size of train and test datasets\n",
    "print('X_train size:', X_train.shape)\n",
    "print('y_train size:', y_train.shape)\n",
    "print('X_test size:', X_test.shape)\n",
    "print('y_test size:', y_test.shape)"
   ]
  }
 ],
 "metadata": {
  "kernelspec": {
   "display_name": "learn_env",
   "language": "python",
   "name": "learn_env"
  },
  "language_info": {
   "codemirror_mode": {
    "name": "ipython",
    "version": 3
   },
   "file_extension": ".py",
   "mimetype": "text/x-python",
   "name": "python",
   "nbconvert_exporter": "python",
   "pygments_lexer": "ipython3",
   "version": "3.9.7"
  }
 },
 "nbformat": 4,
 "nbformat_minor": 5
}
