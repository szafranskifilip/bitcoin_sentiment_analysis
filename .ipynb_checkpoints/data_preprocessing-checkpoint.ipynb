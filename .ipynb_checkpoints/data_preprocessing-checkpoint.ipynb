{
 "cells": [
  {
   "cell_type": "markdown",
   "metadata": {},
   "source": [
    "# Data Processing"
   ]
  },
  {
   "cell_type": "markdown",
   "metadata": {},
   "source": [
    "## Import libraries"
   ]
  },
  {
   "cell_type": "code",
   "execution_count": 2,
   "metadata": {},
   "outputs": [],
   "source": [
    "import pandas as pd\n",
    "import numpy as np\n",
    "\n",
    "from sklearn.preprocessing import StandardScaler\n",
    "from sklearn.model_selection import train_test_split, GridSearchCV, cross_val_score\n",
    "import matplotlib.pyplot as plt\n",
    "import seaborn as sns\n",
    "import pickle\n",
    "import requests\n",
    "\n",
    "from vaderSentiment.vaderSentiment import SentimentIntensityAnalyzer\n",
    "\n",
    "%matplotlib inline\n",
    "plt.style.use('seaborn')\n",
    "\n",
    "import warnings\n",
    "warnings.filterwarnings('ignore')"
   ]
  },
  {
   "cell_type": "markdown",
   "metadata": {},
   "source": [
    "## Import csv to DataFrame"
   ]
  },
  {
   "cell_type": "markdown",
   "metadata": {},
   "source": [
    "#### Tweets data"
   ]
  },
  {
   "cell_type": "code",
   "execution_count": 3,
   "metadata": {},
   "outputs": [
    {
     "data": {
      "text/html": [
       "<div>\n",
       "<style scoped>\n",
       "    .dataframe tbody tr th:only-of-type {\n",
       "        vertical-align: middle;\n",
       "    }\n",
       "\n",
       "    .dataframe tbody tr th {\n",
       "        vertical-align: top;\n",
       "    }\n",
       "\n",
       "    .dataframe thead th {\n",
       "        text-align: right;\n",
       "    }\n",
       "</style>\n",
       "<table border=\"1\" class=\"dataframe\">\n",
       "  <thead>\n",
       "    <tr style=\"text-align: right;\">\n",
       "      <th></th>\n",
       "      <th>item.id</th>\n",
       "      <th>item.author_id</th>\n",
       "      <th>item.created_at</th>\n",
       "      <th>item.source</th>\n",
       "      <th>item.public_metrics[\"retweet_count\"]</th>\n",
       "      <th>item.public_metrics[\"reply_count\"]</th>\n",
       "      <th>item.public_metrics[\"like_count\"]</th>\n",
       "      <th>item.public_metrics[\"like_count\"].1</th>\n",
       "      <th>item.text</th>\n",
       "    </tr>\n",
       "  </thead>\n",
       "  <tbody>\n",
       "    <tr>\n",
       "      <th>0</th>\n",
       "      <td>1487185499915706371</td>\n",
       "      <td>613649581</td>\n",
       "      <td>2022-01-28 22:07:08+00:00</td>\n",
       "      <td>Twitter Web App</td>\n",
       "      <td>0</td>\n",
       "      <td>2</td>\n",
       "      <td>2</td>\n",
       "      <td>2</td>\n",
       "      <td>@FamiLee_Farm @0xBingBong I first dissented in...</td>\n",
       "    </tr>\n",
       "    <tr>\n",
       "      <th>1</th>\n",
       "      <td>1487185295757905920</td>\n",
       "      <td>19721574</td>\n",
       "      <td>2022-01-28 22:06:19+00:00</td>\n",
       "      <td>Twitter for iPhone</td>\n",
       "      <td>22</td>\n",
       "      <td>7</td>\n",
       "      <td>105</td>\n",
       "      <td>105</td>\n",
       "      <td>A disaster.\\n\\nThe sooner aid agencies worldwi...</td>\n",
       "    </tr>\n",
       "  </tbody>\n",
       "</table>\n",
       "</div>"
      ],
      "text/plain": [
       "               item.id  item.author_id            item.created_at  \\\n",
       "0  1487185499915706371       613649581  2022-01-28 22:07:08+00:00   \n",
       "1  1487185295757905920        19721574  2022-01-28 22:06:19+00:00   \n",
       "\n",
       "          item.source  item.public_metrics[\"retweet_count\"]  \\\n",
       "0     Twitter Web App                                     0   \n",
       "1  Twitter for iPhone                                    22   \n",
       "\n",
       "   item.public_metrics[\"reply_count\"]  item.public_metrics[\"like_count\"]  \\\n",
       "0                                   2                                  2   \n",
       "1                                   7                                105   \n",
       "\n",
       "   item.public_metrics[\"like_count\"].1  \\\n",
       "0                                    2   \n",
       "1                                  105   \n",
       "\n",
       "                                           item.text  \n",
       "0  @FamiLee_Farm @0xBingBong I first dissented in...  \n",
       "1  A disaster.\\n\\nThe sooner aid agencies worldwi...  "
      ]
     },
     "execution_count": 3,
     "metadata": {},
     "output_type": "execute_result"
    }
   ],
   "source": [
    "df_tweets = pd.read_csv('api_csv/tweets_results.csv')\n",
    "df_tweets.head(2)"
   ]
  },
  {
   "cell_type": "code",
   "execution_count": 4,
   "metadata": {},
   "outputs": [
    {
     "name": "stdout",
     "output_type": "stream",
     "text": [
      "<class 'pandas.core.frame.DataFrame'>\n",
      "RangeIndex: 4766 entries, 0 to 4765\n",
      "Data columns (total 9 columns):\n",
      " #   Column                                Non-Null Count  Dtype \n",
      "---  ------                                --------------  ----- \n",
      " 0   item.id                               4766 non-null   int64 \n",
      " 1   item.author_id                        4766 non-null   int64 \n",
      " 2   item.created_at                       4766 non-null   object\n",
      " 3   item.source                           4766 non-null   object\n",
      " 4   item.public_metrics[\"retweet_count\"]  4766 non-null   int64 \n",
      " 5   item.public_metrics[\"reply_count\"]    4766 non-null   int64 \n",
      " 6   item.public_metrics[\"like_count\"]     4766 non-null   int64 \n",
      " 7   item.public_metrics[\"like_count\"].1   4766 non-null   int64 \n",
      " 8   item.text                             4766 non-null   object\n",
      "dtypes: int64(6), object(3)\n",
      "memory usage: 335.2+ KB\n"
     ]
    }
   ],
   "source": [
    "df_tweets.info()"
   ]
  },
  {
   "cell_type": "code",
   "execution_count": 5,
   "metadata": {},
   "outputs": [],
   "source": [
    "#Remove duplicated columns\n",
    "df_tweets.drop(columns=['item.public_metrics[\"like_count\"].1'], inplace=True)"
   ]
  },
  {
   "cell_type": "code",
   "execution_count": 6,
   "metadata": {},
   "outputs": [
    {
     "data": {
      "text/html": [
       "<div>\n",
       "<style scoped>\n",
       "    .dataframe tbody tr th:only-of-type {\n",
       "        vertical-align: middle;\n",
       "    }\n",
       "\n",
       "    .dataframe tbody tr th {\n",
       "        vertical-align: top;\n",
       "    }\n",
       "\n",
       "    .dataframe thead th {\n",
       "        text-align: right;\n",
       "    }\n",
       "</style>\n",
       "<table border=\"1\" class=\"dataframe\">\n",
       "  <thead>\n",
       "    <tr style=\"text-align: right;\">\n",
       "      <th></th>\n",
       "      <th>tweet_id</th>\n",
       "      <th>author_id</th>\n",
       "      <th>created_at</th>\n",
       "      <th>source</th>\n",
       "      <th>retweet_count</th>\n",
       "      <th>reply_count</th>\n",
       "      <th>like_count</th>\n",
       "      <th>text</th>\n",
       "    </tr>\n",
       "  </thead>\n",
       "  <tbody>\n",
       "    <tr>\n",
       "      <th>0</th>\n",
       "      <td>1487185499915706371</td>\n",
       "      <td>613649581</td>\n",
       "      <td>2022-01-28 22:07:08+00:00</td>\n",
       "      <td>Twitter Web App</td>\n",
       "      <td>0</td>\n",
       "      <td>2</td>\n",
       "      <td>2</td>\n",
       "      <td>@FamiLee_Farm @0xBingBong I first dissented in...</td>\n",
       "    </tr>\n",
       "    <tr>\n",
       "      <th>1</th>\n",
       "      <td>1487185295757905920</td>\n",
       "      <td>19721574</td>\n",
       "      <td>2022-01-28 22:06:19+00:00</td>\n",
       "      <td>Twitter for iPhone</td>\n",
       "      <td>22</td>\n",
       "      <td>7</td>\n",
       "      <td>105</td>\n",
       "      <td>A disaster.\\n\\nThe sooner aid agencies worldwi...</td>\n",
       "    </tr>\n",
       "    <tr>\n",
       "      <th>2</th>\n",
       "      <td>1487184488719269890</td>\n",
       "      <td>21230289</td>\n",
       "      <td>2022-01-28 22:03:07+00:00</td>\n",
       "      <td>Twitter Web App</td>\n",
       "      <td>17</td>\n",
       "      <td>7</td>\n",
       "      <td>40</td>\n",
       "      <td>With the very real threat of the government tr...</td>\n",
       "    </tr>\n",
       "    <tr>\n",
       "      <th>3</th>\n",
       "      <td>1487184473670180870</td>\n",
       "      <td>970207298</td>\n",
       "      <td>2022-01-28 22:03:03+00:00</td>\n",
       "      <td>Twitter Web App</td>\n",
       "      <td>192</td>\n",
       "      <td>233</td>\n",
       "      <td>886</td>\n",
       "      <td>Bitcoin mining's energy use has more than trip...</td>\n",
       "    </tr>\n",
       "    <tr>\n",
       "      <th>4</th>\n",
       "      <td>1487184321022767115</td>\n",
       "      <td>3367334171</td>\n",
       "      <td>2022-01-28 22:02:27+00:00</td>\n",
       "      <td>Zapier.com</td>\n",
       "      <td>21</td>\n",
       "      <td>11</td>\n",
       "      <td>49</td>\n",
       "      <td>Tori Zero NFT Project Launched a Joint Coopera...</td>\n",
       "    </tr>\n",
       "  </tbody>\n",
       "</table>\n",
       "</div>"
      ],
      "text/plain": [
       "              tweet_id   author_id                 created_at  \\\n",
       "0  1487185499915706371   613649581  2022-01-28 22:07:08+00:00   \n",
       "1  1487185295757905920    19721574  2022-01-28 22:06:19+00:00   \n",
       "2  1487184488719269890    21230289  2022-01-28 22:03:07+00:00   \n",
       "3  1487184473670180870   970207298  2022-01-28 22:03:03+00:00   \n",
       "4  1487184321022767115  3367334171  2022-01-28 22:02:27+00:00   \n",
       "\n",
       "               source  retweet_count  reply_count  like_count  \\\n",
       "0     Twitter Web App              0            2           2   \n",
       "1  Twitter for iPhone             22            7         105   \n",
       "2     Twitter Web App             17            7          40   \n",
       "3     Twitter Web App            192          233         886   \n",
       "4          Zapier.com             21           11          49   \n",
       "\n",
       "                                                text  \n",
       "0  @FamiLee_Farm @0xBingBong I first dissented in...  \n",
       "1  A disaster.\\n\\nThe sooner aid agencies worldwi...  \n",
       "2  With the very real threat of the government tr...  \n",
       "3  Bitcoin mining's energy use has more than trip...  \n",
       "4  Tori Zero NFT Project Launched a Joint Coopera...  "
      ]
     },
     "execution_count": 6,
     "metadata": {},
     "output_type": "execute_result"
    }
   ],
   "source": [
    "#Update column names\n",
    "df_tweets.columns = ['tweet_id', \n",
    "              'author_id', \n",
    "              'created_at', \n",
    "              'source', \n",
    "              'retweet_count', \n",
    "              'reply_count', \n",
    "              'like_count', \n",
    "              'text']\n",
    "df_tweets.head()"
   ]
  },
  {
   "cell_type": "markdown",
   "metadata": {},
   "source": [
    "#### Authors data"
   ]
  },
  {
   "cell_type": "code",
   "execution_count": 10,
   "metadata": {},
   "outputs": [
    {
     "data": {
      "text/html": [
       "<div>\n",
       "<style scoped>\n",
       "    .dataframe tbody tr th:only-of-type {\n",
       "        vertical-align: middle;\n",
       "    }\n",
       "\n",
       "    .dataframe tbody tr th {\n",
       "        vertical-align: top;\n",
       "    }\n",
       "\n",
       "    .dataframe thead th {\n",
       "        text-align: right;\n",
       "    }\n",
       "</style>\n",
       "<table border=\"1\" class=\"dataframe\">\n",
       "  <thead>\n",
       "    <tr style=\"text-align: right;\">\n",
       "      <th></th>\n",
       "      <th>item.name</th>\n",
       "      <th>item.id</th>\n",
       "      <th>item.username</th>\n",
       "      <th>item.public_metrics[\"followers_count\"]</th>\n",
       "      <th>item.public_metrics[\"following_count\"]</th>\n",
       "      <th>item.public_metrics[\"tweet_count\"]</th>\n",
       "      <th>item.public_metrics[\"listed_count\"]</th>\n",
       "    </tr>\n",
       "  </thead>\n",
       "  <tbody>\n",
       "    <tr>\n",
       "      <th>0</th>\n",
       "      <td>Hester Peirce</td>\n",
       "      <td>613649581</td>\n",
       "      <td>HesterPeirce</td>\n",
       "      <td>79198</td>\n",
       "      <td>917</td>\n",
       "      <td>1562</td>\n",
       "      <td>851</td>\n",
       "    </tr>\n",
       "    <tr>\n",
       "      <th>1</th>\n",
       "      <td>Alex Gladstein 🌋 ⚡</td>\n",
       "      <td>19721574</td>\n",
       "      <td>gladstein</td>\n",
       "      <td>159098</td>\n",
       "      <td>2704</td>\n",
       "      <td>76435</td>\n",
       "      <td>2001</td>\n",
       "    </tr>\n",
       "  </tbody>\n",
       "</table>\n",
       "</div>"
      ],
      "text/plain": [
       "            item.name    item.id item.username  \\\n",
       "0       Hester Peirce  613649581  HesterPeirce   \n",
       "1  Alex Gladstein 🌋 ⚡   19721574     gladstein   \n",
       "\n",
       "   item.public_metrics[\"followers_count\"]  \\\n",
       "0                                   79198   \n",
       "1                                  159098   \n",
       "\n",
       "   item.public_metrics[\"following_count\"]  item.public_metrics[\"tweet_count\"]  \\\n",
       "0                                     917                                1562   \n",
       "1                                    2704                               76435   \n",
       "\n",
       "   item.public_metrics[\"listed_count\"]  \n",
       "0                                  851  \n",
       "1                                 2001  "
      ]
     },
     "execution_count": 10,
     "metadata": {},
     "output_type": "execute_result"
    }
   ],
   "source": [
    "df_author = pd.read_csv('api_csv/author_results.csv')\n",
    "df_author.head(2)"
   ]
  },
  {
   "cell_type": "code",
   "execution_count": 11,
   "metadata": {},
   "outputs": [
    {
     "name": "stdout",
     "output_type": "stream",
     "text": [
      "<class 'pandas.core.frame.DataFrame'>\n",
      "RangeIndex: 3736 entries, 0 to 3735\n",
      "Data columns (total 7 columns):\n",
      " #   Column                                  Non-Null Count  Dtype \n",
      "---  ------                                  --------------  ----- \n",
      " 0   item.name                               3736 non-null   object\n",
      " 1   item.id                                 3736 non-null   int64 \n",
      " 2   item.username                           3736 non-null   object\n",
      " 3   item.public_metrics[\"followers_count\"]  3736 non-null   int64 \n",
      " 4   item.public_metrics[\"following_count\"]  3736 non-null   int64 \n",
      " 5   item.public_metrics[\"tweet_count\"]      3736 non-null   int64 \n",
      " 6   item.public_metrics[\"listed_count\"]     3736 non-null   int64 \n",
      "dtypes: int64(5), object(2)\n",
      "memory usage: 204.4+ KB\n"
     ]
    }
   ],
   "source": [
    "df_author.info()"
   ]
  },
  {
   "cell_type": "code",
   "execution_count": 12,
   "metadata": {},
   "outputs": [
    {
     "data": {
      "text/html": [
       "<div>\n",
       "<style scoped>\n",
       "    .dataframe tbody tr th:only-of-type {\n",
       "        vertical-align: middle;\n",
       "    }\n",
       "\n",
       "    .dataframe tbody tr th {\n",
       "        vertical-align: top;\n",
       "    }\n",
       "\n",
       "    .dataframe thead th {\n",
       "        text-align: right;\n",
       "    }\n",
       "</style>\n",
       "<table border=\"1\" class=\"dataframe\">\n",
       "  <thead>\n",
       "    <tr style=\"text-align: right;\">\n",
       "      <th></th>\n",
       "      <th>name</th>\n",
       "      <th>author_id</th>\n",
       "      <th>username</th>\n",
       "      <th>followers_count</th>\n",
       "      <th>following_count</th>\n",
       "      <th>tweet_count</th>\n",
       "      <th>listed_count</th>\n",
       "    </tr>\n",
       "  </thead>\n",
       "  <tbody>\n",
       "    <tr>\n",
       "      <th>0</th>\n",
       "      <td>Hester Peirce</td>\n",
       "      <td>613649581</td>\n",
       "      <td>HesterPeirce</td>\n",
       "      <td>79198</td>\n",
       "      <td>917</td>\n",
       "      <td>1562</td>\n",
       "      <td>851</td>\n",
       "    </tr>\n",
       "    <tr>\n",
       "      <th>1</th>\n",
       "      <td>Alex Gladstein 🌋 ⚡</td>\n",
       "      <td>19721574</td>\n",
       "      <td>gladstein</td>\n",
       "      <td>159098</td>\n",
       "      <td>2704</td>\n",
       "      <td>76435</td>\n",
       "      <td>2001</td>\n",
       "    </tr>\n",
       "    <tr>\n",
       "      <th>2</th>\n",
       "      <td>Rodney Glassman</td>\n",
       "      <td>21230289</td>\n",
       "      <td>rodneyglassman</td>\n",
       "      <td>1983</td>\n",
       "      <td>1424</td>\n",
       "      <td>546</td>\n",
       "      <td>107</td>\n",
       "    </tr>\n",
       "    <tr>\n",
       "      <th>3</th>\n",
       "      <td>Elizabeth Warren</td>\n",
       "      <td>970207298</td>\n",
       "      <td>SenWarren</td>\n",
       "      <td>7030559</td>\n",
       "      <td>515</td>\n",
       "      <td>9191</td>\n",
       "      <td>19890</td>\n",
       "    </tr>\n",
       "    <tr>\n",
       "      <th>4</th>\n",
       "      <td>Bitcoin News</td>\n",
       "      <td>3367334171</td>\n",
       "      <td>BTCTN</td>\n",
       "      <td>2312348</td>\n",
       "      <td>921</td>\n",
       "      <td>24849</td>\n",
       "      <td>10327</td>\n",
       "    </tr>\n",
       "  </tbody>\n",
       "</table>\n",
       "</div>"
      ],
      "text/plain": [
       "                 name   author_id       username   followers_count  \\\n",
       "0       Hester Peirce   613649581    HesterPeirce            79198   \n",
       "1  Alex Gladstein 🌋 ⚡    19721574       gladstein           159098   \n",
       "2     Rodney Glassman    21230289  rodneyglassman             1983   \n",
       "3    Elizabeth Warren   970207298       SenWarren          7030559   \n",
       "4        Bitcoin News  3367334171           BTCTN          2312348   \n",
       "\n",
       "   following_count  tweet_count  listed_count  \n",
       "0              917         1562           851  \n",
       "1             2704        76435          2001  \n",
       "2             1424          546           107  \n",
       "3              515         9191         19890  \n",
       "4              921        24849         10327  "
      ]
     },
     "execution_count": 12,
     "metadata": {},
     "output_type": "execute_result"
    }
   ],
   "source": [
    "#Update column names\n",
    "df_author.columns = ['name', \n",
    "              'author_id', \n",
    "              'username ', \n",
    "              'followers_count', \n",
    "              'following_count', \n",
    "              'tweet_count', \n",
    "              'listed_count']\n",
    "df_author.head()"
   ]
  },
  {
   "cell_type": "code",
   "execution_count": 13,
   "metadata": {},
   "outputs": [],
   "source": [
    "df_author.to_csv('data/tweet_author.csv', sep=',', encoding='utf-8', index=False)"
   ]
  },
  {
   "cell_type": "markdown",
   "metadata": {},
   "source": [
    "#### Tweet counts"
   ]
  },
  {
   "cell_type": "code",
   "execution_count": 14,
   "metadata": {},
   "outputs": [
    {
     "data": {
      "text/html": [
       "<div>\n",
       "<style scoped>\n",
       "    .dataframe tbody tr th:only-of-type {\n",
       "        vertical-align: middle;\n",
       "    }\n",
       "\n",
       "    .dataframe tbody tr th {\n",
       "        vertical-align: top;\n",
       "    }\n",
       "\n",
       "    .dataframe thead th {\n",
       "        text-align: right;\n",
       "    }\n",
       "</style>\n",
       "<table border=\"1\" class=\"dataframe\">\n",
       "  <thead>\n",
       "    <tr style=\"text-align: right;\">\n",
       "      <th></th>\n",
       "      <th>start</th>\n",
       "      <th>end</th>\n",
       "      <th>count</th>\n",
       "    </tr>\n",
       "  </thead>\n",
       "  <tbody>\n",
       "    <tr>\n",
       "      <th>0</th>\n",
       "      <td>item.start</td>\n",
       "      <td>item.end</td>\n",
       "      <td>item.tweet_count</td>\n",
       "    </tr>\n",
       "    <tr>\n",
       "      <th>1</th>\n",
       "      <td>2022-01-22T00:09:51.000Z</td>\n",
       "      <td>2022-01-22T01:00:00.000Z</td>\n",
       "      <td>16166</td>\n",
       "    </tr>\n",
       "  </tbody>\n",
       "</table>\n",
       "</div>"
      ],
      "text/plain": [
       "                      start                       end             count\n",
       "0                item.start                  item.end  item.tweet_count\n",
       "1  2022-01-22T00:09:51.000Z  2022-01-22T01:00:00.000Z             16166"
      ]
     },
     "execution_count": 14,
     "metadata": {},
     "output_type": "execute_result"
    }
   ],
   "source": [
    "df_counts = pd.read_csv('api_csv/tweets_counts.csv', names=['start','end', 'count'])\n",
    "df_counts.head(2)"
   ]
  },
  {
   "cell_type": "code",
   "execution_count": 15,
   "metadata": {},
   "outputs": [
    {
     "data": {
      "text/html": [
       "<div>\n",
       "<style scoped>\n",
       "    .dataframe tbody tr th:only-of-type {\n",
       "        vertical-align: middle;\n",
       "    }\n",
       "\n",
       "    .dataframe tbody tr th {\n",
       "        vertical-align: top;\n",
       "    }\n",
       "\n",
       "    .dataframe thead th {\n",
       "        text-align: right;\n",
       "    }\n",
       "</style>\n",
       "<table border=\"1\" class=\"dataframe\">\n",
       "  <thead>\n",
       "    <tr style=\"text-align: right;\">\n",
       "      <th></th>\n",
       "      <th>start</th>\n",
       "      <th>end</th>\n",
       "      <th>count</th>\n",
       "    </tr>\n",
       "  </thead>\n",
       "  <tbody>\n",
       "    <tr>\n",
       "      <th>1</th>\n",
       "      <td>2022-01-22T00:09:51.000Z</td>\n",
       "      <td>2022-01-22T01:00:00.000Z</td>\n",
       "      <td>16166</td>\n",
       "    </tr>\n",
       "    <tr>\n",
       "      <th>2</th>\n",
       "      <td>2022-01-22T01:00:00.000Z</td>\n",
       "      <td>2022-01-22T02:00:00.000Z</td>\n",
       "      <td>18475</td>\n",
       "    </tr>\n",
       "    <tr>\n",
       "      <th>3</th>\n",
       "      <td>2022-01-22T02:00:00.000Z</td>\n",
       "      <td>2022-01-22T03:00:00.000Z</td>\n",
       "      <td>16978</td>\n",
       "    </tr>\n",
       "    <tr>\n",
       "      <th>4</th>\n",
       "      <td>2022-01-22T03:00:00.000Z</td>\n",
       "      <td>2022-01-22T04:00:00.000Z</td>\n",
       "      <td>16762</td>\n",
       "    </tr>\n",
       "    <tr>\n",
       "      <th>5</th>\n",
       "      <td>2022-01-22T04:00:00.000Z</td>\n",
       "      <td>2022-01-22T05:00:00.000Z</td>\n",
       "      <td>16834</td>\n",
       "    </tr>\n",
       "  </tbody>\n",
       "</table>\n",
       "</div>"
      ],
      "text/plain": [
       "                      start                       end  count\n",
       "1  2022-01-22T00:09:51.000Z  2022-01-22T01:00:00.000Z  16166\n",
       "2  2022-01-22T01:00:00.000Z  2022-01-22T02:00:00.000Z  18475\n",
       "3  2022-01-22T02:00:00.000Z  2022-01-22T03:00:00.000Z  16978\n",
       "4  2022-01-22T03:00:00.000Z  2022-01-22T04:00:00.000Z  16762\n",
       "5  2022-01-22T04:00:00.000Z  2022-01-22T05:00:00.000Z  16834"
      ]
     },
     "execution_count": 15,
     "metadata": {},
     "output_type": "execute_result"
    }
   ],
   "source": [
    "df_counts.drop(0, inplace=True)\n",
    "df_counts.head()"
   ]
  },
  {
   "cell_type": "code",
   "execution_count": 16,
   "metadata": {},
   "outputs": [],
   "source": [
    "df_counts.to_csv('data/tweet_counts.csv', sep=',', encoding='utf-8', index=False)"
   ]
  },
  {
   "cell_type": "markdown",
   "metadata": {},
   "source": [
    "The box plots on the left compared the TextBlob and VADER polarity score results with and without removing StopWords and Lemmatization for the 12,642 Yelp Review data points. The r’s in the plots represent the correlation coefficient between the actual Yelp review ratings and the polarity scores. **Based upon the r values alone, we can conclude that VADER sentiment analysis with zero text preprocessing appears to perform the best**. The VADER sentiment polarity compound scores slightly outperformed the TextBlob pattern analyzer polarity scores. This could be because VADER tends to take punctuation such as “!” , capitalization, ex. “GREAT” vs. “great”, preceding trigrams, and StopWords such as “but” into consideration as well as the fact that TextBlob doesn’t punish negation. One interesting thing to note is that both libraries tend to perform quite poorly for negative scores (Yelp reviews < 3). Moreover, removing StopWords and Lemmatization actually made identifying negative reviews more difficult. Intuitively, it actually makes perfect sense. StopWords such as “not”, “very”, and “but” can be quite helpful when it comes to identifying negative emotions. Words with the same base roots such as “worse” and “bad” or “better” and “good” exhibit different emotional intensities but will be ignored after Lemmatization. For these reasons, it is not always a great idea to remove StopWords or perform Lemmatization for sentiment analysis. The limitations of the dataset as mentioned earlier could also be negatively impacting the polarity score prediction results.\n",
    "\n",
    "https://medium.com/data-science-blogs/stopwords-and-lexicon-normalization-for-sentiment-analysis-f9f10f0d4108"
   ]
  },
  {
   "cell_type": "code",
   "execution_count": 17,
   "metadata": {},
   "outputs": [],
   "source": [
    "# Initiate Vader Sentiment Analyzer\n",
    "analyser = SentimentIntensityAnalyzer()"
   ]
  },
  {
   "cell_type": "code",
   "execution_count": 18,
   "metadata": {},
   "outputs": [],
   "source": [
    "def sentiment_analyzer_scores(sentence):\n",
    "    score = analyser.polarity_scores(sentence)\n",
    "    print(\"{:-<40} {}\".format(sentence, str(score)))"
   ]
  },
  {
   "cell_type": "code",
   "execution_count": 19,
   "metadata": {},
   "outputs": [
    {
     "name": "stdout",
     "output_type": "stream",
     "text": [
      "@FamiLee_Farm @0xBingBong I first dissented in 2018 from a spot bitcoin ETP denial.  It's 4 years later, and still no approval.  The SEC remains mired in \"the unbounded, dangerous territory of merit regulation for which the Commission is ill-equipped.\" https://t.co/stmEtRqPQn {'neg': 0.124, 'neu': 0.814, 'pos': 0.062, 'compound': -0.4318}\n"
     ]
    }
   ],
   "source": [
    "#Check initial results\n",
    "sentiment_analyzer_scores(df_tweets.text[0])"
   ]
  },
  {
   "cell_type": "code",
   "execution_count": 20,
   "metadata": {},
   "outputs": [
    {
     "name": "stdout",
     "output_type": "stream",
     "text": [
      "A disaster.\n",
      "\n",
      "The sooner aid agencies worldwide study, learn about, and adopt Bitcoin, the better. https://t.co/wQX4qyXgbM {'neg': 0.189, 'neu': 0.599, 'pos': 0.212, 'compound': -0.128}\n"
     ]
    }
   ],
   "source": [
    "#Check initial results\n",
    "sentiment_analyzer_scores(df_tweets.text[1])"
   ]
  },
  {
   "cell_type": "code",
   "execution_count": 23,
   "metadata": {},
   "outputs": [
    {
     "data": {
      "text/html": [
       "<div>\n",
       "<style scoped>\n",
       "    .dataframe tbody tr th:only-of-type {\n",
       "        vertical-align: middle;\n",
       "    }\n",
       "\n",
       "    .dataframe tbody tr th {\n",
       "        vertical-align: top;\n",
       "    }\n",
       "\n",
       "    .dataframe thead th {\n",
       "        text-align: right;\n",
       "    }\n",
       "</style>\n",
       "<table border=\"1\" class=\"dataframe\">\n",
       "  <thead>\n",
       "    <tr style=\"text-align: right;\">\n",
       "      <th></th>\n",
       "      <th>created_at</th>\n",
       "      <th>text</th>\n",
       "      <th>sentiment</th>\n",
       "    </tr>\n",
       "  </thead>\n",
       "  <tbody>\n",
       "    <tr>\n",
       "      <th>0</th>\n",
       "      <td>2022-01-28 22:07:08+00:00</td>\n",
       "      <td>@FamiLee_Farm @0xBingBong I first dissented in...</td>\n",
       "      <td>{'neg': 0.124, 'neu': 0.814, 'pos': 0.062, 'co...</td>\n",
       "    </tr>\n",
       "    <tr>\n",
       "      <th>1</th>\n",
       "      <td>2022-01-28 22:06:19+00:00</td>\n",
       "      <td>A disaster.\\n\\nThe sooner aid agencies worldwi...</td>\n",
       "      <td>{'neg': 0.189, 'neu': 0.599, 'pos': 0.212, 'co...</td>\n",
       "    </tr>\n",
       "    <tr>\n",
       "      <th>2</th>\n",
       "      <td>2022-01-28 22:03:07+00:00</td>\n",
       "      <td>With the very real threat of the government tr...</td>\n",
       "      <td>{'neg': 0.12, 'neu': 0.88, 'pos': 0.0, 'compou...</td>\n",
       "    </tr>\n",
       "    <tr>\n",
       "      <th>3</th>\n",
       "      <td>2022-01-28 22:03:03+00:00</td>\n",
       "      <td>Bitcoin mining's energy use has more than trip...</td>\n",
       "      <td>{'neg': 0.082, 'neu': 0.794, 'pos': 0.125, 'co...</td>\n",
       "    </tr>\n",
       "    <tr>\n",
       "      <th>4</th>\n",
       "      <td>2022-01-28 22:02:27+00:00</td>\n",
       "      <td>Tori Zero NFT Project Launched a Joint Coopera...</td>\n",
       "      <td>{'neg': 0.0, 'neu': 0.829, 'pos': 0.171, 'comp...</td>\n",
       "    </tr>\n",
       "  </tbody>\n",
       "</table>\n",
       "</div>"
      ],
      "text/plain": [
       "                  created_at  \\\n",
       "0  2022-01-28 22:07:08+00:00   \n",
       "1  2022-01-28 22:06:19+00:00   \n",
       "2  2022-01-28 22:03:07+00:00   \n",
       "3  2022-01-28 22:03:03+00:00   \n",
       "4  2022-01-28 22:02:27+00:00   \n",
       "\n",
       "                                                text  \\\n",
       "0  @FamiLee_Farm @0xBingBong I first dissented in...   \n",
       "1  A disaster.\\n\\nThe sooner aid agencies worldwi...   \n",
       "2  With the very real threat of the government tr...   \n",
       "3  Bitcoin mining's energy use has more than trip...   \n",
       "4  Tori Zero NFT Project Launched a Joint Coopera...   \n",
       "\n",
       "                                           sentiment  \n",
       "0  {'neg': 0.124, 'neu': 0.814, 'pos': 0.062, 'co...  \n",
       "1  {'neg': 0.189, 'neu': 0.599, 'pos': 0.212, 'co...  \n",
       "2  {'neg': 0.12, 'neu': 0.88, 'pos': 0.0, 'compou...  \n",
       "3  {'neg': 0.082, 'neu': 0.794, 'pos': 0.125, 'co...  \n",
       "4  {'neg': 0.0, 'neu': 0.829, 'pos': 0.171, 'comp...  "
      ]
     },
     "execution_count": 23,
     "metadata": {},
     "output_type": "execute_result"
    }
   ],
   "source": [
    "#Apply Vader Analyzer to tweets' contents and determine sentiment\n",
    "df_tweet_text = df_tweets[['created_at','text']]\n",
    "df_tweet_text['sentiment'] = df_tweet_text['text'].apply(lambda x: analyser.polarity_scores(x))\n",
    "df_tweet_text.head()"
   ]
  },
  {
   "cell_type": "code",
   "execution_count": 24,
   "metadata": {},
   "outputs": [],
   "source": [
    "df_tweet_text['compound']  = df_tweet_text['sentiment'].apply(lambda x: x['compound'])"
   ]
  },
  {
   "cell_type": "code",
   "execution_count": 25,
   "metadata": {},
   "outputs": [
    {
     "data": {
      "text/html": [
       "<div>\n",
       "<style scoped>\n",
       "    .dataframe tbody tr th:only-of-type {\n",
       "        vertical-align: middle;\n",
       "    }\n",
       "\n",
       "    .dataframe tbody tr th {\n",
       "        vertical-align: top;\n",
       "    }\n",
       "\n",
       "    .dataframe thead th {\n",
       "        text-align: right;\n",
       "    }\n",
       "</style>\n",
       "<table border=\"1\" class=\"dataframe\">\n",
       "  <thead>\n",
       "    <tr style=\"text-align: right;\">\n",
       "      <th></th>\n",
       "      <th>created_at</th>\n",
       "      <th>text</th>\n",
       "      <th>sentiment</th>\n",
       "      <th>compound</th>\n",
       "    </tr>\n",
       "  </thead>\n",
       "  <tbody>\n",
       "    <tr>\n",
       "      <th>0</th>\n",
       "      <td>2022-01-28 22:07:08+00:00</td>\n",
       "      <td>@FamiLee_Farm @0xBingBong I first dissented in...</td>\n",
       "      <td>{'neg': 0.124, 'neu': 0.814, 'pos': 0.062, 'co...</td>\n",
       "      <td>-0.4318</td>\n",
       "    </tr>\n",
       "    <tr>\n",
       "      <th>1</th>\n",
       "      <td>2022-01-28 22:06:19+00:00</td>\n",
       "      <td>A disaster.\\n\\nThe sooner aid agencies worldwi...</td>\n",
       "      <td>{'neg': 0.189, 'neu': 0.599, 'pos': 0.212, 'co...</td>\n",
       "      <td>-0.1280</td>\n",
       "    </tr>\n",
       "    <tr>\n",
       "      <th>2</th>\n",
       "      <td>2022-01-28 22:03:07+00:00</td>\n",
       "      <td>With the very real threat of the government tr...</td>\n",
       "      <td>{'neg': 0.12, 'neu': 0.88, 'pos': 0.0, 'compou...</td>\n",
       "      <td>-0.5688</td>\n",
       "    </tr>\n",
       "    <tr>\n",
       "      <th>3</th>\n",
       "      <td>2022-01-28 22:03:03+00:00</td>\n",
       "      <td>Bitcoin mining's energy use has more than trip...</td>\n",
       "      <td>{'neg': 0.082, 'neu': 0.794, 'pos': 0.125, 'co...</td>\n",
       "      <td>-0.0258</td>\n",
       "    </tr>\n",
       "    <tr>\n",
       "      <th>4</th>\n",
       "      <td>2022-01-28 22:02:27+00:00</td>\n",
       "      <td>Tori Zero NFT Project Launched a Joint Coopera...</td>\n",
       "      <td>{'neg': 0.0, 'neu': 0.829, 'pos': 0.171, 'comp...</td>\n",
       "      <td>0.3182</td>\n",
       "    </tr>\n",
       "  </tbody>\n",
       "</table>\n",
       "</div>"
      ],
      "text/plain": [
       "                  created_at  \\\n",
       "0  2022-01-28 22:07:08+00:00   \n",
       "1  2022-01-28 22:06:19+00:00   \n",
       "2  2022-01-28 22:03:07+00:00   \n",
       "3  2022-01-28 22:03:03+00:00   \n",
       "4  2022-01-28 22:02:27+00:00   \n",
       "\n",
       "                                                text  \\\n",
       "0  @FamiLee_Farm @0xBingBong I first dissented in...   \n",
       "1  A disaster.\\n\\nThe sooner aid agencies worldwi...   \n",
       "2  With the very real threat of the government tr...   \n",
       "3  Bitcoin mining's energy use has more than trip...   \n",
       "4  Tori Zero NFT Project Launched a Joint Coopera...   \n",
       "\n",
       "                                           sentiment  compound  \n",
       "0  {'neg': 0.124, 'neu': 0.814, 'pos': 0.062, 'co...   -0.4318  \n",
       "1  {'neg': 0.189, 'neu': 0.599, 'pos': 0.212, 'co...   -0.1280  \n",
       "2  {'neg': 0.12, 'neu': 0.88, 'pos': 0.0, 'compou...   -0.5688  \n",
       "3  {'neg': 0.082, 'neu': 0.794, 'pos': 0.125, 'co...   -0.0258  \n",
       "4  {'neg': 0.0, 'neu': 0.829, 'pos': 0.171, 'comp...    0.3182  "
      ]
     },
     "execution_count": 25,
     "metadata": {},
     "output_type": "execute_result"
    }
   ],
   "source": [
    "df_tweet_text.head()"
   ]
  },
  {
   "cell_type": "markdown",
   "metadata": {},
   "source": [
    "It is also useful for researchers who would like to set standardized thresholds for classifying sentences as either positive, neutral, or negative. Typical threshold values (used in the literature cited on this page) are:\n",
    "\n",
    "positive sentiment: compound score >= 0.05\n",
    "neutral sentiment: (compound score > -0.05) and (compound score < 0.05)\n",
    "negative sentiment: compound score <= -0.05"
   ]
  },
  {
   "cell_type": "code",
   "execution_count": 26,
   "metadata": {},
   "outputs": [],
   "source": [
    "#Function splits compound and sentiment coefficients  \n",
    "def no_compound(x):\n",
    "    x.pop('compound')\n",
    "    return x"
   ]
  },
  {
   "cell_type": "code",
   "execution_count": 27,
   "metadata": {},
   "outputs": [],
   "source": [
    "df_tweet_text['sentiment']  = df_tweet_text['sentiment'].apply(lambda x: no_compound(x))"
   ]
  },
  {
   "cell_type": "code",
   "execution_count": 28,
   "metadata": {},
   "outputs": [
    {
     "data": {
      "text/html": [
       "<div>\n",
       "<style scoped>\n",
       "    .dataframe tbody tr th:only-of-type {\n",
       "        vertical-align: middle;\n",
       "    }\n",
       "\n",
       "    .dataframe tbody tr th {\n",
       "        vertical-align: top;\n",
       "    }\n",
       "\n",
       "    .dataframe thead th {\n",
       "        text-align: right;\n",
       "    }\n",
       "</style>\n",
       "<table border=\"1\" class=\"dataframe\">\n",
       "  <thead>\n",
       "    <tr style=\"text-align: right;\">\n",
       "      <th></th>\n",
       "      <th>created_at</th>\n",
       "      <th>text</th>\n",
       "      <th>sentiment</th>\n",
       "      <th>compound</th>\n",
       "    </tr>\n",
       "  </thead>\n",
       "  <tbody>\n",
       "    <tr>\n",
       "      <th>0</th>\n",
       "      <td>2022-01-28 22:07:08+00:00</td>\n",
       "      <td>@FamiLee_Farm @0xBingBong I first dissented in...</td>\n",
       "      <td>{'neg': 0.124, 'neu': 0.814, 'pos': 0.062}</td>\n",
       "      <td>-0.4318</td>\n",
       "    </tr>\n",
       "    <tr>\n",
       "      <th>1</th>\n",
       "      <td>2022-01-28 22:06:19+00:00</td>\n",
       "      <td>A disaster.\\n\\nThe sooner aid agencies worldwi...</td>\n",
       "      <td>{'neg': 0.189, 'neu': 0.599, 'pos': 0.212}</td>\n",
       "      <td>-0.1280</td>\n",
       "    </tr>\n",
       "    <tr>\n",
       "      <th>2</th>\n",
       "      <td>2022-01-28 22:03:07+00:00</td>\n",
       "      <td>With the very real threat of the government tr...</td>\n",
       "      <td>{'neg': 0.12, 'neu': 0.88, 'pos': 0.0}</td>\n",
       "      <td>-0.5688</td>\n",
       "    </tr>\n",
       "    <tr>\n",
       "      <th>3</th>\n",
       "      <td>2022-01-28 22:03:03+00:00</td>\n",
       "      <td>Bitcoin mining's energy use has more than trip...</td>\n",
       "      <td>{'neg': 0.082, 'neu': 0.794, 'pos': 0.125}</td>\n",
       "      <td>-0.0258</td>\n",
       "    </tr>\n",
       "    <tr>\n",
       "      <th>4</th>\n",
       "      <td>2022-01-28 22:02:27+00:00</td>\n",
       "      <td>Tori Zero NFT Project Launched a Joint Coopera...</td>\n",
       "      <td>{'neg': 0.0, 'neu': 0.829, 'pos': 0.171}</td>\n",
       "      <td>0.3182</td>\n",
       "    </tr>\n",
       "  </tbody>\n",
       "</table>\n",
       "</div>"
      ],
      "text/plain": [
       "                  created_at  \\\n",
       "0  2022-01-28 22:07:08+00:00   \n",
       "1  2022-01-28 22:06:19+00:00   \n",
       "2  2022-01-28 22:03:07+00:00   \n",
       "3  2022-01-28 22:03:03+00:00   \n",
       "4  2022-01-28 22:02:27+00:00   \n",
       "\n",
       "                                                text  \\\n",
       "0  @FamiLee_Farm @0xBingBong I first dissented in...   \n",
       "1  A disaster.\\n\\nThe sooner aid agencies worldwi...   \n",
       "2  With the very real threat of the government tr...   \n",
       "3  Bitcoin mining's energy use has more than trip...   \n",
       "4  Tori Zero NFT Project Launched a Joint Coopera...   \n",
       "\n",
       "                                    sentiment  compound  \n",
       "0  {'neg': 0.124, 'neu': 0.814, 'pos': 0.062}   -0.4318  \n",
       "1  {'neg': 0.189, 'neu': 0.599, 'pos': 0.212}   -0.1280  \n",
       "2      {'neg': 0.12, 'neu': 0.88, 'pos': 0.0}   -0.5688  \n",
       "3  {'neg': 0.082, 'neu': 0.794, 'pos': 0.125}   -0.0258  \n",
       "4    {'neg': 0.0, 'neu': 0.829, 'pos': 0.171}    0.3182  "
      ]
     },
     "execution_count": 28,
     "metadata": {},
     "output_type": "execute_result"
    }
   ],
   "source": [
    "df_tweet_text.head()"
   ]
  },
  {
   "cell_type": "code",
   "execution_count": 29,
   "metadata": {},
   "outputs": [],
   "source": [
    "#Function determines sentiment based on compund coefficient value\n",
    "def sentiment_label(x):\n",
    "    \n",
    "    if x > 0.05:\n",
    "        result = 'positive'\n",
    "    elif x < -0.05:\n",
    "        result = 'negative'\n",
    "    else: \n",
    "        result = 'neutral'\n",
    "    \n",
    "    return result"
   ]
  },
  {
   "cell_type": "code",
   "execution_count": 30,
   "metadata": {},
   "outputs": [],
   "source": [
    "df_tweet_text['label']  = df_tweet_text['compound'].apply(lambda x: sentiment_label(x))"
   ]
  },
  {
   "cell_type": "code",
   "execution_count": 31,
   "metadata": {},
   "outputs": [
    {
     "data": {
      "text/plain": [
       "positive    2081\n",
       "neutral     1378\n",
       "negative    1307\n",
       "Name: label, dtype: int64"
      ]
     },
     "execution_count": 31,
     "metadata": {},
     "output_type": "execute_result"
    }
   ],
   "source": [
    "df_tweet_text['label'].value_counts()"
   ]
  },
  {
   "cell_type": "code",
   "execution_count": 32,
   "metadata": {},
   "outputs": [],
   "source": [
    "df_tweet_text.drop(columns=['sentiment','compound'], inplace=True)"
   ]
  },
  {
   "cell_type": "code",
   "execution_count": 33,
   "metadata": {},
   "outputs": [
    {
     "data": {
      "text/html": [
       "<div>\n",
       "<style scoped>\n",
       "    .dataframe tbody tr th:only-of-type {\n",
       "        vertical-align: middle;\n",
       "    }\n",
       "\n",
       "    .dataframe tbody tr th {\n",
       "        vertical-align: top;\n",
       "    }\n",
       "\n",
       "    .dataframe thead th {\n",
       "        text-align: right;\n",
       "    }\n",
       "</style>\n",
       "<table border=\"1\" class=\"dataframe\">\n",
       "  <thead>\n",
       "    <tr style=\"text-align: right;\">\n",
       "      <th></th>\n",
       "      <th>created_at</th>\n",
       "      <th>text</th>\n",
       "      <th>label</th>\n",
       "    </tr>\n",
       "  </thead>\n",
       "  <tbody>\n",
       "    <tr>\n",
       "      <th>0</th>\n",
       "      <td>2022-01-28 22:07:08+00:00</td>\n",
       "      <td>@FamiLee_Farm @0xBingBong I first dissented in...</td>\n",
       "      <td>negative</td>\n",
       "    </tr>\n",
       "    <tr>\n",
       "      <th>1</th>\n",
       "      <td>2022-01-28 22:06:19+00:00</td>\n",
       "      <td>A disaster.\\n\\nThe sooner aid agencies worldwi...</td>\n",
       "      <td>negative</td>\n",
       "    </tr>\n",
       "    <tr>\n",
       "      <th>2</th>\n",
       "      <td>2022-01-28 22:03:07+00:00</td>\n",
       "      <td>With the very real threat of the government tr...</td>\n",
       "      <td>negative</td>\n",
       "    </tr>\n",
       "    <tr>\n",
       "      <th>3</th>\n",
       "      <td>2022-01-28 22:03:03+00:00</td>\n",
       "      <td>Bitcoin mining's energy use has more than trip...</td>\n",
       "      <td>neutral</td>\n",
       "    </tr>\n",
       "    <tr>\n",
       "      <th>4</th>\n",
       "      <td>2022-01-28 22:02:27+00:00</td>\n",
       "      <td>Tori Zero NFT Project Launched a Joint Coopera...</td>\n",
       "      <td>positive</td>\n",
       "    </tr>\n",
       "  </tbody>\n",
       "</table>\n",
       "</div>"
      ],
      "text/plain": [
       "                  created_at  \\\n",
       "0  2022-01-28 22:07:08+00:00   \n",
       "1  2022-01-28 22:06:19+00:00   \n",
       "2  2022-01-28 22:03:07+00:00   \n",
       "3  2022-01-28 22:03:03+00:00   \n",
       "4  2022-01-28 22:02:27+00:00   \n",
       "\n",
       "                                                text     label  \n",
       "0  @FamiLee_Farm @0xBingBong I first dissented in...  negative  \n",
       "1  A disaster.\\n\\nThe sooner aid agencies worldwi...  negative  \n",
       "2  With the very real threat of the government tr...  negative  \n",
       "3  Bitcoin mining's energy use has more than trip...   neutral  \n",
       "4  Tori Zero NFT Project Launched a Joint Coopera...  positive  "
      ]
     },
     "execution_count": 33,
     "metadata": {},
     "output_type": "execute_result"
    }
   ],
   "source": [
    "#Check for fiinal results\n",
    "df_tweet_text.head()"
   ]
  },
  {
   "cell_type": "code",
   "execution_count": 34,
   "metadata": {},
   "outputs": [],
   "source": [
    "#Export results to csv file\n",
    "df_tweet_text.to_csv('data/tweet_labeled.csv', sep=',', encoding='utf-8', index=False)"
   ]
  }
 ],
 "metadata": {
  "kernelspec": {
   "display_name": "learn-env",
   "language": "python",
   "name": "learn-env"
  },
  "language_info": {
   "codemirror_mode": {
    "name": "ipython",
    "version": 3
   },
   "file_extension": ".py",
   "mimetype": "text/x-python",
   "name": "python",
   "nbconvert_exporter": "python",
   "pygments_lexer": "ipython3",
   "version": "3.6.9"
  }
 },
 "nbformat": 4,
 "nbformat_minor": 5
}
