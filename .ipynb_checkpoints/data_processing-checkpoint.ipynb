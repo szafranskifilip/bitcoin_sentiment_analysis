{
 "cells": [
  {
   "cell_type": "markdown",
   "metadata": {},
   "source": [
    "## Cryptocurrency sentiment analisis and its coorelation with coins price"
   ]
  },
  {
   "cell_type": "markdown",
   "metadata": {},
   "source": [
    "### Import libraries"
   ]
  },
  {
   "cell_type": "code",
   "execution_count": 144,
   "metadata": {},
   "outputs": [],
   "source": [
    "import pandas as pd\n",
    "import numpy as np\n",
    "\n",
    "from sklearn.preprocessing import StandardScaler\n",
    "from sklearn.model_selection import train_test_split, GridSearchCV, cross_val_score\n",
    "import matplotlib.pyplot as plt\n",
    "import seaborn as sns\n",
    "import pickle\n",
    "import requests\n",
    "\n",
    "%matplotlib inline\n",
    "plt.style.use('seaborn')\n",
    "\n",
    "import warnings\n",
    "warnings.filterwarnings('ignore')"
   ]
  },
  {
   "cell_type": "code",
   "execution_count": 270,
   "metadata": {},
   "outputs": [],
   "source": [
    "import tweepy\n",
    "import datetime\n",
    "import json\n",
    "from datetime import datetime, timedelta"
   ]
  },
  {
   "cell_type": "markdown",
   "metadata": {},
   "source": [
    "### Import data"
   ]
  },
  {
   "cell_type": "markdown",
   "metadata": {},
   "source": [
    "Twitter Developer Account. In order to get access to the Tweepy API, it is important for you to create a developer account and this account must be approved from twitter"
   ]
  },
  {
   "cell_type": "code",
   "execution_count": 4,
   "metadata": {},
   "outputs": [],
   "source": [
    "#Import key and tokens from config.py\n",
    "from config import *"
   ]
  },
  {
   "cell_type": "code",
   "execution_count": 289,
   "metadata": {},
   "outputs": [],
   "source": [
    "client = tweepy.Client(bearer_token=bearer_token, \n",
    "                       consumer_key=consumer_key, \n",
    "                       consumer_secret=consumer_secret, \n",
    "                       access_token=acces_token, \n",
    "                       access_token_secret=token_secret,\n",
    "                       wait_on_rate_limit=True)"
   ]
  },
  {
   "cell_type": "code",
   "execution_count": 325,
   "metadata": {},
   "outputs": [],
   "source": [
    "query=\"(#btc OR #bitcoin OR bitcoin) is:verified -has:media -is:retweet lang:en\"\n",
    "\n",
    "#Get dates in ISO format YYYY-MM-DDTHH:mm:ssZ (ISO 8601/RFC 3339).\n",
    "#today('end_time') must be a minimum of 10 seconds prior to the request time. \n",
    "#We add an hour to avoid the newest tweets without comlete public metrics data \n",
    "\n",
    "today = datetime.now() - timedelta(hour=1) + timedelta(hours=5)\n",
    "seven_days_back = today - timedelta(days=6, hours=23)\n",
    "\n",
    "today = today.strftime('%Y-%m-%dT%H:%M:%SZ')\n",
    "seven_days_back = seven_days_back.strftime('%Y-%m-%dT%H:%M:%SZ')"
   ]
  },
  {
   "cell_type": "code",
   "execution_count": 328,
   "metadata": {},
   "outputs": [],
   "source": [
    "import csv #Import csv\n",
    "\n",
    "#Open/create a file to append data to\n",
    "csvFile = open('tweets_results.csv', 'a')\n",
    "\n",
    "# # Use csv writer\n",
    "csvWriter = csv.writer(csvFile)\n",
    "\n",
    "csvWriter.writerow(['item.id',\n",
    "                    'item.author_id',\n",
    "                    'item.created_at',\n",
    "                    'item.source', \n",
    "                    'item.public_metrics[\"retweet_count\"]',\n",
    "                    'item.public_metrics[\"reply_count\"]',\n",
    "                    'item.public_metrics[\"like_count\"]',\n",
    "                    'item.public_metrics[\"like_count\"]',\n",
    "                    'item.text'])\n",
    "\n",
    "for response in tweepy.Paginator(client.search_recent_tweets, query=query, \n",
    "                              start_time=str(seven_days_back),\n",
    "                              end_time=str(today),\n",
    "                              tweet_fields='id,author_id,created_at,geo,public_metrics,source,text',\n",
    "                              user_fields='id,name,username,public_metrics',\n",
    "                              place_fields='full_name,country,country_code,geo',\n",
    "                              expansions='author_id,geo.place_id',\n",
    "                              max_results=10, limit=10):\n",
    "    \n",
    "    # Write a row to the CSV file. I use encode UTF-8\n",
    "    for item in response.data:\n",
    "        # Write a row to the CSV file. I use encode UTF-8\n",
    "        csvWriter.writerow([item.id,\n",
    "                            item.author_id,\n",
    "                            item.created_at,\n",
    "                            item.source, \n",
    "                            item.public_metrics[\"retweet_count\"],\n",
    "                            item.public_metrics[\"reply_count\"],\n",
    "                            item.public_metrics[\"like_count\"],\n",
    "                            item.public_metrics[\"like_count\"],\n",
    "                            item.text])\n",
    "\n",
    "csvFile.close()"
   ]
  },
  {
   "cell_type": "code",
   "execution_count": 263,
   "metadata": {},
   "outputs": [],
   "source": [
    "#Open/create a file to append data to\n",
    "csvFile = open('author_results.csv', 'a')\n",
    "\n",
    "# # Use csv writer\n",
    "csvWriter = csv.writer(csvFile)\n",
    "\n",
    "csvWriter.writerow(['item.name',\n",
    "                    'item.id',\n",
    "                    'item.username',\n",
    "                    'item.public_metrics[\"followers_count\"]',\n",
    "                    'item.public_metrics[\"following_count\"]',\n",
    "                    'item.public_metrics[\"tweet_count\"]',\n",
    "                    'item.public_metrics[\"listed_count\"]'])\n",
    "\n",
    "for response in tweepy.Paginator(client.search_recent_tweets, query=query, \n",
    "                              start_time=str(seven_days_back),\n",
    "                              end_time=str(today),\n",
    "                              tweet_fields='id,author_id,created_at,geo,public_metrics,source,text',\n",
    "                              user_fields='id,name,username,public_metrics',\n",
    "                              place_fields='full_name,country,country_code,geo',\n",
    "                              expansions='author_id,geo.place_id',\n",
    "                              max_results=10, limit=10):\n",
    "\n",
    "    # Write a row to the CSV file. I use encode UTF-8\n",
    "    for item in response.includes['users']:\n",
    "        # Write a row to the CSV file. I use encode UTF-8\n",
    "        csvWriter.writerow([item.name,\n",
    "                    item.id,\n",
    "                    item.username,\n",
    "                    item.public_metrics[\"followers_count\"],\n",
    "                    item.public_metrics[\"following_count\"],\n",
    "                    item.public_metrics[\"tweet_count\"],\n",
    "                    item.public_metrics[\"listed_count\"]])\n",
    "\n",
    "csvFile.close()"
   ]
  },
  {
   "cell_type": "code",
   "execution_count": 341,
   "metadata": {},
   "outputs": [
    {
     "name": "stdout",
     "output_type": "stream",
     "text": [
      "[{'end': '2022-01-21T17:00:00.000Z', 'start': '2022-01-21T16:10:30.000Z', 'tweet_count': 24587}, {'end': '2022-01-21T18:00:00.000Z', 'start': '2022-01-21T17:00:00.000Z', 'tweet_count': 27214}, {'end': '2022-01-21T19:00:00.000Z', 'start': '2022-01-21T18:00:00.000Z', 'tweet_count': 23795}, {'end': '2022-01-21T20:00:00.000Z', 'start': '2022-01-21T19:00:00.000Z', 'tweet_count': 23847}, {'end': '2022-01-21T21:00:00.000Z', 'start': '2022-01-21T20:00:00.000Z', 'tweet_count': 22932}, {'end': '2022-01-21T22:00:00.000Z', 'start': '2022-01-21T21:00:00.000Z', 'tweet_count': 21683}, {'end': '2022-01-21T23:00:00.000Z', 'start': '2022-01-21T22:00:00.000Z', 'tweet_count': 26339}, {'end': '2022-01-22T00:00:00.000Z', 'start': '2022-01-21T23:00:00.000Z', 'tweet_count': 23575}, {'end': '2022-01-22T01:00:00.000Z', 'start': '2022-01-22T00:00:00.000Z', 'tweet_count': 19862}, {'end': '2022-01-22T02:00:00.000Z', 'start': '2022-01-22T01:00:00.000Z', 'tweet_count': 18576}, {'end': '2022-01-22T03:00:00.000Z', 'start': '2022-01-22T02:00:00.000Z', 'tweet_count': 17012}, {'end': '2022-01-22T04:00:00.000Z', 'start': '2022-01-22T03:00:00.000Z', 'tweet_count': 16800}, {'end': '2022-01-22T05:00:00.000Z', 'start': '2022-01-22T04:00:00.000Z', 'tweet_count': 16839}, {'end': '2022-01-22T06:00:00.000Z', 'start': '2022-01-22T05:00:00.000Z', 'tweet_count': 18350}, {'end': '2022-01-22T07:00:00.000Z', 'start': '2022-01-22T06:00:00.000Z', 'tweet_count': 20487}, {'end': '2022-01-22T08:00:00.000Z', 'start': '2022-01-22T07:00:00.000Z', 'tweet_count': 19990}, {'end': '2022-01-22T09:00:00.000Z', 'start': '2022-01-22T08:00:00.000Z', 'tweet_count': 23046}, {'end': '2022-01-22T10:00:00.000Z', 'start': '2022-01-22T09:00:00.000Z', 'tweet_count': 22102}, {'end': '2022-01-22T11:00:00.000Z', 'start': '2022-01-22T10:00:00.000Z', 'tweet_count': 23093}, {'end': '2022-01-22T12:00:00.000Z', 'start': '2022-01-22T11:00:00.000Z', 'tweet_count': 23010}, {'end': '2022-01-22T13:00:00.000Z', 'start': '2022-01-22T12:00:00.000Z', 'tweet_count': 24196}, {'end': '2022-01-22T14:00:00.000Z', 'start': '2022-01-22T13:00:00.000Z', 'tweet_count': 26042}, {'end': '2022-01-22T15:00:00.000Z', 'start': '2022-01-22T14:00:00.000Z', 'tweet_count': 25623}, {'end': '2022-01-22T16:00:00.000Z', 'start': '2022-01-22T15:00:00.000Z', 'tweet_count': 25217}, {'end': '2022-01-22T17:00:00.000Z', 'start': '2022-01-22T16:00:00.000Z', 'tweet_count': 27238}, {'end': '2022-01-22T18:00:00.000Z', 'start': '2022-01-22T17:00:00.000Z', 'tweet_count': 24472}, {'end': '2022-01-22T19:00:00.000Z', 'start': '2022-01-22T18:00:00.000Z', 'tweet_count': 24926}, {'end': '2022-01-22T20:00:00.000Z', 'start': '2022-01-22T19:00:00.000Z', 'tweet_count': 22958}, {'end': '2022-01-22T21:00:00.000Z', 'start': '2022-01-22T20:00:00.000Z', 'tweet_count': 20727}, {'end': '2022-01-22T22:00:00.000Z', 'start': '2022-01-22T21:00:00.000Z', 'tweet_count': 18709}, {'end': '2022-01-22T23:00:00.000Z', 'start': '2022-01-22T22:00:00.000Z', 'tweet_count': 17178}, {'end': '2022-01-23T00:00:00.000Z', 'start': '2022-01-22T23:00:00.000Z', 'tweet_count': 15553}, {'end': '2022-01-23T01:00:00.000Z', 'start': '2022-01-23T00:00:00.000Z', 'tweet_count': 14791}, {'end': '2022-01-23T02:00:00.000Z', 'start': '2022-01-23T01:00:00.000Z', 'tweet_count': 15934}, {'end': '2022-01-23T03:00:00.000Z', 'start': '2022-01-23T02:00:00.000Z', 'tweet_count': 15693}, {'end': '2022-01-23T04:00:00.000Z', 'start': '2022-01-23T03:00:00.000Z', 'tweet_count': 17835}, {'end': '2022-01-23T05:00:00.000Z', 'start': '2022-01-23T04:00:00.000Z', 'tweet_count': 18684}, {'end': '2022-01-23T06:00:00.000Z', 'start': '2022-01-23T05:00:00.000Z', 'tweet_count': 21054}, {'end': '2022-01-23T07:00:00.000Z', 'start': '2022-01-23T06:00:00.000Z', 'tweet_count': 19978}, {'end': '2022-01-23T08:00:00.000Z', 'start': '2022-01-23T07:00:00.000Z', 'tweet_count': 19635}, {'end': '2022-01-23T09:00:00.000Z', 'start': '2022-01-23T08:00:00.000Z', 'tweet_count': 21923}, {'end': '2022-01-23T10:00:00.000Z', 'start': '2022-01-23T09:00:00.000Z', 'tweet_count': 21994}, {'end': '2022-01-23T11:00:00.000Z', 'start': '2022-01-23T10:00:00.000Z', 'tweet_count': 21483}, {'end': '2022-01-23T12:00:00.000Z', 'start': '2022-01-23T11:00:00.000Z', 'tweet_count': 21466}, {'end': '2022-01-23T13:00:00.000Z', 'start': '2022-01-23T12:00:00.000Z', 'tweet_count': 25336}, {'end': '2022-01-23T14:00:00.000Z', 'start': '2022-01-23T13:00:00.000Z', 'tweet_count': 26149}, {'end': '2022-01-23T15:00:00.000Z', 'start': '2022-01-23T14:00:00.000Z', 'tweet_count': 26667}, {'end': '2022-01-23T16:00:00.000Z', 'start': '2022-01-23T15:00:00.000Z', 'tweet_count': 26873}, {'end': '2022-01-23T17:00:00.000Z', 'start': '2022-01-23T16:00:00.000Z', 'tweet_count': 25993}, {'end': '2022-01-23T18:00:00.000Z', 'start': '2022-01-23T17:00:00.000Z', 'tweet_count': 23955}, {'end': '2022-01-23T19:00:00.000Z', 'start': '2022-01-23T18:00:00.000Z', 'tweet_count': 25606}, {'end': '2022-01-23T20:00:00.000Z', 'start': '2022-01-23T19:00:00.000Z', 'tweet_count': 21917}, {'end': '2022-01-23T21:00:00.000Z', 'start': '2022-01-23T20:00:00.000Z', 'tweet_count': 18379}, {'end': '2022-01-23T22:00:00.000Z', 'start': '2022-01-23T21:00:00.000Z', 'tweet_count': 17808}, {'end': '2022-01-23T23:00:00.000Z', 'start': '2022-01-23T22:00:00.000Z', 'tweet_count': 15810}, {'end': '2022-01-24T00:00:00.000Z', 'start': '2022-01-23T23:00:00.000Z', 'tweet_count': 14237}, {'end': '2022-01-24T01:00:00.000Z', 'start': '2022-01-24T00:00:00.000Z', 'tweet_count': 15460}, {'end': '2022-01-24T02:00:00.000Z', 'start': '2022-01-24T01:00:00.000Z', 'tweet_count': 14160}, {'end': '2022-01-24T03:00:00.000Z', 'start': '2022-01-24T02:00:00.000Z', 'tweet_count': 13770}, {'end': '2022-01-24T04:00:00.000Z', 'start': '2022-01-24T03:00:00.000Z', 'tweet_count': 17032}, {'end': '2022-01-24T05:00:00.000Z', 'start': '2022-01-24T04:00:00.000Z', 'tweet_count': 16889}, {'end': '2022-01-24T06:00:00.000Z', 'start': '2022-01-24T05:00:00.000Z', 'tweet_count': 17596}, {'end': '2022-01-24T07:00:00.000Z', 'start': '2022-01-24T06:00:00.000Z', 'tweet_count': 17046}, {'end': '2022-01-24T08:00:00.000Z', 'start': '2022-01-24T07:00:00.000Z', 'tweet_count': 17008}, {'end': '2022-01-24T09:00:00.000Z', 'start': '2022-01-24T08:00:00.000Z', 'tweet_count': 18865}, {'end': '2022-01-24T10:00:00.000Z', 'start': '2022-01-24T09:00:00.000Z', 'tweet_count': 17443}, {'end': '2022-01-24T11:00:00.000Z', 'start': '2022-01-24T10:00:00.000Z', 'tweet_count': 20241}, {'end': '2022-01-24T12:00:00.000Z', 'start': '2022-01-24T11:00:00.000Z', 'tweet_count': 22718}, {'end': '2022-01-24T13:00:00.000Z', 'start': '2022-01-24T12:00:00.000Z', 'tweet_count': 27116}, {'end': '2022-01-24T14:00:00.000Z', 'start': '2022-01-24T13:00:00.000Z', 'tweet_count': 25989}, {'end': '2022-01-24T15:00:00.000Z', 'start': '2022-01-24T14:00:00.000Z', 'tweet_count': 27367}, {'end': '2022-01-24T16:00:00.000Z', 'start': '2022-01-24T15:00:00.000Z', 'tweet_count': 29136}, {'end': '2022-01-24T17:00:00.000Z', 'start': '2022-01-24T16:00:00.000Z', 'tweet_count': 28458}, {'end': '2022-01-24T18:00:00.000Z', 'start': '2022-01-24T17:00:00.000Z', 'tweet_count': 27472}, {'end': '2022-01-24T19:00:00.000Z', 'start': '2022-01-24T18:00:00.000Z', 'tweet_count': 25045}, {'end': '2022-01-24T20:00:00.000Z', 'start': '2022-01-24T19:00:00.000Z', 'tweet_count': 23149}, {'end': '2022-01-24T21:00:00.000Z', 'start': '2022-01-24T20:00:00.000Z', 'tweet_count': 21237}, {'end': '2022-01-24T22:00:00.000Z', 'start': '2022-01-24T21:00:00.000Z', 'tweet_count': 19316}, {'end': '2022-01-24T23:00:00.000Z', 'start': '2022-01-24T22:00:00.000Z', 'tweet_count': 16512}, {'end': '2022-01-25T00:00:00.000Z', 'start': '2022-01-24T23:00:00.000Z', 'tweet_count': 15252}, {'end': '2022-01-25T01:00:00.000Z', 'start': '2022-01-25T00:00:00.000Z', 'tweet_count': 14896}, {'end': '2022-01-25T02:00:00.000Z', 'start': '2022-01-25T01:00:00.000Z', 'tweet_count': 13601}, {'end': '2022-01-25T03:00:00.000Z', 'start': '2022-01-25T02:00:00.000Z', 'tweet_count': 14049}, {'end': '2022-01-25T04:00:00.000Z', 'start': '2022-01-25T03:00:00.000Z', 'tweet_count': 14499}, {'end': '2022-01-25T05:00:00.000Z', 'start': '2022-01-25T04:00:00.000Z', 'tweet_count': 14744}, {'end': '2022-01-25T06:00:00.000Z', 'start': '2022-01-25T05:00:00.000Z', 'tweet_count': 14470}, {'end': '2022-01-25T07:00:00.000Z', 'start': '2022-01-25T06:00:00.000Z', 'tweet_count': 14291}, {'end': '2022-01-25T08:00:00.000Z', 'start': '2022-01-25T07:00:00.000Z', 'tweet_count': 16602}, {'end': '2022-01-25T09:00:00.000Z', 'start': '2022-01-25T08:00:00.000Z', 'tweet_count': 16880}, {'end': '2022-01-25T10:00:00.000Z', 'start': '2022-01-25T09:00:00.000Z', 'tweet_count': 18387}, {'end': '2022-01-25T11:00:00.000Z', 'start': '2022-01-25T10:00:00.000Z', 'tweet_count': 18015}, {'end': '2022-01-25T12:00:00.000Z', 'start': '2022-01-25T11:00:00.000Z', 'tweet_count': 19223}, {'end': '2022-01-25T13:00:00.000Z', 'start': '2022-01-25T12:00:00.000Z', 'tweet_count': 21126}, {'end': '2022-01-25T14:00:00.000Z', 'start': '2022-01-25T13:00:00.000Z', 'tweet_count': 24619}, {'end': '2022-01-25T15:00:00.000Z', 'start': '2022-01-25T14:00:00.000Z', 'tweet_count': 27575}, {'end': '2022-01-25T16:00:00.000Z', 'start': '2022-01-25T15:00:00.000Z', 'tweet_count': 27133}, {'end': '2022-01-25T17:00:00.000Z', 'start': '2022-01-25T16:00:00.000Z', 'tweet_count': 26099}, {'end': '2022-01-25T18:00:00.000Z', 'start': '2022-01-25T17:00:00.000Z', 'tweet_count': 26391}, {'end': '2022-01-25T19:00:00.000Z', 'start': '2022-01-25T18:00:00.000Z', 'tweet_count': 22622}, {'end': '2022-01-25T20:00:00.000Z', 'start': '2022-01-25T19:00:00.000Z', 'tweet_count': 22074}, {'end': '2022-01-25T21:00:00.000Z', 'start': '2022-01-25T20:00:00.000Z', 'tweet_count': 21276}, {'end': '2022-01-25T22:00:00.000Z', 'start': '2022-01-25T21:00:00.000Z', 'tweet_count': 18097}, {'end': '2022-01-25T23:00:00.000Z', 'start': '2022-01-25T22:00:00.000Z', 'tweet_count': 17102}, {'end': '2022-01-26T00:00:00.000Z', 'start': '2022-01-25T23:00:00.000Z', 'tweet_count': 15862}, {'end': '2022-01-26T01:00:00.000Z', 'start': '2022-01-26T00:00:00.000Z', 'tweet_count': 14967}, {'end': '2022-01-26T02:00:00.000Z', 'start': '2022-01-26T01:00:00.000Z', 'tweet_count': 13641}, {'end': '2022-01-26T03:00:00.000Z', 'start': '2022-01-26T02:00:00.000Z', 'tweet_count': 14262}, {'end': '2022-01-26T04:00:00.000Z', 'start': '2022-01-26T03:00:00.000Z', 'tweet_count': 15917}, {'end': '2022-01-26T05:00:00.000Z', 'start': '2022-01-26T04:00:00.000Z', 'tweet_count': 15895}, {'end': '2022-01-26T06:00:00.000Z', 'start': '2022-01-26T05:00:00.000Z', 'tweet_count': 17157}, {'end': '2022-01-26T07:00:00.000Z', 'start': '2022-01-26T06:00:00.000Z', 'tweet_count': 16647}, {'end': '2022-01-26T08:00:00.000Z', 'start': '2022-01-26T07:00:00.000Z', 'tweet_count': 17672}, {'end': '2022-01-26T09:00:00.000Z', 'start': '2022-01-26T08:00:00.000Z', 'tweet_count': 21627}, {'end': '2022-01-26T10:00:00.000Z', 'start': '2022-01-26T09:00:00.000Z', 'tweet_count': 19894}, {'end': '2022-01-26T11:00:00.000Z', 'start': '2022-01-26T10:00:00.000Z', 'tweet_count': 22802}, {'end': '2022-01-26T12:00:00.000Z', 'start': '2022-01-26T11:00:00.000Z', 'tweet_count': 23096}, {'end': '2022-01-26T13:00:00.000Z', 'start': '2022-01-26T12:00:00.000Z', 'tweet_count': 28265}, {'end': '2022-01-26T14:00:00.000Z', 'start': '2022-01-26T13:00:00.000Z', 'tweet_count': 30712}, {'end': '2022-01-26T15:00:00.000Z', 'start': '2022-01-26T14:00:00.000Z', 'tweet_count': 35672}, {'end': '2022-01-26T16:00:00.000Z', 'start': '2022-01-26T15:00:00.000Z', 'tweet_count': 36624}, {'end': '2022-01-26T17:00:00.000Z', 'start': '2022-01-26T16:00:00.000Z', 'tweet_count': 32982}, {'end': '2022-01-26T18:00:00.000Z', 'start': '2022-01-26T17:00:00.000Z', 'tweet_count': 26663}, {'end': '2022-01-26T19:00:00.000Z', 'start': '2022-01-26T18:00:00.000Z', 'tweet_count': 23720}, {'end': '2022-01-26T20:00:00.000Z', 'start': '2022-01-26T19:00:00.000Z', 'tweet_count': 22501}, {'end': '2022-01-26T21:00:00.000Z', 'start': '2022-01-26T20:00:00.000Z', 'tweet_count': 19151}, {'end': '2022-01-26T22:00:00.000Z', 'start': '2022-01-26T21:00:00.000Z', 'tweet_count': 16925}, {'end': '2022-01-26T23:00:00.000Z', 'start': '2022-01-26T22:00:00.000Z', 'tweet_count': 16229}, {'end': '2022-01-27T00:00:00.000Z', 'start': '2022-01-26T23:00:00.000Z', 'tweet_count': 15339}, {'end': '2022-01-27T01:00:00.000Z', 'start': '2022-01-27T00:00:00.000Z', 'tweet_count': 13435}, {'end': '2022-01-27T02:00:00.000Z', 'start': '2022-01-27T01:00:00.000Z', 'tweet_count': 14659}, {'end': '2022-01-27T03:00:00.000Z', 'start': '2022-01-27T02:00:00.000Z', 'tweet_count': 15427}, {'end': '2022-01-27T04:00:00.000Z', 'start': '2022-01-27T03:00:00.000Z', 'tweet_count': 14471}, {'end': '2022-01-27T05:00:00.000Z', 'start': '2022-01-27T04:00:00.000Z', 'tweet_count': 14757}, {'end': '2022-01-27T06:00:00.000Z', 'start': '2022-01-27T05:00:00.000Z', 'tweet_count': 14366}, {'end': '2022-01-27T07:00:00.000Z', 'start': '2022-01-27T06:00:00.000Z', 'tweet_count': 14860}, {'end': '2022-01-27T08:00:00.000Z', 'start': '2022-01-27T07:00:00.000Z', 'tweet_count': 16773}, {'end': '2022-01-27T09:00:00.000Z', 'start': '2022-01-27T08:00:00.000Z', 'tweet_count': 18915}, {'end': '2022-01-27T10:00:00.000Z', 'start': '2022-01-27T09:00:00.000Z', 'tweet_count': 16662}, {'end': '2022-01-27T11:00:00.000Z', 'start': '2022-01-27T10:00:00.000Z', 'tweet_count': 16885}, {'end': '2022-01-27T12:00:00.000Z', 'start': '2022-01-27T11:00:00.000Z', 'tweet_count': 17985}, {'end': '2022-01-27T13:00:00.000Z', 'start': '2022-01-27T12:00:00.000Z', 'tweet_count': 22313}, {'end': '2022-01-27T14:00:00.000Z', 'start': '2022-01-27T13:00:00.000Z', 'tweet_count': 26179}, {'end': '2022-01-27T15:00:00.000Z', 'start': '2022-01-27T14:00:00.000Z', 'tweet_count': 25980}, {'end': '2022-01-27T16:00:00.000Z', 'start': '2022-01-27T15:00:00.000Z', 'tweet_count': 27445}, {'end': '2022-01-27T17:00:00.000Z', 'start': '2022-01-27T16:00:00.000Z', 'tweet_count': 27527}, {'end': '2022-01-27T18:00:00.000Z', 'start': '2022-01-27T17:00:00.000Z', 'tweet_count': 23123}, {'end': '2022-01-27T19:00:00.000Z', 'start': '2022-01-27T18:00:00.000Z', 'tweet_count': 20230}, {'end': '2022-01-27T20:00:00.000Z', 'start': '2022-01-27T19:00:00.000Z', 'tweet_count': 17273}, {'end': '2022-01-27T21:00:00.000Z', 'start': '2022-01-27T20:00:00.000Z', 'tweet_count': 19941}, {'end': '2022-01-27T22:00:00.000Z', 'start': '2022-01-27T21:00:00.000Z', 'tweet_count': 21247}, {'end': '2022-01-27T23:00:00.000Z', 'start': '2022-01-27T22:00:00.000Z', 'tweet_count': 17604}, {'end': '2022-01-28T00:00:00.000Z', 'start': '2022-01-27T23:00:00.000Z', 'tweet_count': 17111}, {'end': '2022-01-28T01:00:00.000Z', 'start': '2022-01-28T00:00:00.000Z', 'tweet_count': 16460}, {'end': '2022-01-28T02:00:00.000Z', 'start': '2022-01-28T01:00:00.000Z', 'tweet_count': 17849}, {'end': '2022-01-28T03:00:00.000Z', 'start': '2022-01-28T02:00:00.000Z', 'tweet_count': 15460}, {'end': '2022-01-28T04:00:00.000Z', 'start': '2022-01-28T03:00:00.000Z', 'tweet_count': 14389}, {'end': '2022-01-28T05:00:00.000Z', 'start': '2022-01-28T04:00:00.000Z', 'tweet_count': 14916}, {'end': '2022-01-28T06:00:00.000Z', 'start': '2022-01-28T05:00:00.000Z', 'tweet_count': 15443}, {'end': '2022-01-28T07:00:00.000Z', 'start': '2022-01-28T06:00:00.000Z', 'tweet_count': 15558}, {'end': '2022-01-28T08:00:00.000Z', 'start': '2022-01-28T07:00:00.000Z', 'tweet_count': 15918}, {'end': '2022-01-28T09:00:00.000Z', 'start': '2022-01-28T08:00:00.000Z', 'tweet_count': 18043}, {'end': '2022-01-28T10:00:00.000Z', 'start': '2022-01-28T09:00:00.000Z', 'tweet_count': 18828}, {'end': '2022-01-28T11:00:00.000Z', 'start': '2022-01-28T10:00:00.000Z', 'tweet_count': 18349}, {'end': '2022-01-28T12:00:00.000Z', 'start': '2022-01-28T11:00:00.000Z', 'tweet_count': 22850}, {'end': '2022-01-28T13:00:00.000Z', 'start': '2022-01-28T12:00:00.000Z', 'tweet_count': 24650}, {'end': '2022-01-28T14:00:00.000Z', 'start': '2022-01-28T13:00:00.000Z', 'tweet_count': 25401}, {'end': '2022-01-28T15:00:00.000Z', 'start': '2022-01-28T14:00:00.000Z', 'tweet_count': 25773}, {'end': '2022-01-28T15:10:30.000Z', 'start': '2022-01-28T15:00:00.000Z', 'tweet_count': 4697}]\n"
     ]
    }
   ],
   "source": [
    "query=\"(#btc OR #bitcoin OR bitcoin) lang:en\"\n",
    "\n",
    "#Open/create a file to append data to\n",
    "csvFile = open('tweets_counts.csv', 'a')\n",
    "\n",
    "# # Use csv writer\n",
    "csvWriter = csv.writer(csvFile)\n",
    "\n",
    "csvWriter.writerow(['item.start',\n",
    "                    'item.end',\n",
    "                    'item.tweet_count'])\n",
    "\n",
    "response = client.get_recent_tweets_count(query=query, start_time=str(seven_days_back),\n",
    "                                                               end_time=str(today), \n",
    "                                                               granularity='hour')\n",
    "#     # Write a row to the CSV file. I use encode UTF-8\n",
    "for item in response.data:\n",
    "    # Write a row to the CSV file. I use encode UTF-8\n",
    "    csvWriter.writerow([item['start'],\n",
    "                        item['end'],\n",
    "                        item['tweet_count']])\n",
    "                                 \n",
    "csvFile.close()"
   ]
  },
  {
   "cell_type": "code",
   "execution_count": null,
   "metadata": {},
   "outputs": [],
   "source": []
  }
 ],
 "metadata": {
  "kernelspec": {
   "display_name": "learn_env",
   "language": "python",
   "name": "learn_env"
  },
  "language_info": {
   "codemirror_mode": {
    "name": "ipython",
    "version": 3
   },
   "file_extension": ".py",
   "mimetype": "text/x-python",
   "name": "python",
   "nbconvert_exporter": "python",
   "pygments_lexer": "ipython3",
   "version": "3.9.7"
  }
 },
 "nbformat": 4,
 "nbformat_minor": 4
}
