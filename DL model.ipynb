{
 "cells": [
  {
   "cell_type": "code",
   "execution_count": 1,
   "id": "4bc93a33",
   "metadata": {},
   "outputs": [
    {
     "name": "stderr",
     "output_type": "stream",
     "text": [
      "[nltk_data] Downloading package stopwords to /Users/Filip/nltk_data...\n",
      "[nltk_data]   Package stopwords is already up-to-date!\n",
      "[nltk_data] Downloading package punkt to /Users/Filip/nltk_data...\n",
      "[nltk_data]   Package punkt is already up-to-date!\n",
      "Using TensorFlow backend.\n"
     ]
    }
   ],
   "source": [
    "#Import libraries\n",
    "import nltk\n",
    "nltk.download('stopwords')\n",
    "nltk.download('punkt')\n",
    "from nltk.corpus import stopwords\n",
    "from nltk import word_tokenize, FreqDist\n",
    "\n",
    "import string\n",
    "\n",
    "from sklearn.feature_extraction.text import TfidfVectorizer, CountVectorizer, TfidfTransformer\n",
    "from sklearn.pipeline import Pipeline\n",
    "from sklearn.metrics import accuracy_score\n",
    "from sklearn.datasets import fetch_20newsgroups\n",
    "from sklearn.ensemble import RandomForestClassifier\n",
    "from sklearn.naive_bayes import MultinomialNB\n",
    "from sklearn.model_selection import train_test_split\n",
    "from sklearn import preprocessing\n",
    "from sklearn.utils.multiclass import unique_labels\n",
    "from sklearn.utils.class_weight import compute_class_weight\n",
    "from sklearn.metrics import confusion_matrix\n",
    "\n",
    "\n",
    "import matplotlib.pyplot as plt\n",
    "import pandas as pd\n",
    "import numpy as np\n",
    "import seaborn as sns\n",
    "\n",
    "from keras.utils import to_categorical\n",
    "from keras.preprocessing.sequence import pad_sequences\n",
    "from keras.preprocessing.text import Tokenizer\n",
    "from keras import models\n",
    "from keras import layers\n",
    "from keras import optimizers\n",
    "from keras.layers import Dense, Dropout, Embedding, LSTM, GlobalMaxPooling1D, SpatialDropout1D\n",
    "\n",
    "import gensim\n",
    "from gensim.models import Word2Vec\n",
    "\n",
    "np.random.seed(0)\n",
    "\n",
    "%matplotlib inline\n",
    "plt.style.use('seaborn')\n",
    "\n",
    "import warnings\n",
    "warnings.filterwarnings('ignore')"
   ]
  },
  {
   "cell_type": "markdown",
   "id": "725ee380",
   "metadata": {},
   "source": [
    "### Read and Load the Dataset"
   ]
  },
  {
   "cell_type": "code",
   "execution_count": 2,
   "id": "e92195cb",
   "metadata": {},
   "outputs": [
    {
     "data": {
      "text/html": [
       "<div>\n",
       "<style scoped>\n",
       "    .dataframe tbody tr th:only-of-type {\n",
       "        vertical-align: middle;\n",
       "    }\n",
       "\n",
       "    .dataframe tbody tr th {\n",
       "        vertical-align: top;\n",
       "    }\n",
       "\n",
       "    .dataframe thead th {\n",
       "        text-align: right;\n",
       "    }\n",
       "</style>\n",
       "<table border=\"1\" class=\"dataframe\">\n",
       "  <thead>\n",
       "    <tr style=\"text-align: right;\">\n",
       "      <th></th>\n",
       "      <th>text</th>\n",
       "      <th>label</th>\n",
       "    </tr>\n",
       "  </thead>\n",
       "  <tbody>\n",
       "    <tr>\n",
       "      <th>0</th>\n",
       "      <td>@FamiLee_Farm @0xBingBong I first dissented in...</td>\n",
       "      <td>negative</td>\n",
       "    </tr>\n",
       "    <tr>\n",
       "      <th>1</th>\n",
       "      <td>A disaster.\\n\\nThe sooner aid agencies worldwi...</td>\n",
       "      <td>negative</td>\n",
       "    </tr>\n",
       "    <tr>\n",
       "      <th>2</th>\n",
       "      <td>With the very real threat of the government tr...</td>\n",
       "      <td>negative</td>\n",
       "    </tr>\n",
       "    <tr>\n",
       "      <th>3</th>\n",
       "      <td>Bitcoin mining's energy use has more than trip...</td>\n",
       "      <td>neutral</td>\n",
       "    </tr>\n",
       "    <tr>\n",
       "      <th>4</th>\n",
       "      <td>Tori Zero NFT Project Launched a Joint Coopera...</td>\n",
       "      <td>positive</td>\n",
       "    </tr>\n",
       "  </tbody>\n",
       "</table>\n",
       "</div>"
      ],
      "text/plain": [
       "                                                text     label\n",
       "0  @FamiLee_Farm @0xBingBong I first dissented in...  negative\n",
       "1  A disaster.\\n\\nThe sooner aid agencies worldwi...  negative\n",
       "2  With the very real threat of the government tr...  negative\n",
       "3  Bitcoin mining's energy use has more than trip...   neutral\n",
       "4  Tori Zero NFT Project Launched a Joint Coopera...  positive"
      ]
     },
     "execution_count": 2,
     "metadata": {},
     "output_type": "execute_result"
    }
   ],
   "source": [
    "# Upload datasets\n",
    "df = pd.read_csv('data/tweet_labeled.csv', encoding = 'unicode_escape')\n",
    "df.head()"
   ]
  },
  {
   "cell_type": "markdown",
   "id": "81c22cca",
   "metadata": {},
   "source": [
    "### Exploratory Data Analysis"
   ]
  },
  {
   "cell_type": "code",
   "execution_count": 3,
   "id": "7c0d2149",
   "metadata": {},
   "outputs": [
    {
     "name": "stdout",
     "output_type": "stream",
     "text": [
      "<class 'pandas.core.frame.DataFrame'>\n",
      "RangeIndex: 4766 entries, 0 to 4765\n",
      "Data columns (total 2 columns):\n",
      " #   Column  Non-Null Count  Dtype \n",
      "---  ------  --------------  ----- \n",
      " 0   text    4766 non-null   object\n",
      " 1   label   4766 non-null   object\n",
      "dtypes: object(2)\n",
      "memory usage: 74.6+ KB\n"
     ]
    }
   ],
   "source": [
    "df.info()"
   ]
  },
  {
   "cell_type": "code",
   "execution_count": 4,
   "id": "b8e3b713",
   "metadata": {},
   "outputs": [
    {
     "data": {
      "text/plain": [
       "array(['negative', 'neutral', 'positive'], dtype=object)"
      ]
     },
     "execution_count": 4,
     "metadata": {},
     "output_type": "execute_result"
    }
   ],
   "source": [
    "#Unique target variables\n",
    "df['label'].unique()"
   ]
  },
  {
   "cell_type": "code",
   "execution_count": 5,
   "id": "e62279d7",
   "metadata": {},
   "outputs": [
    {
     "data": {
      "image/png": "[encoded data removed]",
      "text/plain": [
       "<Figure size 432x288 with 1 Axes>"
      ]
     },
     "metadata": {
      "needs_background": "light"
     },
     "output_type": "display_data"
    }
   ],
   "source": [
    "#Visualization of target variables\n",
    "df['label'].value_counts().plot(kind='bar');"
   ]
  },
  {
   "cell_type": "markdown",
   "id": "d4ab43de",
   "metadata": {},
   "source": [
    "### Cleaning and Preprocessing Data"
   ]
  },
  {
   "cell_type": "markdown",
   "id": "4e9f7362",
   "metadata": {},
   "source": [
    "#### Break apart the data and the labels, and then inspect the class names"
   ]
  },
  {
   "cell_type": "code",
   "execution_count": 6,
   "id": "34f733bd",
   "metadata": {},
   "outputs": [],
   "source": [
    "#Break apart the data and labels by dropping columns\n",
    "data = df.drop(columns=['label'])\n",
    "target = df.drop(columns=['text'])"
   ]
  },
  {
   "cell_type": "code",
   "execution_count": 7,
   "id": "8e3473fc",
   "metadata": {},
   "outputs": [
    {
     "name": "stdout",
     "output_type": "stream",
     "text": [
      "{0: 'negative', 1: 'neutral', 2: 'positive'}\n"
     ]
    }
   ],
   "source": [
    "#Check values for target encoding\n",
    "c = target.label.astype('category')\n",
    "label_names = dict(enumerate(c.cat.categories))\n",
    "print (label_names)"
   ]
  },
  {
   "cell_type": "code",
   "execution_count": 8,
   "id": "093cc9bc",
   "metadata": {},
   "outputs": [],
   "source": [
    "#Change type of column\n",
    "#https://pandas.pydata.org/pandas-docs/version/0.23/generated/pandas.Categorical.html\n",
    "target['label'] = pd.Categorical(target['label'])"
   ]
  },
  {
   "cell_type": "code",
   "execution_count": 9,
   "id": "41c32b8e",
   "metadata": {},
   "outputs": [],
   "source": [
    "#Encode labels as per dictonary above\n",
    "target['label'] = target['label'].cat.codes"
   ]
  },
  {
   "cell_type": "code",
   "execution_count": 10,
   "id": "d1f3324a",
   "metadata": {},
   "outputs": [
    {
     "data": {
      "text/plain": [
       "[0, 1, 2]"
      ]
     },
     "execution_count": 10,
     "metadata": {},
     "output_type": "execute_result"
    }
   ],
   "source": [
    "class_names = list(label_names.keys())\n",
    "class_names"
   ]
  },
  {
   "cell_type": "code",
   "execution_count": 11,
   "id": "8254b614",
   "metadata": {},
   "outputs": [
    {
     "name": "stdout",
     "output_type": "stream",
     "text": [
      "[1.21550625 1.15287857 0.76341502]\n"
     ]
    }
   ],
   "source": [
    "#Address class weight imbalance by providing class weights with sklearn compute_class_weight function\n",
    "class_weights = compute_class_weight('balanced', class_names, target['label'])\n",
    "print(class_weights)"
   ]
  },
  {
   "cell_type": "markdown",
   "id": "ea90b03a",
   "metadata": {},
   "source": [
    "#### List of stopwords"
   ]
  },
  {
   "cell_type": "code",
   "execution_count": 12,
   "id": "1d116334",
   "metadata": {},
   "outputs": [],
   "source": [
    "# #### Getting a list of all of the english stopwords, and concatenating them with a list of all the punctuation.\n",
    "stopwords_list = stopwords.words('english') + list(string.punctuation)\n",
    "stopwords_list += [\"''\", '\"\"', '...', '``', \"'s\"]"
   ]
  },
  {
   "cell_type": "code",
   "execution_count": 13,
   "id": "7075f195",
   "metadata": {},
   "outputs": [],
   "source": [
    "#Define function that returns tokenized lowercased tweet without stopwords\n",
    "def process_tweet(tweet):\n",
    "    tokens = nltk.word_tokenize(tweet)\n",
    "    stopwords_removed = [token.lower() for token in tokens if token.lower() not in stopwords_list]\n",
    "    return stopwords_removed"
   ]
  },
  {
   "cell_type": "code",
   "execution_count": 14,
   "id": "c94118df",
   "metadata": {},
   "outputs": [
    {
     "data": {
      "text/plain": [
       "['familee_farm',\n",
       " '0xbingbong',\n",
       " 'first',\n",
       " 'dissented',\n",
       " '2018',\n",
       " 'spot',\n",
       " 'bitcoin',\n",
       " 'etp',\n",
       " 'denial',\n",
       " '4',\n",
       " 'years',\n",
       " 'later',\n",
       " 'still',\n",
       " 'approval',\n",
       " 'sec',\n",
       " 'remains',\n",
       " 'mired',\n",
       " 'unbounded',\n",
       " 'dangerous',\n",
       " 'territory',\n",
       " 'merit',\n",
       " 'regulation',\n",
       " 'commission',\n",
       " 'ill-equipped',\n",
       " 'https',\n",
       " '//t.co/stmetrqpqn']"
      ]
     },
     "execution_count": 14,
     "metadata": {},
     "output_type": "execute_result"
    }
   ],
   "source": [
    "#Check how removing stopwords works\n",
    "process_tweet(data.text[0])"
   ]
  },
  {
   "cell_type": "markdown",
   "id": "d7e32882",
   "metadata": {},
   "source": [
    "#### Check tweet length distribution and max value (including stopwords)"
   ]
  },
  {
   "cell_type": "code",
   "execution_count": 15,
   "id": "5bde9bdf",
   "metadata": {},
   "outputs": [],
   "source": [
    "# Convert training data into tensors to feed into neural net\n",
    "t = Tokenizer()\n",
    "\n",
    "# Create tokenizer\n",
    "t.fit_on_texts(data['text'])"
   ]
  },
  {
   "cell_type": "code",
   "execution_count": 49,
   "id": "977c0c9b",
   "metadata": {},
   "outputs": [
    {
     "data": {
      "text/plain": [
       "15050"
      ]
     },
     "execution_count": 49,
     "metadata": {},
     "output_type": "execute_result"
    }
   ],
   "source": [
    "# Find number of unique words in our tweets\n",
    "vocab_size = len(t.word_index) + 1\n",
    "vocab_size"
   ]
  },
  {
   "cell_type": "markdown",
   "id": "b85be9d6-2467-4a23-b1a0-f8c5a15661ea",
   "metadata": {},
   "source": [
    "### Tweet vectorization"
   ]
  },
  {
   "cell_type": "code",
   "execution_count": 18,
   "id": "19eddde0",
   "metadata": {},
   "outputs": [],
   "source": [
    "# This class allows to vectorize a text corpus, by turning each text into either a sequence of integers\n",
    "sequences = t.texts_to_sequences(data['text'])"
   ]
  },
  {
   "cell_type": "code",
   "execution_count": 19,
   "id": "3c680426",
   "metadata": {},
   "outputs": [],
   "source": [
    "# Find longest tweet in sequences\n",
    "def max_tweet():\n",
    "    for i in range(1, len(sequences)):\n",
    "        max_length = len(sequences[0])\n",
    "        if len(sequences[i]) > max_length:\n",
    "            max_length = len(sequences[i])\n",
    "    return max_length"
   ]
  },
  {
   "cell_type": "code",
   "execution_count": 20,
   "id": "f0bac0e1",
   "metadata": {},
   "outputs": [
    {
     "data": {
      "text/plain": [
       "45"
      ]
     },
     "execution_count": 20,
     "metadata": {},
     "output_type": "execute_result"
    }
   ],
   "source": [
    "max_tweet_len = max_tweet()\n",
    "max_tweet_len"
   ]
  },
  {
   "cell_type": "code",
   "execution_count": 21,
   "id": "145ab2d9",
   "metadata": {},
   "outputs": [],
   "source": [
    "#Truncate and pad input sequences to be all the same lenght vectors\n",
    "padded_data = pad_sequences(sequences, maxlen=max_tweet_len)"
   ]
  },
  {
   "cell_type": "code",
   "execution_count": 22,
   "id": "b3357b8f",
   "metadata": {},
   "outputs": [
    {
     "data": {
      "text/plain": [
       "array([[ 6023,  3194,  6024, ...,     3,     4,  6028],\n",
       "       [    0,     0,     0, ...,     3,     4,  6029],\n",
       "       [    0,     0,     0, ...,     3,     4,  6030],\n",
       "       ...,\n",
       "       [    0,     0,     0, ...,     3,     4, 15043],\n",
       "       [    0,     0,     0, ...,     3,     4, 15046],\n",
       "       [    0,     0,     0, ...,     2,     1, 15049]], dtype=int32)"
      ]
     },
     "execution_count": 22,
     "metadata": {},
     "output_type": "execute_result"
    }
   ],
   "source": [
    "padded_data"
   ]
  },
  {
   "cell_type": "code",
   "execution_count": 23,
   "id": "1f484380",
   "metadata": {},
   "outputs": [],
   "source": [
    "# Split data into training and test sets\n",
    "X_train, X_test, y_train, y_test = train_test_split(padded_data, target, test_size = 0.2, random_state = 0)"
   ]
  },
  {
   "cell_type": "code",
   "execution_count": 24,
   "id": "5a8a7634",
   "metadata": {},
   "outputs": [],
   "source": [
    "y_train = to_categorical(y_train)\n",
    "y_test = to_categorical(y_test)"
   ]
  },
  {
   "cell_type": "code",
   "execution_count": 25,
   "id": "dbba5eda",
   "metadata": {},
   "outputs": [
    {
     "name": "stdout",
     "output_type": "stream",
     "text": [
      "X_train size: (3812, 45)\n",
      "y_train size: (3812, 3)\n",
      "X_test size: (954, 45)\n",
      "y_test size: (954, 3)\n"
     ]
    }
   ],
   "source": [
    "# Size of train and test datasets\n",
    "print('X_train size:', X_train.shape)\n",
    "print('y_train size:', y_train.shape)\n",
    "print('X_test size:', X_test.shape)\n",
    "print('y_test size:', y_test.shape)"
   ]
  },
  {
   "cell_type": "markdown",
   "id": "3026c48b",
   "metadata": {},
   "source": [
    "### Pre-trained word embedding"
   ]
  },
  {
   "cell_type": "code",
   "execution_count": 26,
   "id": "6cbcd842",
   "metadata": {},
   "outputs": [],
   "source": [
    "# # load the whole embedding into memory\n",
    "# # https://machinelearningmastery.com/use-word-embedding-layers-deep-learning-keras/\n",
    "# # 50 dimensional version (embedding dimension)\n",
    "# embeddings_index = dict()\n",
    "# f = open('glove/glove.twitter.27B.50d.txt')\n",
    "# for line in f:\n",
    "#     values = line.split()\n",
    "#     word = values[0]\n",
    "#     coefs = np.asarray(values[1:], dtype='float32')\n",
    "#     embeddings_index[word] = coefs\n",
    "# f.close()\n",
    "# print('Loaded %s word vectors.' % len(embeddings_index))"
   ]
  },
  {
   "cell_type": "code",
   "execution_count": 27,
   "id": "9c329355",
   "metadata": {},
   "outputs": [],
   "source": [
    "import pickle\n",
    "\n",
    "# with open('embeddings_index.pickle', 'wb') as handle:\n",
    "#     pickle.dump(embeddings_index, handle, protocol=pickle.HIGHEST_PROTOCOL)\n",
    "\n",
    "with open('embeddings_index.pickle', 'rb') as handle:\n",
    "    embeddings_index = pickle.load(handle)"
   ]
  },
  {
   "cell_type": "markdown",
   "id": "d5b5b3fd",
   "metadata": {},
   "source": [
    "**Because we're using GloVE, need to create a word embedding/word context matrix**\n",
    "- Create a matrix of weights for words in the training set\n",
    "\n",
    "- One embedding for each word in the training set\n",
    "\n",
    "- Get all unique words in our training set: Tokenizer index\n",
    "- Find the corresponding weight vector in GloVe embedding\n"
   ]
  },
  {
   "cell_type": "code",
   "execution_count": 45,
   "id": "77aba97a",
   "metadata": {},
   "outputs": [
    {
     "data": {
      "text/plain": [
       "1"
      ]
     },
     "execution_count": 45,
     "metadata": {},
     "output_type": "execute_result"
    }
   ],
   "source": [
    "#Check word index dictionary\n",
    "t.word_index['bitcoin']"
   ]
  },
  {
   "cell_type": "code",
   "execution_count": 46,
   "id": "8b2424c8",
   "metadata": {},
   "outputs": [],
   "source": [
    "# Define size of embedding matrix: number of unique words x embedding dim (100)\n",
    "embedding_matrix = np.zeros((vocab_size, 50))\n",
    "\n",
    "# fill in matrix\n",
    "for word, i in t.word_index.items():  # dictionary\n",
    "    embedding_vector = embeddings_index.get(word) # gets embedded vector of word from GloVe\n",
    "    if embedding_vector is not None:\n",
    "        # add to matrix\n",
    "        embedding_matrix[i] = embedding_vector # each row of matrix"
   ]
  },
  {
   "cell_type": "code",
   "execution_count": 47,
   "id": "188a28f4",
   "metadata": {},
   "outputs": [
    {
     "data": {
      "text/plain": [
       "array([[ 0.        ,  0.        ,  0.        , ...,  0.        ,\n",
       "         0.        ,  0.        ],\n",
       "       [ 0.051568  ,  0.14289001, -0.92000002, ..., -0.037566  ,\n",
       "        -0.030631  ,  1.44770002],\n",
       "       [ 0.25319999, -0.014884  ,  0.59371001, ..., -0.28931999,\n",
       "         0.45493001,  0.18659   ],\n",
       "       ...,\n",
       "       [ 0.        ,  0.        ,  0.        , ...,  0.        ,\n",
       "         0.        ,  0.        ],\n",
       "       [ 0.        ,  0.        ,  0.        , ...,  0.        ,\n",
       "         0.        ,  0.        ],\n",
       "       [-0.57010001,  0.80501997, -0.32980001, ..., -0.68456   ,\n",
       "         0.097071  ,  0.46110001]])"
      ]
     },
     "execution_count": 47,
     "metadata": {},
     "output_type": "execute_result"
    }
   ],
   "source": [
    "embedding_matrix"
   ]
  },
  {
   "cell_type": "code",
   "execution_count": 48,
   "id": "5e360435",
   "metadata": {},
   "outputs": [],
   "source": [
    "# Input is vocab_size, output is 50\n",
    "# Weights from embedding matrix, set trainable = False\n",
    "tweet_num = max_tweet_len\n",
    "\n",
    "#Create the embdedding layer\n",
    "embedding_layer = Embedding(input_dim=vocab_size, output_dim=50, weights=[embedding_matrix],\n",
    "                           input_length = tweet_num, trainable=False)"
   ]
  },
  {
   "cell_type": "markdown",
   "id": "75357870",
   "metadata": {},
   "source": [
    "### Build Neural Net"
   ]
  },
  {
   "cell_type": "code",
   "execution_count": 50,
   "id": "1c46c1f5",
   "metadata": {},
   "outputs": [],
   "source": [
    "from keras.models import Sequential\n",
    "from keras.layers import Dense\n",
    "from keras.layers import Flatten\n",
    "from keras.layers import LSTM\n",
    "from keras.layers import GRU\n",
    "from keras.layers import BatchNormalization"
   ]
  },
  {
   "cell_type": "code",
   "execution_count": 51,
   "id": "404cb53a",
   "metadata": {},
   "outputs": [],
   "source": [
    "def visualize_training_results(results):\n",
    "    history = results.history\n",
    "    plt.figure()\n",
    "    plt.plot(history['val_loss'])\n",
    "    plt.plot(history['loss'])\n",
    "    plt.legend(['val_loss', 'loss'])\n",
    "    plt.title('Loss')\n",
    "    plt.xlabel('Epochs')\n",
    "    plt.ylabel('Loss')\n",
    "    plt.show()\n",
    "    \n",
    "    plt.figure()\n",
    "    plt.plot(history['val_acc'])\n",
    "    plt.plot(history['acc'])\n",
    "    plt.legend(['val_acc', 'acc'])\n",
    "    plt.title('Accuracy')\n",
    "    plt.xlabel('Epochs')\n",
    "    plt.ylabel('Accuracy')\n",
    "    plt.show()"
   ]
  },
  {
   "cell_type": "markdown",
   "id": "b24ad677",
   "metadata": {},
   "source": [
    "#### Model 1: Simple LSTM Model with regularization, increase dimensionality"
   ]
  },
  {
   "cell_type": "code",
   "execution_count": 53,
   "id": "cc88a2d4",
   "metadata": {},
   "outputs": [
    {
     "name": "stdout",
     "output_type": "stream",
     "text": [
      "_________________________________________________________________\n",
      "Layer (type)                 Output Shape              Param #   \n",
      "=================================================================\n",
      "embedding_1 (Embedding)      (None, 45, 50)            752500    \n",
      "_________________________________________________________________\n",
      "lstm_2 (LSTM)                (None, 256)               314368    \n",
      "_________________________________________________________________\n",
      "dense_2 (Dense)              (None, 3)                 771       \n",
      "=================================================================\n",
      "Total params: 1,067,639\n",
      "Trainable params: 315,139\n",
      "Non-trainable params: 752,500\n",
      "_________________________________________________________________\n"
     ]
    }
   ],
   "source": [
    "lstm_mod1 = Sequential()\n",
    "lstm_mod1.add(embedding_layer)\n",
    "lstm_mod1.add(LSTM(256, \n",
    "               dropout = 0.2, \n",
    "               recurrent_dropout = 0.5))\n",
    "lstm_mod1.add(Dense(3, activation='softmax'))\n",
    "lstm_mod1.compile(optimizer='adam', loss='categorical_crossentropy', metrics=['acc'])\n",
    "lstm_mod1.summary()"
   ]
  },
  {
   "cell_type": "code",
   "execution_count": 54,
   "id": "bc3e382d",
   "metadata": {
    "collapsed": true,
    "jupyter": {
     "outputs_hidden": true
    }
   },
   "outputs": [
    {
     "name": "stdout",
     "output_type": "stream",
     "text": [
      "Train on 3049 samples, validate on 763 samples\n",
      "Epoch 1/100\n",
      "3049/3049 [==============================] - 10s 3ms/step - loss: 1.0661 - acc: 0.4378 - val_loss: 1.0598 - val_acc: 0.4980\n",
      "Epoch 2/100\n",
      "3049/3049 [==============================] - 8s 3ms/step - loss: 1.0422 - acc: 0.4657 - val_loss: 1.0226 - val_acc: 0.4849\n",
      "Epoch 3/100\n",
      "3049/3049 [==============================] - 11s 4ms/step - loss: 1.0188 - acc: 0.4982 - val_loss: 0.9907 - val_acc: 0.5164\n",
      "Epoch 4/100\n",
      "3049/3049 [==============================] - 11s 4ms/step - loss: 0.9905 - acc: 0.5044 - val_loss: 0.9873 - val_acc: 0.5046\n",
      "Epoch 5/100\n",
      "3049/3049 [==============================] - 10s 3ms/step - loss: 0.9815 - acc: 0.5225 - val_loss: 0.9759 - val_acc: 0.5321\n",
      "Epoch 6/100\n",
      "3049/3049 [==============================] - 9s 3ms/step - loss: 0.9777 - acc: 0.5290 - val_loss: 0.9648 - val_acc: 0.5360\n",
      "Epoch 7/100\n",
      "3049/3049 [==============================] - 9s 3ms/step - loss: 0.9706 - acc: 0.5257 - val_loss: 0.9752 - val_acc: 0.5177\n",
      "Epoch 8/100\n",
      "3049/3049 [==============================] - 8s 3ms/step - loss: 0.9609 - acc: 0.5297 - val_loss: 0.9664 - val_acc: 0.5164\n",
      "Epoch 9/100\n",
      "3049/3049 [==============================] - 8s 3ms/step - loss: 0.9484 - acc: 0.5444 - val_loss: 0.9461 - val_acc: 0.5413\n",
      "Epoch 10/100\n",
      "3049/3049 [==============================] - 8s 3ms/step - loss: 0.9389 - acc: 0.5484 - val_loss: 0.9351 - val_acc: 0.5491\n",
      "Epoch 11/100\n",
      "3049/3049 [==============================] - 8s 3ms/step - loss: 0.9372 - acc: 0.5648 - val_loss: 0.9376 - val_acc: 0.5583\n",
      "Epoch 12/100\n",
      "3049/3049 [==============================] - 8s 3ms/step - loss: 0.9308 - acc: 0.5592 - val_loss: 0.9262 - val_acc: 0.5531\n",
      "Epoch 13/100\n",
      "3049/3049 [==============================] - 8s 3ms/step - loss: 0.9348 - acc: 0.5503 - val_loss: 0.9377 - val_acc: 0.5308\n",
      "Epoch 14/100\n",
      "3049/3049 [==============================] - 8s 3ms/step - loss: 0.9163 - acc: 0.5677 - val_loss: 0.9183 - val_acc: 0.5544\n",
      "Epoch 15/100\n",
      "3049/3049 [==============================] - 8s 3ms/step - loss: 0.9080 - acc: 0.5746 - val_loss: 0.9194 - val_acc: 0.5649\n",
      "Epoch 16/100\n",
      "3049/3049 [==============================] - 8s 3ms/step - loss: 0.9021 - acc: 0.5759 - val_loss: 0.9174 - val_acc: 0.5452\n",
      "Epoch 17/100\n",
      "3049/3049 [==============================] - 8s 3ms/step - loss: 0.9038 - acc: 0.5776 - val_loss: 0.9040 - val_acc: 0.5754\n",
      "Epoch 18/100\n",
      "3049/3049 [==============================] - 8s 3ms/step - loss: 0.8992 - acc: 0.5789 - val_loss: 0.8992 - val_acc: 0.5754\n",
      "Epoch 19/100\n",
      "3049/3049 [==============================] - 9s 3ms/step - loss: 0.8849 - acc: 0.5789 - val_loss: 0.8980 - val_acc: 0.5662\n",
      "Epoch 20/100\n",
      "3049/3049 [==============================] - 8s 3ms/step - loss: 0.8815 - acc: 0.5995 - val_loss: 0.8959 - val_acc: 0.5623\n",
      "Epoch 21/100\n",
      "3049/3049 [==============================] - 8s 3ms/step - loss: 0.8869 - acc: 0.5828 - val_loss: 0.8969 - val_acc: 0.5649\n",
      "Epoch 22/100\n",
      "3049/3049 [==============================] - 8s 3ms/step - loss: 0.8791 - acc: 0.5953 - val_loss: 0.9254 - val_acc: 0.5609\n",
      "Epoch 23/100\n",
      "3049/3049 [==============================] - 8s 3ms/step - loss: 0.8652 - acc: 0.6077 - val_loss: 0.8925 - val_acc: 0.5872\n",
      "Epoch 24/100\n",
      "3049/3049 [==============================] - 8s 3ms/step - loss: 0.8541 - acc: 0.6045 - val_loss: 0.8931 - val_acc: 0.5819\n",
      "Epoch 25/100\n",
      "3049/3049 [==============================] - 8s 3ms/step - loss: 0.8558 - acc: 0.6110 - val_loss: 0.9075 - val_acc: 0.5911\n",
      "Epoch 26/100\n",
      "3049/3049 [==============================] - 9s 3ms/step - loss: 0.8652 - acc: 0.6094 - val_loss: 0.9178 - val_acc: 0.5832\n",
      "Epoch 27/100\n",
      "3049/3049 [==============================] - 8s 3ms/step - loss: 0.8497 - acc: 0.6205 - val_loss: 0.8845 - val_acc: 0.5898\n",
      "Epoch 28/100\n",
      "3049/3049 [==============================] - 8s 3ms/step - loss: 0.8430 - acc: 0.6235 - val_loss: 0.8715 - val_acc: 0.5806\n",
      "Epoch 29/100\n",
      "3049/3049 [==============================] - 9s 3ms/step - loss: 0.8317 - acc: 0.6277 - val_loss: 0.8594 - val_acc: 0.6068\n",
      "Epoch 30/100\n",
      "3049/3049 [==============================] - 8s 3ms/step - loss: 0.8245 - acc: 0.6310 - val_loss: 0.8571 - val_acc: 0.6212\n",
      "Epoch 31/100\n",
      "3049/3049 [==============================] - 8s 3ms/step - loss: 0.8199 - acc: 0.6340 - val_loss: 0.8577 - val_acc: 0.6134\n",
      "Epoch 32/100\n",
      "3049/3049 [==============================] - 8s 3ms/step - loss: 0.8165 - acc: 0.6343 - val_loss: 0.8518 - val_acc: 0.6304\n",
      "Epoch 33/100\n",
      "3049/3049 [==============================] - 8s 3ms/step - loss: 0.8048 - acc: 0.6438 - val_loss: 0.8582 - val_acc: 0.6160\n",
      "Epoch 34/100\n",
      "3049/3049 [==============================] - 8s 3ms/step - loss: 0.7959 - acc: 0.6415 - val_loss: 0.8377 - val_acc: 0.6370\n",
      "Epoch 35/100\n",
      "3049/3049 [==============================] - 8s 3ms/step - loss: 0.7861 - acc: 0.6530 - val_loss: 0.8317 - val_acc: 0.6278\n",
      "Epoch 36/100\n",
      "3049/3049 [==============================] - 9s 3ms/step - loss: 0.7872 - acc: 0.6543 - val_loss: 0.8341 - val_acc: 0.6501\n",
      "Epoch 37/100\n",
      "3049/3049 [==============================] - 10s 3ms/step - loss: 0.7700 - acc: 0.6576 - val_loss: 0.8254 - val_acc: 0.6501\n",
      "Epoch 38/100\n",
      "3049/3049 [==============================] - 10s 3ms/step - loss: 0.7591 - acc: 0.6681 - val_loss: 0.8478 - val_acc: 0.6304\n",
      "Epoch 39/100\n",
      "3049/3049 [==============================] - 10s 3ms/step - loss: 0.7684 - acc: 0.6520 - val_loss: 0.8253 - val_acc: 0.6330\n",
      "Epoch 40/100\n",
      "3049/3049 [==============================] - 9s 3ms/step - loss: 0.7570 - acc: 0.6658 - val_loss: 0.8200 - val_acc: 0.6225\n",
      "Epoch 41/100\n",
      "3049/3049 [==============================] - 8s 3ms/step - loss: 0.7278 - acc: 0.6901 - val_loss: 0.8269 - val_acc: 0.6461\n",
      "Epoch 42/100\n",
      "3049/3049 [==============================] - 9s 3ms/step - loss: 0.7260 - acc: 0.6819 - val_loss: 0.8144 - val_acc: 0.6396\n",
      "Epoch 43/100\n",
      "3049/3049 [==============================] - 10s 3ms/step - loss: 0.7251 - acc: 0.6802 - val_loss: 0.8158 - val_acc: 0.6409\n",
      "Epoch 44/100\n",
      "3049/3049 [==============================] - 9s 3ms/step - loss: 0.7141 - acc: 0.6901 - val_loss: 0.7979 - val_acc: 0.6553\n",
      "Epoch 45/100\n",
      "3049/3049 [==============================] - 10s 3ms/step - loss: 0.7208 - acc: 0.6884 - val_loss: 0.7912 - val_acc: 0.6658\n",
      "Epoch 46/100\n",
      "3049/3049 [==============================] - 8s 3ms/step - loss: 0.6999 - acc: 0.7081 - val_loss: 0.8005 - val_acc: 0.6592\n",
      "Epoch 47/100\n",
      "3049/3049 [==============================] - 8s 3ms/step - loss: 0.6879 - acc: 0.7029 - val_loss: 0.7812 - val_acc: 0.6697\n",
      "Epoch 48/100\n",
      "3049/3049 [==============================] - 9s 3ms/step - loss: 0.6808 - acc: 0.7012 - val_loss: 0.8301 - val_acc: 0.6474\n",
      "Epoch 49/100\n",
      "3049/3049 [==============================] - 9s 3ms/step - loss: 0.6929 - acc: 0.7029 - val_loss: 0.8004 - val_acc: 0.6566\n",
      "Epoch 50/100\n",
      "3049/3049 [==============================] - 9s 3ms/step - loss: 0.6759 - acc: 0.7081 - val_loss: 0.8168 - val_acc: 0.6501\n",
      "Epoch 51/100\n",
      "3049/3049 [==============================] - 9s 3ms/step - loss: 0.6535 - acc: 0.7235 - val_loss: 0.8120 - val_acc: 0.6632\n",
      "Epoch 52/100\n",
      "3049/3049 [==============================] - 9s 3ms/step - loss: 0.6535 - acc: 0.7215 - val_loss: 0.7745 - val_acc: 0.6815\n",
      "Epoch 53/100\n",
      "3049/3049 [==============================] - 9s 3ms/step - loss: 0.6391 - acc: 0.7265 - val_loss: 0.7908 - val_acc: 0.6658\n",
      "Epoch 54/100\n",
      "3049/3049 [==============================] - 9s 3ms/step - loss: 0.6317 - acc: 0.7320 - val_loss: 0.7716 - val_acc: 0.6697\n",
      "Epoch 55/100\n",
      "3049/3049 [==============================] - 8s 3ms/step - loss: 0.6219 - acc: 0.7386 - val_loss: 0.7736 - val_acc: 0.6737\n",
      "Epoch 56/100\n",
      "3049/3049 [==============================] - 8s 3ms/step - loss: 0.6284 - acc: 0.7383 - val_loss: 0.7663 - val_acc: 0.6737\n",
      "Epoch 57/100\n",
      "3049/3049 [==============================] - 8s 3ms/step - loss: 0.6101 - acc: 0.7409 - val_loss: 0.7910 - val_acc: 0.6540\n",
      "Epoch 58/100\n",
      "3049/3049 [==============================] - 8s 3ms/step - loss: 0.5957 - acc: 0.7517 - val_loss: 0.7790 - val_acc: 0.6710\n",
      "Epoch 59/100\n",
      "3049/3049 [==============================] - 8s 3ms/step - loss: 0.5992 - acc: 0.7547 - val_loss: 0.7873 - val_acc: 0.6658\n",
      "Epoch 60/100\n",
      "3049/3049 [==============================] - 8s 3ms/step - loss: 0.5847 - acc: 0.7524 - val_loss: 0.7770 - val_acc: 0.6671\n",
      "Epoch 61/100\n",
      "3049/3049 [==============================] - 8s 3ms/step - loss: 0.5718 - acc: 0.7707 - val_loss: 0.7732 - val_acc: 0.6802\n",
      "Epoch 62/100\n",
      "3049/3049 [==============================] - 9s 3ms/step - loss: 0.5756 - acc: 0.7557 - val_loss: 0.7680 - val_acc: 0.6789\n",
      "Epoch 63/100\n",
      "3049/3049 [==============================] - 8s 3ms/step - loss: 0.5543 - acc: 0.7763 - val_loss: 0.8038 - val_acc: 0.6710\n",
      "Epoch 64/100\n",
      "3049/3049 [==============================] - 8s 3ms/step - loss: 0.5591 - acc: 0.7622 - val_loss: 0.7866 - val_acc: 0.6697\n",
      "Epoch 65/100\n",
      "3049/3049 [==============================] - 8s 3ms/step - loss: 0.5554 - acc: 0.7714 - val_loss: 0.7774 - val_acc: 0.6750\n",
      "Epoch 66/100\n",
      "3049/3049 [==============================] - 8s 3ms/step - loss: 0.5331 - acc: 0.7783 - val_loss: 0.8362 - val_acc: 0.6632\n",
      "Epoch 67/100\n",
      "3049/3049 [==============================] - 8s 3ms/step - loss: 0.5399 - acc: 0.7806 - val_loss: 0.8175 - val_acc: 0.6658\n",
      "Epoch 68/100\n",
      "3049/3049 [==============================] - 8s 3ms/step - loss: 0.5212 - acc: 0.7829 - val_loss: 0.8422 - val_acc: 0.6619\n",
      "Epoch 69/100\n",
      "3049/3049 [==============================] - 8s 3ms/step - loss: 0.5261 - acc: 0.7806 - val_loss: 0.8180 - val_acc: 0.6697\n",
      "Epoch 70/100\n",
      "3049/3049 [==============================] - 8s 3ms/step - loss: 0.4991 - acc: 0.8039 - val_loss: 0.7832 - val_acc: 0.6828\n",
      "Epoch 71/100\n",
      "3049/3049 [==============================] - 8s 3ms/step - loss: 0.4998 - acc: 0.7917 - val_loss: 0.8004 - val_acc: 0.6723\n",
      "Epoch 72/100\n",
      "3049/3049 [==============================] - 8s 3ms/step - loss: 0.4956 - acc: 0.7980 - val_loss: 0.7853 - val_acc: 0.6763\n",
      "Epoch 73/100\n",
      "3049/3049 [==============================] - 8s 3ms/step - loss: 0.4797 - acc: 0.8196 - val_loss: 0.8237 - val_acc: 0.6645\n",
      "Epoch 74/100\n",
      "3049/3049 [==============================] - 8s 3ms/step - loss: 0.4900 - acc: 0.8029 - val_loss: 0.7945 - val_acc: 0.6920\n",
      "Epoch 75/100\n",
      "3049/3049 [==============================] - 8s 3ms/step - loss: 0.4693 - acc: 0.8049 - val_loss: 0.8081 - val_acc: 0.6946\n",
      "Epoch 76/100\n",
      "3049/3049 [==============================] - 8s 3ms/step - loss: 0.4616 - acc: 0.8124 - val_loss: 0.8025 - val_acc: 0.6841\n",
      "Epoch 77/100\n",
      "3049/3049 [==============================] - 8s 3ms/step - loss: 0.4575 - acc: 0.8213 - val_loss: 0.8181 - val_acc: 0.6710\n",
      "Epoch 78/100\n",
      "3049/3049 [==============================] - 8s 3ms/step - loss: 0.4420 - acc: 0.8262 - val_loss: 0.8213 - val_acc: 0.6723\n",
      "Epoch 79/100\n",
      "3049/3049 [==============================] - 8s 3ms/step - loss: 0.4362 - acc: 0.8176 - val_loss: 0.8273 - val_acc: 0.6789\n",
      "Epoch 80/100\n",
      "3049/3049 [==============================] - 8s 3ms/step - loss: 0.4308 - acc: 0.8314 - val_loss: 0.8618 - val_acc: 0.6763\n",
      "Epoch 81/100\n",
      "3049/3049 [==============================] - 8s 3ms/step - loss: 0.4310 - acc: 0.8344 - val_loss: 0.8288 - val_acc: 0.6697\n",
      "Epoch 82/100\n",
      "3049/3049 [==============================] - 8s 3ms/step - loss: 0.4134 - acc: 0.8413 - val_loss: 0.8263 - val_acc: 0.6789\n",
      "Epoch 83/100\n",
      "3049/3049 [==============================] - 8s 3ms/step - loss: 0.4283 - acc: 0.8245 - val_loss: 0.8555 - val_acc: 0.6645\n",
      "Epoch 84/100\n",
      "3049/3049 [==============================] - 8s 3ms/step - loss: 0.4156 - acc: 0.8311 - val_loss: 0.8253 - val_acc: 0.6855\n",
      "Epoch 85/100\n",
      "3049/3049 [==============================] - 8s 3ms/step - loss: 0.4107 - acc: 0.8452 - val_loss: 0.8570 - val_acc: 0.6868\n",
      "Epoch 86/100\n",
      "3049/3049 [==============================] - 8s 3ms/step - loss: 0.3899 - acc: 0.8472 - val_loss: 0.8526 - val_acc: 0.6868\n",
      "Epoch 87/100\n",
      "3049/3049 [==============================] - 9s 3ms/step - loss: 0.3886 - acc: 0.8468 - val_loss: 0.8837 - val_acc: 0.6855\n",
      "Epoch 88/100\n",
      "3049/3049 [==============================] - 8s 3ms/step - loss: 0.3876 - acc: 0.8491 - val_loss: 0.8865 - val_acc: 0.6750\n",
      "Epoch 89/100\n",
      "3049/3049 [==============================] - 10s 3ms/step - loss: 0.3887 - acc: 0.8426 - val_loss: 0.8824 - val_acc: 0.6723\n",
      "Epoch 90/100\n",
      "3049/3049 [==============================] - 10s 3ms/step - loss: 0.3755 - acc: 0.8537 - val_loss: 0.8538 - val_acc: 0.6802\n",
      "Epoch 91/100\n",
      "3049/3049 [==============================] - 10s 3ms/step - loss: 0.3701 - acc: 0.8534 - val_loss: 0.8745 - val_acc: 0.6802\n",
      "Epoch 92/100\n",
      "3049/3049 [==============================] - 11s 4ms/step - loss: 0.3476 - acc: 0.8636 - val_loss: 0.9052 - val_acc: 0.6815\n",
      "Epoch 93/100\n",
      "3049/3049 [==============================] - 14s 5ms/step - loss: 0.3398 - acc: 0.8711 - val_loss: 0.9060 - val_acc: 0.6828\n",
      "Epoch 94/100\n",
      "3049/3049 [==============================] - 10s 3ms/step - loss: 0.3490 - acc: 0.8609 - val_loss: 0.8997 - val_acc: 0.6802\n",
      "Epoch 95/100\n",
      "3049/3049 [==============================] - 8s 3ms/step - loss: 0.3389 - acc: 0.8675 - val_loss: 0.8885 - val_acc: 0.6828\n",
      "Epoch 96/100\n",
      "3049/3049 [==============================] - 10s 3ms/step - loss: 0.3361 - acc: 0.8721 - val_loss: 0.9079 - val_acc: 0.6619\n",
      "Epoch 97/100\n",
      "3049/3049 [==============================] - 11s 4ms/step - loss: 0.3283 - acc: 0.8747 - val_loss: 0.9238 - val_acc: 0.6619\n",
      "Epoch 98/100\n",
      "3049/3049 [==============================] - 9s 3ms/step - loss: 0.3293 - acc: 0.8783 - val_loss: 0.9057 - val_acc: 0.6841\n",
      "Epoch 99/100\n",
      "3049/3049 [==============================] - 8s 3ms/step - loss: 0.3186 - acc: 0.8806 - val_loss: 0.9258 - val_acc: 0.6737\n",
      "Epoch 100/100\n",
      "3049/3049 [==============================] - 8s 3ms/step - loss: 0.3325 - acc: 0.8672 - val_loss: 0.9329 - val_acc: 0.6933\n"
     ]
    }
   ],
   "source": [
    "history_1 = lstm_mod1.fit(X_train, y_train,\n",
    "                    validation_split = 0.2, class_weight=class_weights,\n",
    "                    epochs=100, batch_size=256)"
   ]
  },
  {
   "cell_type": "code",
   "execution_count": 55,
   "id": "a9435bbc",
   "metadata": {},
   "outputs": [
    {
     "data": {
      "image/png": "[encoded data removed]",
      "text/plain": [
       "<Figure size 432x288 with 1 Axes>"
      ]
     },
     "metadata": {
      "needs_background": "light"
     },
     "output_type": "display_data"
    },
    {
     "data": {
      "image/png": "[encoded data removed]",
      "text/plain": [
       "<Figure size 432x288 with 1 Axes>"
      ]
     },
     "metadata": {
      "needs_background": "light"
     },
     "output_type": "display_data"
    }
   ],
   "source": [
    "visualize_training_results(history_1)"
   ]
  },
  {
   "cell_type": "code",
   "execution_count": 56,
   "id": "5b9c5370",
   "metadata": {},
   "outputs": [
    {
     "name": "stdout",
     "output_type": "stream",
     "text": [
      "Training Accuracy: 0.9200\n",
      "Testing Accuracy:  0.7138\n"
     ]
    }
   ],
   "source": [
    "# Find train and test accuracy\n",
    "loss, accuracy = lstm_mod1.evaluate(X_train, y_train, verbose=False)\n",
    "print(\"Training Accuracy: {:.4f}\".format(accuracy))\n",
    "loss, accuracy = lstm_mod1.evaluate(X_test, y_test, verbose=False)\n",
    "print(\"Testing Accuracy:  {:.4f}\".format(accuracy))\n",
    "#0.90/0.66"
   ]
  },
  {
   "cell_type": "markdown",
   "id": "e0c857f4",
   "metadata": {},
   "source": [
    "### Model 2: LSTM with regularization, reduce dimensionality"
   ]
  },
  {
   "cell_type": "code",
   "execution_count": 63,
   "id": "52b5311f",
   "metadata": {},
   "outputs": [
    {
     "name": "stdout",
     "output_type": "stream",
     "text": [
      "_________________________________________________________________\n",
      "Layer (type)                 Output Shape              Param #   \n",
      "=================================================================\n",
      "embedding_1 (Embedding)      (None, 45, 50)            752500    \n",
      "_________________________________________________________________\n",
      "lstm_5 (LSTM)                (None, 100)               60400     \n",
      "_________________________________________________________________\n",
      "dense_5 (Dense)              (None, 3)                 303       \n",
      "=================================================================\n",
      "Total params: 813,203\n",
      "Trainable params: 60,703\n",
      "Non-trainable params: 752,500\n",
      "_________________________________________________________________\n"
     ]
    }
   ],
   "source": [
    "lstm_mod2 = Sequential()\n",
    "lstm_mod2.add(embedding_layer)\n",
    "lstm_mod2.add(LSTM(100, \n",
    "               dropout = 0.3, \n",
    "               recurrent_dropout = 0.5))\n",
    "lstm_mod2.add(Dense(3, activation='softmax'))\n",
    "lstm_mod2.compile(optimizer='adam', loss='categorical_crossentropy', metrics=['acc'])\n",
    "lstm_mod2.summary()"
   ]
  },
  {
   "cell_type": "code",
   "execution_count": 64,
   "id": "a46da60c",
   "metadata": {},
   "outputs": [],
   "source": [
    "# Import EarlyStopping and ModelCheckpoint\n",
    "from keras.callbacks import EarlyStopping, ModelCheckpoint\n",
    "\n",
    "# Define the callbacks\n",
    "early_stopping = [EarlyStopping(monitor='val_loss', patience=15), \n",
    "                  ModelCheckpoint(filepath='best_model_lstm.h5', monitor='val_loss', save_best_only=True)]"
   ]
  },
  {
   "cell_type": "code",
   "execution_count": 65,
   "id": "cfb8c51e",
   "metadata": {
    "collapsed": true,
    "jupyter": {
     "outputs_hidden": true
    }
   },
   "outputs": [
    {
     "name": "stdout",
     "output_type": "stream",
     "text": [
      "Train on 3049 samples, validate on 763 samples\n",
      "Epoch 1/200\n",
      "3049/3049 [==============================] - 4s 1ms/step - loss: 1.0976 - acc: 0.3883 - val_loss: 1.0801 - val_acc: 0.4181\n",
      "Epoch 2/200\n",
      "3049/3049 [==============================] - 3s 951us/step - loss: 1.0664 - acc: 0.4418 - val_loss: 1.0596 - val_acc: 0.4325\n",
      "Epoch 3/200\n",
      "3049/3049 [==============================] - 3s 955us/step - loss: 1.0600 - acc: 0.4428 - val_loss: 1.0530 - val_acc: 0.4312\n",
      "Epoch 4/200\n",
      "3049/3049 [==============================] - 2s 819us/step - loss: 1.0515 - acc: 0.4506 - val_loss: 1.0464 - val_acc: 0.4351\n",
      "Epoch 5/200\n",
      "3049/3049 [==============================] - 3s 846us/step - loss: 1.0472 - acc: 0.4480 - val_loss: 1.0328 - val_acc: 0.4522\n",
      "Epoch 6/200\n",
      "3049/3049 [==============================] - 2s 802us/step - loss: 1.0336 - acc: 0.4631 - val_loss: 1.0233 - val_acc: 0.4548\n",
      "Epoch 7/200\n",
      "3049/3049 [==============================] - 2s 808us/step - loss: 1.0297 - acc: 0.4654 - val_loss: 1.0160 - val_acc: 0.4718\n",
      "Epoch 8/200\n",
      "3049/3049 [==============================] - 3s 854us/step - loss: 1.0168 - acc: 0.4844 - val_loss: 0.9994 - val_acc: 0.4993\n",
      "Epoch 9/200\n",
      "3049/3049 [==============================] - 2s 806us/step - loss: 1.0121 - acc: 0.4936 - val_loss: 0.9997 - val_acc: 0.4941\n",
      "Epoch 10/200\n",
      "3049/3049 [==============================] - 2s 817us/step - loss: 0.9954 - acc: 0.5044 - val_loss: 0.9889 - val_acc: 0.5072\n",
      "Epoch 11/200\n",
      "3049/3049 [==============================] - 2s 809us/step - loss: 0.9994 - acc: 0.5067 - val_loss: 1.0009 - val_acc: 0.5020\n",
      "Epoch 12/200\n",
      "3049/3049 [==============================] - 3s 861us/step - loss: 0.9956 - acc: 0.5110 - val_loss: 0.9928 - val_acc: 0.5072\n",
      "Epoch 13/200\n",
      "3049/3049 [==============================] - 3s 937us/step - loss: 0.9798 - acc: 0.5248 - val_loss: 0.9772 - val_acc: 0.5374\n",
      "Epoch 14/200\n",
      "3049/3049 [==============================] - 4s 1ms/step - loss: 0.9774 - acc: 0.5146 - val_loss: 0.9811 - val_acc: 0.5295\n",
      "Epoch 15/200\n",
      "3049/3049 [==============================] - 5s 2ms/step - loss: 0.9824 - acc: 0.5267 - val_loss: 0.9789 - val_acc: 0.5347\n",
      "Epoch 16/200\n",
      "3049/3049 [==============================] - 6s 2ms/step - loss: 0.9708 - acc: 0.5287 - val_loss: 0.9707 - val_acc: 0.5321\n",
      "Epoch 17/200\n",
      "3049/3049 [==============================] - 5s 1ms/step - loss: 0.9759 - acc: 0.5241 - val_loss: 0.9749 - val_acc: 0.5308\n",
      "Epoch 18/200\n",
      "3049/3049 [==============================] - 4s 1ms/step - loss: 0.9715 - acc: 0.5130 - val_loss: 0.9620 - val_acc: 0.5321\n",
      "Epoch 19/200\n",
      "3049/3049 [==============================] - 4s 1ms/step - loss: 0.9753 - acc: 0.5225 - val_loss: 0.9716 - val_acc: 0.5347\n",
      "Epoch 20/200\n",
      "3049/3049 [==============================] - 5s 2ms/step - loss: 0.9655 - acc: 0.5271 - val_loss: 0.9668 - val_acc: 0.5308\n",
      "Epoch 21/200\n",
      "3049/3049 [==============================] - 4s 1ms/step - loss: 0.9586 - acc: 0.5461 - val_loss: 0.9558 - val_acc: 0.5334\n",
      "Epoch 22/200\n",
      "3049/3049 [==============================] - 4s 1ms/step - loss: 0.9516 - acc: 0.5421 - val_loss: 0.9651 - val_acc: 0.5256\n",
      "Epoch 23/200\n",
      "3049/3049 [==============================] - 4s 1ms/step - loss: 0.9567 - acc: 0.5398 - val_loss: 0.9674 - val_acc: 0.5387\n",
      "Epoch 24/200\n",
      "3049/3049 [==============================] - 4s 1ms/step - loss: 0.9513 - acc: 0.5454 - val_loss: 0.9527 - val_acc: 0.5413\n",
      "Epoch 25/200\n",
      "3049/3049 [==============================] - 4s 1ms/step - loss: 0.9504 - acc: 0.5421 - val_loss: 0.9567 - val_acc: 0.5347\n",
      "Epoch 26/200\n",
      "3049/3049 [==============================] - 3s 888us/step - loss: 0.9445 - acc: 0.5461 - val_loss: 0.9503 - val_acc: 0.5360\n",
      "Epoch 27/200\n",
      "3049/3049 [==============================] - 3s 925us/step - loss: 0.9394 - acc: 0.5569 - val_loss: 0.9662 - val_acc: 0.5321\n",
      "Epoch 28/200\n",
      "3049/3049 [==============================] - 3s 925us/step - loss: 0.9418 - acc: 0.5520 - val_loss: 0.9608 - val_acc: 0.5321\n",
      "Epoch 29/200\n",
      "3049/3049 [==============================] - 3s 900us/step - loss: 0.9373 - acc: 0.5589 - val_loss: 0.9532 - val_acc: 0.5387\n",
      "Epoch 30/200\n",
      "3049/3049 [==============================] - 3s 846us/step - loss: 0.9295 - acc: 0.5572 - val_loss: 0.9484 - val_acc: 0.5387\n",
      "Epoch 31/200\n",
      "3049/3049 [==============================] - 3s 836us/step - loss: 0.9410 - acc: 0.5480 - val_loss: 0.9525 - val_acc: 0.5360\n",
      "Epoch 32/200\n",
      "3049/3049 [==============================] - 3s 874us/step - loss: 0.9349 - acc: 0.5540 - val_loss: 0.9494 - val_acc: 0.5334\n",
      "Epoch 33/200\n",
      "3049/3049 [==============================] - 3s 905us/step - loss: 0.9334 - acc: 0.5553 - val_loss: 0.9480 - val_acc: 0.5347\n",
      "Epoch 34/200\n",
      "3049/3049 [==============================] - 3s 826us/step - loss: 0.9303 - acc: 0.5454 - val_loss: 0.9362 - val_acc: 0.5609\n",
      "Epoch 35/200\n",
      "3049/3049 [==============================] - 3s 994us/step - loss: 0.9215 - acc: 0.5592 - val_loss: 0.9271 - val_acc: 0.5570\n",
      "Epoch 36/200\n",
      "3049/3049 [==============================] - 3s 1ms/step - loss: 0.9128 - acc: 0.5684 - val_loss: 0.9362 - val_acc: 0.5570\n",
      "Epoch 37/200\n",
      "3049/3049 [==============================] - 4s 1ms/step - loss: 0.9233 - acc: 0.5674 - val_loss: 0.9189 - val_acc: 0.5740\n",
      "Epoch 38/200\n",
      "3049/3049 [==============================] - 3s 1ms/step - loss: 0.9182 - acc: 0.5641 - val_loss: 0.9213 - val_acc: 0.5662\n",
      "Epoch 39/200\n",
      "3049/3049 [==============================] - 4s 1ms/step - loss: 0.9226 - acc: 0.5717 - val_loss: 0.9264 - val_acc: 0.5544\n",
      "Epoch 40/200\n",
      "3049/3049 [==============================] - 3s 921us/step - loss: 0.9102 - acc: 0.5802 - val_loss: 0.9236 - val_acc: 0.5662\n",
      "Epoch 41/200\n",
      "3049/3049 [==============================] - 3s 912us/step - loss: 0.9116 - acc: 0.5736 - val_loss: 0.9279 - val_acc: 0.5609\n",
      "Epoch 42/200\n",
      "3049/3049 [==============================] - 3s 915us/step - loss: 0.9189 - acc: 0.5595 - val_loss: 0.9151 - val_acc: 0.5662\n",
      "Epoch 43/200\n",
      "3049/3049 [==============================] - 3s 881us/step - loss: 0.9104 - acc: 0.5759 - val_loss: 0.9264 - val_acc: 0.5596\n",
      "Epoch 44/200\n",
      "3049/3049 [==============================] - 3s 907us/step - loss: 0.9003 - acc: 0.5782 - val_loss: 0.9152 - val_acc: 0.5570\n",
      "Epoch 45/200\n",
      "3049/3049 [==============================] - 3s 905us/step - loss: 0.9045 - acc: 0.5704 - val_loss: 0.9241 - val_acc: 0.5583\n",
      "Epoch 46/200\n",
      "3049/3049 [==============================] - 3s 941us/step - loss: 0.9055 - acc: 0.5786 - val_loss: 0.9093 - val_acc: 0.5754\n",
      "Epoch 47/200\n",
      "3049/3049 [==============================] - 3s 928us/step - loss: 0.8984 - acc: 0.5841 - val_loss: 0.9116 - val_acc: 0.5688\n",
      "Epoch 48/200\n",
      "3049/3049 [==============================] - 3s 883us/step - loss: 0.8992 - acc: 0.5874 - val_loss: 0.9171 - val_acc: 0.5793\n",
      "Epoch 49/200\n",
      "3049/3049 [==============================] - 3s 960us/step - loss: 0.9003 - acc: 0.5776 - val_loss: 0.9134 - val_acc: 0.5649\n",
      "Epoch 50/200\n",
      "3049/3049 [==============================] - 3s 931us/step - loss: 0.8908 - acc: 0.5854 - val_loss: 0.9071 - val_acc: 0.5727\n",
      "Epoch 51/200\n",
      "3049/3049 [==============================] - 3s 980us/step - loss: 0.8968 - acc: 0.5851 - val_loss: 0.9090 - val_acc: 0.5963\n",
      "Epoch 52/200\n",
      "3049/3049 [==============================] - 3s 889us/step - loss: 0.8942 - acc: 0.5851 - val_loss: 0.9169 - val_acc: 0.5662\n",
      "Epoch 53/200\n",
      "3049/3049 [==============================] - 3s 945us/step - loss: 0.8852 - acc: 0.5992 - val_loss: 0.9084 - val_acc: 0.5701\n",
      "Epoch 54/200\n",
      "3049/3049 [==============================] - 3s 877us/step - loss: 0.8836 - acc: 0.5907 - val_loss: 0.9087 - val_acc: 0.5754\n",
      "Epoch 55/200\n",
      "3049/3049 [==============================] - 3s 964us/step - loss: 0.8891 - acc: 0.5815 - val_loss: 0.9018 - val_acc: 0.5806\n",
      "Epoch 56/200\n",
      "3049/3049 [==============================] - 3s 989us/step - loss: 0.8817 - acc: 0.5897 - val_loss: 0.8956 - val_acc: 0.5832\n",
      "Epoch 57/200\n",
      "3049/3049 [==============================] - 3s 898us/step - loss: 0.8792 - acc: 0.6002 - val_loss: 0.9033 - val_acc: 0.5714\n",
      "Epoch 58/200\n",
      "3049/3049 [==============================] - 3s 952us/step - loss: 0.8807 - acc: 0.5877 - val_loss: 0.8926 - val_acc: 0.5714\n",
      "Epoch 59/200\n",
      "3049/3049 [==============================] - 4s 1ms/step - loss: 0.8765 - acc: 0.6015 - val_loss: 0.8875 - val_acc: 0.5649\n",
      "Epoch 60/200\n",
      "3049/3049 [==============================] - 4s 1ms/step - loss: 0.8721 - acc: 0.6038 - val_loss: 0.8915 - val_acc: 0.5832\n",
      "Epoch 61/200\n",
      "3049/3049 [==============================] - 7s 2ms/step - loss: 0.8796 - acc: 0.5897 - val_loss: 0.8981 - val_acc: 0.5727\n",
      "Epoch 62/200\n",
      "3049/3049 [==============================] - 5s 2ms/step - loss: 0.8657 - acc: 0.6018 - val_loss: 0.9001 - val_acc: 0.5950\n",
      "Epoch 63/200\n",
      "3049/3049 [==============================] - 5s 2ms/step - loss: 0.8699 - acc: 0.6068 - val_loss: 0.8885 - val_acc: 0.5924\n",
      "Epoch 64/200\n",
      "3049/3049 [==============================] - 4s 1ms/step - loss: 0.8667 - acc: 0.6107 - val_loss: 0.8876 - val_acc: 0.5780\n",
      "Epoch 65/200\n",
      "3049/3049 [==============================] - 4s 1ms/step - loss: 0.8609 - acc: 0.6130 - val_loss: 0.8818 - val_acc: 0.5819\n",
      "Epoch 66/200\n",
      "3049/3049 [==============================] - 5s 2ms/step - loss: 0.8518 - acc: 0.6159 - val_loss: 0.8764 - val_acc: 0.5898\n",
      "Epoch 67/200\n",
      "3049/3049 [==============================] - 5s 2ms/step - loss: 0.8543 - acc: 0.6133 - val_loss: 0.8772 - val_acc: 0.5990\n",
      "Epoch 68/200\n",
      "3049/3049 [==============================] - 6s 2ms/step - loss: 0.8510 - acc: 0.6143 - val_loss: 0.8915 - val_acc: 0.5885\n",
      "Epoch 69/200\n",
      "3049/3049 [==============================] - 5s 2ms/step - loss: 0.8623 - acc: 0.5999 - val_loss: 0.8782 - val_acc: 0.5858\n",
      "Epoch 70/200\n",
      "3049/3049 [==============================] - 5s 2ms/step - loss: 0.8549 - acc: 0.6009 - val_loss: 0.8856 - val_acc: 0.5845\n",
      "Epoch 71/200\n",
      "3049/3049 [==============================] - 5s 2ms/step - loss: 0.8595 - acc: 0.6045 - val_loss: 0.8917 - val_acc: 0.5976\n",
      "Epoch 72/200\n",
      "3049/3049 [==============================] - 4s 1ms/step - loss: 0.8392 - acc: 0.6202 - val_loss: 0.8591 - val_acc: 0.5976\n",
      "Epoch 73/200\n",
      "3049/3049 [==============================] - 5s 2ms/step - loss: 0.8438 - acc: 0.6071 - val_loss: 0.8782 - val_acc: 0.6003\n",
      "Epoch 74/200\n",
      "3049/3049 [==============================] - 4s 1ms/step - loss: 0.8378 - acc: 0.6274 - val_loss: 0.8695 - val_acc: 0.5858\n",
      "Epoch 75/200\n",
      "3049/3049 [==============================] - 4s 1ms/step - loss: 0.8456 - acc: 0.6192 - val_loss: 0.8634 - val_acc: 0.6147\n",
      "Epoch 76/200\n",
      "3049/3049 [==============================] - 5s 2ms/step - loss: 0.8358 - acc: 0.6195 - val_loss: 0.8723 - val_acc: 0.6081\n",
      "Epoch 77/200\n",
      "3049/3049 [==============================] - 3s 1ms/step - loss: 0.8417 - acc: 0.6258 - val_loss: 0.8422 - val_acc: 0.6173\n",
      "Epoch 78/200\n",
      "3049/3049 [==============================] - 3s 987us/step - loss: 0.8210 - acc: 0.6340 - val_loss: 0.8592 - val_acc: 0.6383\n",
      "Epoch 79/200\n",
      "3049/3049 [==============================] - 3s 1ms/step - loss: 0.8182 - acc: 0.6415 - val_loss: 0.8502 - val_acc: 0.5950\n",
      "Epoch 80/200\n",
      "3049/3049 [==============================] - 3s 1ms/step - loss: 0.8173 - acc: 0.6356 - val_loss: 0.8632 - val_acc: 0.6173\n",
      "Epoch 81/200\n",
      "3049/3049 [==============================] - 3s 1ms/step - loss: 0.8170 - acc: 0.6363 - val_loss: 0.8448 - val_acc: 0.6278\n",
      "Epoch 82/200\n",
      "3049/3049 [==============================] - 3s 974us/step - loss: 0.8173 - acc: 0.6346 - val_loss: 0.8370 - val_acc: 0.6212\n",
      "Epoch 83/200\n",
      "3049/3049 [==============================] - 3s 895us/step - loss: 0.8102 - acc: 0.6327 - val_loss: 0.8470 - val_acc: 0.6370\n",
      "Epoch 84/200\n",
      "3049/3049 [==============================] - 3s 1ms/step - loss: 0.8165 - acc: 0.6369 - val_loss: 0.8441 - val_acc: 0.6160\n",
      "Epoch 85/200\n",
      "3049/3049 [==============================] - 3s 1ms/step - loss: 0.8087 - acc: 0.6353 - val_loss: 0.8431 - val_acc: 0.6252\n",
      "Epoch 86/200\n",
      "3049/3049 [==============================] - 4s 1ms/step - loss: 0.7975 - acc: 0.6517 - val_loss: 0.8385 - val_acc: 0.6186\n",
      "Epoch 87/200\n",
      "3049/3049 [==============================] - 3s 1ms/step - loss: 0.7984 - acc: 0.6379 - val_loss: 0.8257 - val_acc: 0.6383\n",
      "Epoch 88/200\n",
      "3049/3049 [==============================] - 3s 935us/step - loss: 0.8014 - acc: 0.6586 - val_loss: 0.8594 - val_acc: 0.6370\n",
      "Epoch 89/200\n",
      "3049/3049 [==============================] - 3s 1ms/step - loss: 0.7914 - acc: 0.6487 - val_loss: 0.8326 - val_acc: 0.6252\n",
      "Epoch 90/200\n",
      "3049/3049 [==============================] - 3s 912us/step - loss: 0.7919 - acc: 0.6425 - val_loss: 0.8329 - val_acc: 0.6461\n",
      "Epoch 91/200\n",
      "3049/3049 [==============================] - 3s 888us/step - loss: 0.7955 - acc: 0.6494 - val_loss: 0.8346 - val_acc: 0.6291\n",
      "Epoch 92/200\n",
      "3049/3049 [==============================] - 3s 913us/step - loss: 0.8013 - acc: 0.6491 - val_loss: 0.8243 - val_acc: 0.6370\n",
      "Epoch 93/200\n",
      "3049/3049 [==============================] - 3s 874us/step - loss: 0.7942 - acc: 0.6448 - val_loss: 0.8316 - val_acc: 0.6435\n",
      "Epoch 94/200\n",
      "3049/3049 [==============================] - 3s 877us/step - loss: 0.7792 - acc: 0.6543 - val_loss: 0.8218 - val_acc: 0.6461\n",
      "Epoch 95/200\n",
      "3049/3049 [==============================] - 3s 935us/step - loss: 0.7793 - acc: 0.6612 - val_loss: 0.8303 - val_acc: 0.6461\n",
      "Epoch 96/200\n",
      "3049/3049 [==============================] - 3s 879us/step - loss: 0.7823 - acc: 0.6523 - val_loss: 0.8277 - val_acc: 0.6474\n",
      "Epoch 97/200\n",
      "3049/3049 [==============================] - 3s 1ms/step - loss: 0.7712 - acc: 0.6569 - val_loss: 0.8151 - val_acc: 0.6579\n",
      "Epoch 98/200\n",
      "3049/3049 [==============================] - 3s 1ms/step - loss: 0.7685 - acc: 0.6678 - val_loss: 0.8250 - val_acc: 0.6514\n",
      "Epoch 99/200\n",
      "3049/3049 [==============================] - 3s 967us/step - loss: 0.7690 - acc: 0.6605 - val_loss: 0.8135 - val_acc: 0.6553\n",
      "Epoch 100/200\n",
      "3049/3049 [==============================] - 3s 933us/step - loss: 0.7725 - acc: 0.6586 - val_loss: 0.8347 - val_acc: 0.6474\n",
      "Epoch 101/200\n",
      "3049/3049 [==============================] - 3s 984us/step - loss: 0.7803 - acc: 0.6527 - val_loss: 0.8126 - val_acc: 0.6540\n",
      "Epoch 102/200\n",
      "3049/3049 [==============================] - 3s 1ms/step - loss: 0.7706 - acc: 0.6645 - val_loss: 0.8156 - val_acc: 0.6488\n",
      "Epoch 103/200\n",
      "3049/3049 [==============================] - 3s 1ms/step - loss: 0.7637 - acc: 0.6625 - val_loss: 0.8263 - val_acc: 0.6553\n",
      "Epoch 104/200\n",
      "3049/3049 [==============================] - 4s 1ms/step - loss: 0.7693 - acc: 0.6638 - val_loss: 0.8187 - val_acc: 0.6422\n",
      "Epoch 105/200\n",
      "3049/3049 [==============================] - 4s 1ms/step - loss: 0.7643 - acc: 0.6710 - val_loss: 0.8110 - val_acc: 0.6501\n",
      "Epoch 106/200\n",
      "3049/3049 [==============================] - 5s 2ms/step - loss: 0.7690 - acc: 0.6674 - val_loss: 0.8193 - val_acc: 0.6514\n",
      "Epoch 107/200\n",
      "3049/3049 [==============================] - 4s 1ms/step - loss: 0.7678 - acc: 0.6602 - val_loss: 0.7939 - val_acc: 0.6540\n",
      "Epoch 108/200\n",
      "3049/3049 [==============================] - 3s 1ms/step - loss: 0.7545 - acc: 0.6661 - val_loss: 0.8066 - val_acc: 0.6606\n",
      "Epoch 109/200\n",
      "3049/3049 [==============================] - 4s 1ms/step - loss: 0.7546 - acc: 0.6763 - val_loss: 0.8034 - val_acc: 0.6553\n",
      "Epoch 110/200\n",
      "3049/3049 [==============================] - 4s 1ms/step - loss: 0.7453 - acc: 0.6737 - val_loss: 0.8058 - val_acc: 0.6645\n",
      "Epoch 111/200\n",
      "3049/3049 [==============================] - 4s 1ms/step - loss: 0.7352 - acc: 0.6815 - val_loss: 0.7963 - val_acc: 0.6645\n",
      "Epoch 112/200\n",
      "3049/3049 [==============================] - 3s 1ms/step - loss: 0.7376 - acc: 0.6806 - val_loss: 0.7975 - val_acc: 0.6592\n",
      "Epoch 113/200\n",
      "3049/3049 [==============================] - 3s 1ms/step - loss: 0.7369 - acc: 0.6799 - val_loss: 0.8084 - val_acc: 0.6632\n",
      "Epoch 114/200\n",
      "3049/3049 [==============================] - 3s 1ms/step - loss: 0.7415 - acc: 0.6838 - val_loss: 0.7944 - val_acc: 0.6606\n",
      "Epoch 115/200\n",
      "3049/3049 [==============================] - 3s 993us/step - loss: 0.7284 - acc: 0.6783 - val_loss: 0.7949 - val_acc: 0.6592\n",
      "Epoch 116/200\n",
      "3049/3049 [==============================] - 3s 1ms/step - loss: 0.7331 - acc: 0.6865 - val_loss: 0.7941 - val_acc: 0.6710\n",
      "Epoch 117/200\n",
      "3049/3049 [==============================] - 3s 901us/step - loss: 0.7133 - acc: 0.6983 - val_loss: 0.7837 - val_acc: 0.6658\n",
      "Epoch 118/200\n",
      "3049/3049 [==============================] - 3s 927us/step - loss: 0.7323 - acc: 0.6763 - val_loss: 0.7901 - val_acc: 0.6723\n",
      "Epoch 119/200\n",
      "3049/3049 [==============================] - 3s 1ms/step - loss: 0.7211 - acc: 0.6917 - val_loss: 0.7881 - val_acc: 0.6671\n",
      "Epoch 120/200\n",
      "3049/3049 [==============================] - 4s 1ms/step - loss: 0.7164 - acc: 0.6819 - val_loss: 0.7956 - val_acc: 0.6710\n",
      "Epoch 121/200\n",
      "3049/3049 [==============================] - 4s 1ms/step - loss: 0.7257 - acc: 0.6792 - val_loss: 0.7857 - val_acc: 0.6697\n",
      "Epoch 122/200\n",
      "3049/3049 [==============================] - 4s 1ms/step - loss: 0.7203 - acc: 0.6943 - val_loss: 0.8131 - val_acc: 0.6606\n",
      "Epoch 123/200\n",
      "3049/3049 [==============================] - 3s 1ms/step - loss: 0.7272 - acc: 0.6822 - val_loss: 0.7864 - val_acc: 0.6632\n",
      "Epoch 124/200\n",
      "3049/3049 [==============================] - 4s 1ms/step - loss: 0.7238 - acc: 0.6937 - val_loss: 0.7779 - val_acc: 0.6645\n",
      "Epoch 125/200\n",
      "3049/3049 [==============================] - 3s 1ms/step - loss: 0.7156 - acc: 0.6927 - val_loss: 0.8026 - val_acc: 0.6527\n",
      "Epoch 126/200\n",
      "3049/3049 [==============================] - 4s 1ms/step - loss: 0.7239 - acc: 0.6822 - val_loss: 0.7818 - val_acc: 0.6619\n",
      "Epoch 127/200\n",
      "3049/3049 [==============================] - 3s 983us/step - loss: 0.7009 - acc: 0.7029 - val_loss: 0.7940 - val_acc: 0.6566\n",
      "Epoch 128/200\n",
      "3049/3049 [==============================] - 3s 977us/step - loss: 0.7001 - acc: 0.6996 - val_loss: 0.7870 - val_acc: 0.6710\n",
      "Epoch 129/200\n",
      "3049/3049 [==============================] - 3s 1ms/step - loss: 0.6984 - acc: 0.7042 - val_loss: 0.7843 - val_acc: 0.6697\n",
      "Epoch 130/200\n",
      "3049/3049 [==============================] - 3s 1ms/step - loss: 0.6985 - acc: 0.7045 - val_loss: 0.7747 - val_acc: 0.6632\n",
      "Epoch 131/200\n",
      "3049/3049 [==============================] - 4s 1ms/step - loss: 0.7093 - acc: 0.6930 - val_loss: 0.7951 - val_acc: 0.6697\n",
      "Epoch 132/200\n",
      "3049/3049 [==============================] - 3s 1ms/step - loss: 0.7049 - acc: 0.6920 - val_loss: 0.7765 - val_acc: 0.6684\n",
      "Epoch 133/200\n",
      "3049/3049 [==============================] - 3s 1ms/step - loss: 0.6925 - acc: 0.6992 - val_loss: 0.7958 - val_acc: 0.6592\n",
      "Epoch 134/200\n",
      "3049/3049 [==============================] - 4s 1ms/step - loss: 0.6918 - acc: 0.7032 - val_loss: 0.7759 - val_acc: 0.6684\n",
      "Epoch 135/200\n",
      "3049/3049 [==============================] - 4s 1ms/step - loss: 0.7094 - acc: 0.7015 - val_loss: 0.7787 - val_acc: 0.6632\n",
      "Epoch 136/200\n",
      "3049/3049 [==============================] - 4s 1ms/step - loss: 0.7000 - acc: 0.6947 - val_loss: 0.7752 - val_acc: 0.6658\n",
      "Epoch 137/200\n",
      "3049/3049 [==============================] - 3s 1ms/step - loss: 0.6920 - acc: 0.7058 - val_loss: 0.7865 - val_acc: 0.6606\n",
      "Epoch 138/200\n",
      "3049/3049 [==============================] - 7s 2ms/step - loss: 0.6961 - acc: 0.7015 - val_loss: 0.7739 - val_acc: 0.6737\n",
      "Epoch 139/200\n",
      "3049/3049 [==============================] - 4s 1ms/step - loss: 0.6994 - acc: 0.6943 - val_loss: 0.7803 - val_acc: 0.6763\n",
      "Epoch 140/200\n",
      "3049/3049 [==============================] - 4s 1ms/step - loss: 0.6816 - acc: 0.7147 - val_loss: 0.7774 - val_acc: 0.6737\n",
      "Epoch 141/200\n",
      "3049/3049 [==============================] - 3s 1ms/step - loss: 0.7029 - acc: 0.6894 - val_loss: 0.7851 - val_acc: 0.6606\n",
      "Epoch 142/200\n",
      "3049/3049 [==============================] - 4s 1ms/step - loss: 0.6813 - acc: 0.7107 - val_loss: 0.7836 - val_acc: 0.6658\n",
      "Epoch 143/200\n",
      "3049/3049 [==============================] - 4s 1ms/step - loss: 0.6799 - acc: 0.7084 - val_loss: 0.7727 - val_acc: 0.6710\n",
      "Epoch 144/200\n",
      "3049/3049 [==============================] - 4s 1ms/step - loss: 0.6735 - acc: 0.7104 - val_loss: 0.7904 - val_acc: 0.6592\n",
      "Epoch 145/200\n",
      "3049/3049 [==============================] - 3s 1ms/step - loss: 0.6606 - acc: 0.7133 - val_loss: 0.7730 - val_acc: 0.6737\n",
      "Epoch 146/200\n",
      "3049/3049 [==============================] - 3s 1ms/step - loss: 0.6698 - acc: 0.7061 - val_loss: 0.7924 - val_acc: 0.6619\n",
      "Epoch 147/200\n",
      "3049/3049 [==============================] - 4s 1ms/step - loss: 0.6588 - acc: 0.7209 - val_loss: 0.7649 - val_acc: 0.6789\n",
      "Epoch 148/200\n",
      "3049/3049 [==============================] - 3s 1ms/step - loss: 0.6584 - acc: 0.7235 - val_loss: 0.7838 - val_acc: 0.6684\n",
      "Epoch 149/200\n",
      "3049/3049 [==============================] - 3s 1ms/step - loss: 0.6629 - acc: 0.7193 - val_loss: 0.7669 - val_acc: 0.6658\n",
      "Epoch 150/200\n",
      "3049/3049 [==============================] - 3s 1ms/step - loss: 0.6697 - acc: 0.7127 - val_loss: 0.7789 - val_acc: 0.6684\n",
      "Epoch 151/200\n",
      "3049/3049 [==============================] - 3s 1ms/step - loss: 0.6548 - acc: 0.7281 - val_loss: 0.7785 - val_acc: 0.6658\n",
      "Epoch 152/200\n",
      "3049/3049 [==============================] - 5s 2ms/step - loss: 0.6515 - acc: 0.7255 - val_loss: 0.7820 - val_acc: 0.6645\n",
      "Epoch 153/200\n",
      "3049/3049 [==============================] - 4s 1ms/step - loss: 0.6660 - acc: 0.7186 - val_loss: 0.7945 - val_acc: 0.6619\n",
      "Epoch 154/200\n",
      "3049/3049 [==============================] - 5s 2ms/step - loss: 0.6446 - acc: 0.7330 - val_loss: 0.7794 - val_acc: 0.6697\n",
      "Epoch 155/200\n",
      "3049/3049 [==============================] - 4s 1ms/step - loss: 0.6410 - acc: 0.7304 - val_loss: 0.7868 - val_acc: 0.6658\n",
      "Epoch 156/200\n",
      "3049/3049 [==============================] - 5s 2ms/step - loss: 0.6450 - acc: 0.7324 - val_loss: 0.7828 - val_acc: 0.6763\n",
      "Epoch 157/200\n",
      "3049/3049 [==============================] - 4s 1ms/step - loss: 0.6534 - acc: 0.7225 - val_loss: 0.7720 - val_acc: 0.6737\n",
      "Epoch 158/200\n",
      "3049/3049 [==============================] - 4s 1ms/step - loss: 0.6449 - acc: 0.7235 - val_loss: 0.7657 - val_acc: 0.6763\n",
      "Epoch 159/200\n",
      "3049/3049 [==============================] - 3s 1ms/step - loss: 0.6422 - acc: 0.7337 - val_loss: 0.7847 - val_acc: 0.6815\n",
      "Epoch 160/200\n",
      "3049/3049 [==============================] - 4s 1ms/step - loss: 0.6371 - acc: 0.7248 - val_loss: 0.7586 - val_acc: 0.6710\n",
      "Epoch 161/200\n",
      "3049/3049 [==============================] - 5s 2ms/step - loss: 0.6451 - acc: 0.7252 - val_loss: 0.7707 - val_acc: 0.6750\n",
      "Epoch 162/200\n",
      "3049/3049 [==============================] - 4s 1ms/step - loss: 0.6276 - acc: 0.7412 - val_loss: 0.7575 - val_acc: 0.6710\n",
      "Epoch 163/200\n",
      "3049/3049 [==============================] - 4s 1ms/step - loss: 0.6345 - acc: 0.7337 - val_loss: 0.7601 - val_acc: 0.6737\n",
      "Epoch 164/200\n",
      "3049/3049 [==============================] - 3s 1ms/step - loss: 0.6307 - acc: 0.7294 - val_loss: 0.7608 - val_acc: 0.6697\n",
      "Epoch 165/200\n",
      "3049/3049 [==============================] - 3s 975us/step - loss: 0.6394 - acc: 0.7304 - val_loss: 0.7702 - val_acc: 0.6750\n",
      "Epoch 166/200\n",
      "3049/3049 [==============================] - 3s 958us/step - loss: 0.6251 - acc: 0.7386 - val_loss: 0.7770 - val_acc: 0.6684\n",
      "Epoch 167/200\n",
      "3049/3049 [==============================] - 3s 996us/step - loss: 0.6206 - acc: 0.7406 - val_loss: 0.7688 - val_acc: 0.6710\n",
      "Epoch 168/200\n",
      "3049/3049 [==============================] - 3s 1ms/step - loss: 0.6133 - acc: 0.7439 - val_loss: 0.7604 - val_acc: 0.6763\n",
      "Epoch 169/200\n",
      "3049/3049 [==============================] - 3s 1ms/step - loss: 0.6334 - acc: 0.7357 - val_loss: 0.7799 - val_acc: 0.6671\n",
      "Epoch 170/200\n",
      "3049/3049 [==============================] - 3s 1ms/step - loss: 0.6169 - acc: 0.7425 - val_loss: 0.7836 - val_acc: 0.6802\n",
      "Epoch 171/200\n",
      "3049/3049 [==============================] - 3s 1ms/step - loss: 0.6093 - acc: 0.7432 - val_loss: 0.7842 - val_acc: 0.6789\n",
      "Epoch 172/200\n",
      "3049/3049 [==============================] - 3s 995us/step - loss: 0.6109 - acc: 0.7488 - val_loss: 0.7731 - val_acc: 0.6828\n",
      "Epoch 173/200\n",
      "3049/3049 [==============================] - 3s 995us/step - loss: 0.6141 - acc: 0.7373 - val_loss: 0.7781 - val_acc: 0.6828\n",
      "Epoch 174/200\n",
      "3049/3049 [==============================] - 3s 989us/step - loss: 0.6051 - acc: 0.7448 - val_loss: 0.7807 - val_acc: 0.6763\n",
      "Epoch 175/200\n",
      "3049/3049 [==============================] - 3s 940us/step - loss: 0.6286 - acc: 0.7357 - val_loss: 0.7928 - val_acc: 0.6815\n",
      "Epoch 176/200\n",
      "3049/3049 [==============================] - 3s 899us/step - loss: 0.6132 - acc: 0.7553 - val_loss: 0.7738 - val_acc: 0.6907\n",
      "Epoch 177/200\n",
      "3049/3049 [==============================] - 3s 910us/step - loss: 0.6019 - acc: 0.7461 - val_loss: 0.7866 - val_acc: 0.6723\n"
     ]
    }
   ],
   "source": [
    "history_2 = lstm_mod2.fit(X_train, y_train,\n",
    "                    validation_split = 0.2, \n",
    "                    class_weight=class_weights,\n",
    "                    callbacks=early_stopping,\n",
    "                    epochs=200, batch_size=500)"
   ]
  },
  {
   "cell_type": "code",
   "execution_count": 66,
   "id": "a46f4379",
   "metadata": {},
   "outputs": [
    {
     "data": {
      "image/png": "[encoded data removed]",
      "text/plain": [
       "<Figure size 432x288 with 1 Axes>"
      ]
     },
     "metadata": {
      "needs_background": "light"
     },
     "output_type": "display_data"
    },
    {
     "data": {
      "image/png": "[encoded data removed]",
      "text/plain": [
       "<Figure size 432x288 with 1 Axes>"
      ]
     },
     "metadata": {
      "needs_background": "light"
     },
     "output_type": "display_data"
    }
   ],
   "source": [
    "visualize_training_results(history_2)"
   ]
  },
  {
   "cell_type": "code",
   "execution_count": 67,
   "id": "e260aab9",
   "metadata": {},
   "outputs": [
    {
     "name": "stdout",
     "output_type": "stream",
     "text": [
      "Training Accuracy: 0.7977\n",
      "Testing Accuracy:  0.7055\n"
     ]
    }
   ],
   "source": [
    "# Find train and test accuracy\n",
    "loss, accuracy = lstm_mod2.evaluate(X_train, y_train, verbose=False)\n",
    "print(\"Training Accuracy: {:.4f}\".format(accuracy))\n",
    "loss, accuracy = lstm_mod2.evaluate(X_test, y_test, verbose=False)\n",
    "print(\"Testing Accuracy:  {:.4f}\".format(accuracy))"
   ]
  },
  {
   "cell_type": "markdown",
   "id": "331b3e3a",
   "metadata": {},
   "source": [
    "### Model 3: LSTM Layer Stacking"
   ]
  },
  {
   "cell_type": "code",
   "execution_count": 68,
   "id": "8970d16c",
   "metadata": {},
   "outputs": [
    {
     "name": "stdout",
     "output_type": "stream",
     "text": [
      "_________________________________________________________________\n",
      "Layer (type)                 Output Shape              Param #   \n",
      "=================================================================\n",
      "embedding_1 (Embedding)      (None, 45, 50)            752500    \n",
      "_________________________________________________________________\n",
      "lstm_6 (LSTM)                (None, 45, 80)            41920     \n",
      "_________________________________________________________________\n",
      "lstm_7 (LSTM)                (None, 20)                8080      \n",
      "_________________________________________________________________\n",
      "dense_6 (Dense)              (None, 3)                 63        \n",
      "=================================================================\n",
      "Total params: 802,563\n",
      "Trainable params: 50,063\n",
      "Non-trainable params: 752,500\n",
      "_________________________________________________________________\n"
     ]
    }
   ],
   "source": [
    "lstm_mod3 = Sequential()\n",
    "lstm_mod3.add(embedding_layer)\n",
    "# lstm_mod3.add(Dropout(0.3))\n",
    "lstm_mod3.add(LSTM(80, \n",
    "               dropout = 0.3, \n",
    "               recurrent_dropout = 0.5,\n",
    "               return_sequences = True))\n",
    "lstm_mod3.add(LSTM(20, \n",
    "               dropout = 0.3, \n",
    "               recurrent_dropout = 0.5))\n",
    "\n",
    "lstm_mod3.add(Dense(3, activation='softmax'))\n",
    "lstm_mod3.compile(optimizer='adam', loss='categorical_crossentropy', metrics=['acc'])\n",
    "lstm_mod3.summary()"
   ]
  },
  {
   "cell_type": "code",
   "execution_count": 69,
   "id": "793165f6",
   "metadata": {},
   "outputs": [],
   "source": [
    "# Import EarlyStopping and ModelCheckpoint\n",
    "from keras.callbacks import EarlyStopping, ModelCheckpoint\n",
    "\n",
    "# Define the callbacks\n",
    "early_stopping = [EarlyStopping(monitor='val_loss', patience=15), \n",
    "                  ModelCheckpoint(filepath='best_model_lstm.h5', monitor='val_loss', save_best_only=True)]"
   ]
  },
  {
   "cell_type": "code",
   "execution_count": 70,
   "id": "be7d96bc",
   "metadata": {
    "collapsed": true,
    "jupyter": {
     "outputs_hidden": true
    }
   },
   "outputs": [
    {
     "name": "stdout",
     "output_type": "stream",
     "text": [
      "Train on 3049 samples, validate on 763 samples\n",
      "Epoch 1/200\n",
      "3049/3049 [==============================] - 6s 2ms/step - loss: 1.0863 - acc: 0.4064 - val_loss: 1.0740 - val_acc: 0.4181\n",
      "Epoch 2/200\n",
      "3049/3049 [==============================] - 4s 1ms/step - loss: 1.0684 - acc: 0.4382 - val_loss: 1.0630 - val_acc: 0.4194\n",
      "Epoch 3/200\n",
      "3049/3049 [==============================] - 3s 1ms/step - loss: 1.0618 - acc: 0.4497 - val_loss: 1.0513 - val_acc: 0.4456\n",
      "Epoch 4/200\n",
      "3049/3049 [==============================] - 4s 1ms/step - loss: 1.0536 - acc: 0.4592 - val_loss: 1.0411 - val_acc: 0.4404\n",
      "Epoch 5/200\n",
      "3049/3049 [==============================] - 4s 1ms/step - loss: 1.0460 - acc: 0.4710 - val_loss: 1.0312 - val_acc: 0.4574\n",
      "Epoch 6/200\n",
      "3049/3049 [==============================] - 4s 1ms/step - loss: 1.0368 - acc: 0.4841 - val_loss: 1.0150 - val_acc: 0.5020\n",
      "Epoch 7/200\n",
      "3049/3049 [==============================] - 4s 1ms/step - loss: 1.0161 - acc: 0.5011 - val_loss: 1.0052 - val_acc: 0.5007\n",
      "Epoch 8/200\n",
      "3049/3049 [==============================] - 3s 1ms/step - loss: 1.0165 - acc: 0.4985 - val_loss: 1.0317 - val_acc: 0.4902\n",
      "Epoch 9/200\n",
      "3049/3049 [==============================] - 3s 1ms/step - loss: 1.0081 - acc: 0.5084 - val_loss: 1.0132 - val_acc: 0.4980\n",
      "Epoch 10/200\n",
      "3049/3049 [==============================] - 4s 1ms/step - loss: 1.0124 - acc: 0.5028 - val_loss: 1.0091 - val_acc: 0.4993\n",
      "Epoch 11/200\n",
      "3049/3049 [==============================] - 4s 1ms/step - loss: 1.0030 - acc: 0.5103 - val_loss: 1.0011 - val_acc: 0.5033\n",
      "Epoch 12/200\n",
      "3049/3049 [==============================] - 4s 1ms/step - loss: 0.9996 - acc: 0.5074 - val_loss: 1.0075 - val_acc: 0.5020\n",
      "Epoch 13/200\n",
      "3049/3049 [==============================] - 4s 1ms/step - loss: 0.9927 - acc: 0.5153 - val_loss: 0.9896 - val_acc: 0.5111\n",
      "Epoch 14/200\n",
      "3049/3049 [==============================] - 3s 1ms/step - loss: 0.9928 - acc: 0.5143 - val_loss: 1.0026 - val_acc: 0.5007\n",
      "Epoch 15/200\n",
      "3049/3049 [==============================] - 3s 1ms/step - loss: 0.9929 - acc: 0.5097 - val_loss: 0.9971 - val_acc: 0.5007\n",
      "Epoch 16/200\n",
      "3049/3049 [==============================] - 3s 1ms/step - loss: 0.9856 - acc: 0.5185 - val_loss: 0.9817 - val_acc: 0.5111\n",
      "Epoch 17/200\n",
      "3049/3049 [==============================] - 3s 1ms/step - loss: 0.9874 - acc: 0.5103 - val_loss: 0.9859 - val_acc: 0.5059\n",
      "Epoch 18/200\n",
      "3049/3049 [==============================] - 3s 1ms/step - loss: 0.9784 - acc: 0.5205 - val_loss: 0.9694 - val_acc: 0.5374\n",
      "Epoch 19/200\n",
      "3049/3049 [==============================] - 3s 1ms/step - loss: 0.9795 - acc: 0.5215 - val_loss: 0.9609 - val_acc: 0.5400\n",
      "Epoch 20/200\n",
      "3049/3049 [==============================] - 3s 1ms/step - loss: 0.9654 - acc: 0.5303 - val_loss: 0.9699 - val_acc: 0.5190\n",
      "Epoch 21/200\n",
      "3049/3049 [==============================] - 4s 1ms/step - loss: 0.9722 - acc: 0.5307 - val_loss: 0.9621 - val_acc: 0.5308\n",
      "Epoch 22/200\n",
      "3049/3049 [==============================] - 3s 1ms/step - loss: 0.9667 - acc: 0.5395 - val_loss: 0.9661 - val_acc: 0.5256\n",
      "Epoch 23/200\n",
      "3049/3049 [==============================] - 5s 2ms/step - loss: 0.9561 - acc: 0.5418 - val_loss: 0.9618 - val_acc: 0.5295\n",
      "Epoch 24/200\n",
      "3049/3049 [==============================] - 5s 2ms/step - loss: 0.9622 - acc: 0.5333 - val_loss: 0.9495 - val_acc: 0.5413\n",
      "Epoch 25/200\n",
      "3049/3049 [==============================] - 5s 2ms/step - loss: 0.9569 - acc: 0.5330 - val_loss: 0.9499 - val_acc: 0.5360\n",
      "Epoch 26/200\n",
      "3049/3049 [==============================] - 6s 2ms/step - loss: 0.9550 - acc: 0.5402 - val_loss: 0.9473 - val_acc: 0.5413\n",
      "Epoch 27/200\n",
      "3049/3049 [==============================] - 5s 2ms/step - loss: 0.9476 - acc: 0.5467 - val_loss: 0.9408 - val_acc: 0.5544\n",
      "Epoch 28/200\n",
      "3049/3049 [==============================] - 5s 2ms/step - loss: 0.9462 - acc: 0.5500 - val_loss: 0.9414 - val_acc: 0.5478\n",
      "Epoch 29/200\n",
      "3049/3049 [==============================] - 4s 1ms/step - loss: 0.9521 - acc: 0.5438 - val_loss: 0.9382 - val_acc: 0.5347\n",
      "Epoch 30/200\n",
      "3049/3049 [==============================] - 5s 2ms/step - loss: 0.9426 - acc: 0.5435 - val_loss: 0.9358 - val_acc: 0.5478\n",
      "Epoch 31/200\n",
      "3049/3049 [==============================] - 4s 1ms/step - loss: 0.9370 - acc: 0.5543 - val_loss: 0.9374 - val_acc: 0.5426\n",
      "Epoch 32/200\n",
      "3049/3049 [==============================] - 4s 1ms/step - loss: 0.9377 - acc: 0.5526 - val_loss: 0.9381 - val_acc: 0.5439\n",
      "Epoch 33/200\n",
      "3049/3049 [==============================] - 4s 1ms/step - loss: 0.9376 - acc: 0.5474 - val_loss: 0.9240 - val_acc: 0.5531\n",
      "Epoch 34/200\n",
      "3049/3049 [==============================] - 4s 1ms/step - loss: 0.9422 - acc: 0.5435 - val_loss: 0.9242 - val_acc: 0.5491\n",
      "Epoch 35/200\n",
      "3049/3049 [==============================] - 4s 1ms/step - loss: 0.9392 - acc: 0.5448 - val_loss: 0.9288 - val_acc: 0.5557\n",
      "Epoch 36/200\n",
      "3049/3049 [==============================] - 3s 1ms/step - loss: 0.9373 - acc: 0.5490 - val_loss: 0.9245 - val_acc: 0.5636\n",
      "Epoch 37/200\n",
      "3049/3049 [==============================] - 3s 1ms/step - loss: 0.9433 - acc: 0.5490 - val_loss: 0.9148 - val_acc: 0.5636\n",
      "Epoch 38/200\n",
      "3049/3049 [==============================] - 3s 1ms/step - loss: 0.9334 - acc: 0.5471 - val_loss: 0.9339 - val_acc: 0.5701\n",
      "Epoch 39/200\n",
      "3049/3049 [==============================] - 3s 1ms/step - loss: 0.9320 - acc: 0.5487 - val_loss: 0.9204 - val_acc: 0.5583\n",
      "Epoch 40/200\n",
      "3049/3049 [==============================] - 3s 1ms/step - loss: 0.9275 - acc: 0.5622 - val_loss: 0.9164 - val_acc: 0.5688\n",
      "Epoch 41/200\n",
      "3049/3049 [==============================] - 3s 1ms/step - loss: 0.9226 - acc: 0.5654 - val_loss: 0.9149 - val_acc: 0.5714\n",
      "Epoch 42/200\n",
      "3049/3049 [==============================] - 3s 1ms/step - loss: 0.9194 - acc: 0.5618 - val_loss: 0.9159 - val_acc: 0.5701\n",
      "Epoch 43/200\n",
      "3049/3049 [==============================] - 4s 1ms/step - loss: 0.9221 - acc: 0.5595 - val_loss: 0.9092 - val_acc: 0.5596\n",
      "Epoch 44/200\n",
      "3049/3049 [==============================] - 3s 1ms/step - loss: 0.9124 - acc: 0.5690 - val_loss: 0.9116 - val_acc: 0.5714\n",
      "Epoch 45/200\n",
      "3049/3049 [==============================] - 3s 1ms/step - loss: 0.9253 - acc: 0.5638 - val_loss: 0.9211 - val_acc: 0.5714\n",
      "Epoch 46/200\n",
      "3049/3049 [==============================] - 6s 2ms/step - loss: 0.9148 - acc: 0.5707 - val_loss: 0.9009 - val_acc: 0.5636\n",
      "Epoch 47/200\n",
      "3049/3049 [==============================] - 7s 2ms/step - loss: 0.9016 - acc: 0.5704 - val_loss: 0.8953 - val_acc: 0.5767\n",
      "Epoch 48/200\n",
      "3049/3049 [==============================] - 5s 2ms/step - loss: 0.9130 - acc: 0.5648 - val_loss: 0.8993 - val_acc: 0.5688\n",
      "Epoch 49/200\n",
      "3049/3049 [==============================] - 4s 1ms/step - loss: 0.9101 - acc: 0.5756 - val_loss: 0.9026 - val_acc: 0.5557\n",
      "Epoch 50/200\n",
      "3049/3049 [==============================] - 5s 2ms/step - loss: 0.9091 - acc: 0.5707 - val_loss: 0.9013 - val_acc: 0.5636\n",
      "Epoch 51/200\n",
      "3049/3049 [==============================] - 4s 1ms/step - loss: 0.9006 - acc: 0.5736 - val_loss: 0.9024 - val_acc: 0.5596\n",
      "Epoch 52/200\n",
      "3049/3049 [==============================] - 4s 1ms/step - loss: 0.9151 - acc: 0.5687 - val_loss: 0.8973 - val_acc: 0.5662\n",
      "Epoch 53/200\n",
      "3049/3049 [==============================] - 6s 2ms/step - loss: 0.9130 - acc: 0.5687 - val_loss: 0.9150 - val_acc: 0.5806\n",
      "Epoch 54/200\n",
      "3049/3049 [==============================] - 6s 2ms/step - loss: 0.9055 - acc: 0.5848 - val_loss: 0.8938 - val_acc: 0.5727\n",
      "Epoch 55/200\n",
      "3049/3049 [==============================] - 4s 1ms/step - loss: 0.9131 - acc: 0.5759 - val_loss: 0.8879 - val_acc: 0.5819\n",
      "Epoch 56/200\n",
      "3049/3049 [==============================] - 3s 1ms/step - loss: 0.8984 - acc: 0.5795 - val_loss: 0.9054 - val_acc: 0.5832\n",
      "Epoch 57/200\n",
      "3049/3049 [==============================] - 4s 1ms/step - loss: 0.9019 - acc: 0.5763 - val_loss: 0.8892 - val_acc: 0.5754\n",
      "Epoch 58/200\n",
      "3049/3049 [==============================] - 3s 1ms/step - loss: 0.8953 - acc: 0.5867 - val_loss: 0.8934 - val_acc: 0.5858\n",
      "Epoch 59/200\n",
      "3049/3049 [==============================] - 5s 1ms/step - loss: 0.8865 - acc: 0.5884 - val_loss: 0.8861 - val_acc: 0.6094\n",
      "Epoch 60/200\n",
      "3049/3049 [==============================] - 4s 1ms/step - loss: 0.8941 - acc: 0.5805 - val_loss: 0.8765 - val_acc: 0.5898\n",
      "Epoch 61/200\n",
      "3049/3049 [==============================] - 4s 1ms/step - loss: 0.8942 - acc: 0.5835 - val_loss: 0.8748 - val_acc: 0.5937\n",
      "Epoch 62/200\n",
      "3049/3049 [==============================] - 4s 1ms/step - loss: 0.8749 - acc: 0.5854 - val_loss: 0.8701 - val_acc: 0.6055\n",
      "Epoch 63/200\n",
      "3049/3049 [==============================] - 4s 1ms/step - loss: 0.8822 - acc: 0.5894 - val_loss: 0.8624 - val_acc: 0.6068\n",
      "Epoch 64/200\n",
      "3049/3049 [==============================] - 4s 1ms/step - loss: 0.8789 - acc: 0.5989 - val_loss: 0.8737 - val_acc: 0.6029\n",
      "Epoch 65/200\n",
      "3049/3049 [==============================] - 4s 1ms/step - loss: 0.8766 - acc: 0.6015 - val_loss: 0.8824 - val_acc: 0.5819\n",
      "Epoch 66/200\n",
      "3049/3049 [==============================] - 4s 1ms/step - loss: 0.8848 - acc: 0.5858 - val_loss: 0.8630 - val_acc: 0.5990\n",
      "Epoch 67/200\n",
      "3049/3049 [==============================] - 3s 1ms/step - loss: 0.8806 - acc: 0.5920 - val_loss: 0.8625 - val_acc: 0.6081\n",
      "Epoch 68/200\n",
      "3049/3049 [==============================] - 4s 1ms/step - loss: 0.8677 - acc: 0.6113 - val_loss: 0.8649 - val_acc: 0.6055\n",
      "Epoch 69/200\n",
      "3049/3049 [==============================] - 4s 1ms/step - loss: 0.8722 - acc: 0.5933 - val_loss: 0.8508 - val_acc: 0.6147\n",
      "Epoch 70/200\n",
      "3049/3049 [==============================] - 4s 1ms/step - loss: 0.8652 - acc: 0.5953 - val_loss: 0.8565 - val_acc: 0.6094\n",
      "Epoch 71/200\n",
      "3049/3049 [==============================] - 4s 1ms/step - loss: 0.8629 - acc: 0.6018 - val_loss: 0.8573 - val_acc: 0.6186\n",
      "Epoch 72/200\n",
      "3049/3049 [==============================] - 3s 1ms/step - loss: 0.8565 - acc: 0.6074 - val_loss: 0.8717 - val_acc: 0.6003\n",
      "Epoch 73/200\n",
      "3049/3049 [==============================] - 3s 1ms/step - loss: 0.8694 - acc: 0.6022 - val_loss: 0.8511 - val_acc: 0.6160\n",
      "Epoch 74/200\n",
      "3049/3049 [==============================] - 5s 1ms/step - loss: 0.8638 - acc: 0.6071 - val_loss: 0.8594 - val_acc: 0.6121\n",
      "Epoch 75/200\n",
      "3049/3049 [==============================] - 3s 1ms/step - loss: 0.8597 - acc: 0.6097 - val_loss: 0.8506 - val_acc: 0.6068\n",
      "Epoch 76/200\n",
      "3049/3049 [==============================] - 4s 1ms/step - loss: 0.8564 - acc: 0.6110 - val_loss: 0.8477 - val_acc: 0.6055\n",
      "Epoch 77/200\n",
      "3049/3049 [==============================] - 4s 1ms/step - loss: 0.8573 - acc: 0.6150 - val_loss: 0.8558 - val_acc: 0.5924\n",
      "Epoch 78/200\n",
      "3049/3049 [==============================] - 3s 1ms/step - loss: 0.8530 - acc: 0.6074 - val_loss: 0.8566 - val_acc: 0.6016\n",
      "Epoch 79/200\n",
      "3049/3049 [==============================] - 3s 1ms/step - loss: 0.8429 - acc: 0.6192 - val_loss: 0.8464 - val_acc: 0.6265\n",
      "Epoch 80/200\n",
      "3049/3049 [==============================] - 3s 1ms/step - loss: 0.8501 - acc: 0.6143 - val_loss: 0.8461 - val_acc: 0.6094\n",
      "Epoch 81/200\n",
      "3049/3049 [==============================] - 3s 1ms/step - loss: 0.8519 - acc: 0.6054 - val_loss: 0.8416 - val_acc: 0.6134\n",
      "Epoch 82/200\n",
      "3049/3049 [==============================] - 3s 1ms/step - loss: 0.8306 - acc: 0.6350 - val_loss: 0.8508 - val_acc: 0.6160\n",
      "Epoch 83/200\n",
      "3049/3049 [==============================] - 4s 1ms/step - loss: 0.8444 - acc: 0.6228 - val_loss: 0.8389 - val_acc: 0.6252\n",
      "Epoch 84/200\n",
      "3049/3049 [==============================] - 4s 1ms/step - loss: 0.8456 - acc: 0.6218 - val_loss: 0.8449 - val_acc: 0.6212\n",
      "Epoch 85/200\n",
      "3049/3049 [==============================] - 5s 2ms/step - loss: 0.8386 - acc: 0.6179 - val_loss: 0.8372 - val_acc: 0.6239\n",
      "Epoch 86/200\n",
      "3049/3049 [==============================] - 6s 2ms/step - loss: 0.8225 - acc: 0.6356 - val_loss: 0.8399 - val_acc: 0.6134\n",
      "Epoch 87/200\n",
      "3049/3049 [==============================] - 4s 1ms/step - loss: 0.8245 - acc: 0.6356 - val_loss: 0.8401 - val_acc: 0.6239\n",
      "Epoch 88/200\n",
      "3049/3049 [==============================] - 4s 1ms/step - loss: 0.8235 - acc: 0.6304 - val_loss: 0.8309 - val_acc: 0.6317\n",
      "Epoch 89/200\n",
      "3049/3049 [==============================] - 4s 1ms/step - loss: 0.8181 - acc: 0.6379 - val_loss: 0.8326 - val_acc: 0.6370\n",
      "Epoch 90/200\n",
      "3049/3049 [==============================] - 4s 1ms/step - loss: 0.8275 - acc: 0.6258 - val_loss: 0.8293 - val_acc: 0.6396\n",
      "Epoch 91/200\n",
      "3049/3049 [==============================] - 4s 1ms/step - loss: 0.8270 - acc: 0.6340 - val_loss: 0.8122 - val_acc: 0.6501\n",
      "Epoch 92/200\n",
      "3049/3049 [==============================] - 4s 1ms/step - loss: 0.8061 - acc: 0.6366 - val_loss: 0.8164 - val_acc: 0.6422\n",
      "Epoch 93/200\n",
      "3049/3049 [==============================] - 4s 1ms/step - loss: 0.8101 - acc: 0.6314 - val_loss: 0.8050 - val_acc: 0.6435\n",
      "Epoch 94/200\n",
      "3049/3049 [==============================] - 4s 1ms/step - loss: 0.8269 - acc: 0.6255 - val_loss: 0.8148 - val_acc: 0.6422\n",
      "Epoch 95/200\n",
      "3049/3049 [==============================] - 3s 1ms/step - loss: 0.8072 - acc: 0.6405 - val_loss: 0.8279 - val_acc: 0.6409\n",
      "Epoch 96/200\n",
      "3049/3049 [==============================] - 3s 1ms/step - loss: 0.8214 - acc: 0.6297 - val_loss: 0.8149 - val_acc: 0.6461\n",
      "Epoch 97/200\n",
      "3049/3049 [==============================] - 3s 1ms/step - loss: 0.8149 - acc: 0.6455 - val_loss: 0.8126 - val_acc: 0.6435\n",
      "Epoch 98/200\n",
      "3049/3049 [==============================] - 3s 1ms/step - loss: 0.8087 - acc: 0.6497 - val_loss: 0.8083 - val_acc: 0.6356\n",
      "Epoch 99/200\n",
      "3049/3049 [==============================] - 3s 1ms/step - loss: 0.8125 - acc: 0.6369 - val_loss: 0.8143 - val_acc: 0.6343\n",
      "Epoch 100/200\n",
      "3049/3049 [==============================] - 3s 1ms/step - loss: 0.7993 - acc: 0.6481 - val_loss: 0.8170 - val_acc: 0.6343\n",
      "Epoch 101/200\n",
      "3049/3049 [==============================] - 3s 1ms/step - loss: 0.8051 - acc: 0.6487 - val_loss: 0.8210 - val_acc: 0.6304\n",
      "Epoch 102/200\n",
      "3049/3049 [==============================] - 3s 1ms/step - loss: 0.8033 - acc: 0.6422 - val_loss: 0.8104 - val_acc: 0.6435\n",
      "Epoch 103/200\n",
      "3049/3049 [==============================] - 3s 1ms/step - loss: 0.7996 - acc: 0.6553 - val_loss: 0.8097 - val_acc: 0.6330\n",
      "Epoch 104/200\n",
      "3049/3049 [==============================] - 3s 1ms/step - loss: 0.7853 - acc: 0.6523 - val_loss: 0.8010 - val_acc: 0.6461\n",
      "Epoch 105/200\n",
      "3049/3049 [==============================] - 3s 1ms/step - loss: 0.7888 - acc: 0.6586 - val_loss: 0.7988 - val_acc: 0.6514\n",
      "Epoch 106/200\n",
      "3049/3049 [==============================] - 3s 1ms/step - loss: 0.7859 - acc: 0.6474 - val_loss: 0.8080 - val_acc: 0.6488\n",
      "Epoch 107/200\n",
      "3049/3049 [==============================] - 3s 1ms/step - loss: 0.7788 - acc: 0.6602 - val_loss: 0.7987 - val_acc: 0.6710\n",
      "Epoch 108/200\n",
      "3049/3049 [==============================] - 4s 1ms/step - loss: 0.7961 - acc: 0.6464 - val_loss: 0.7942 - val_acc: 0.6566\n",
      "Epoch 109/200\n",
      "3049/3049 [==============================] - 4s 1ms/step - loss: 0.7927 - acc: 0.6484 - val_loss: 0.8090 - val_acc: 0.6304\n",
      "Epoch 110/200\n",
      "3049/3049 [==============================] - 3s 1ms/step - loss: 0.7915 - acc: 0.6596 - val_loss: 0.7963 - val_acc: 0.6579\n",
      "Epoch 111/200\n",
      "3049/3049 [==============================] - 3s 1ms/step - loss: 0.7907 - acc: 0.6579 - val_loss: 0.8166 - val_acc: 0.6356\n",
      "Epoch 112/200\n",
      "3049/3049 [==============================] - 3s 1ms/step - loss: 0.7804 - acc: 0.6576 - val_loss: 0.7910 - val_acc: 0.6501\n",
      "Epoch 113/200\n",
      "3049/3049 [==============================] - 3s 1ms/step - loss: 0.7666 - acc: 0.6678 - val_loss: 0.8090 - val_acc: 0.6422\n",
      "Epoch 114/200\n",
      "3049/3049 [==============================] - 3s 1ms/step - loss: 0.7664 - acc: 0.6707 - val_loss: 0.7940 - val_acc: 0.6474\n",
      "Epoch 115/200\n",
      "3049/3049 [==============================] - 3s 1ms/step - loss: 0.7591 - acc: 0.6730 - val_loss: 0.7838 - val_acc: 0.6671\n",
      "Epoch 116/200\n",
      "3049/3049 [==============================] - 3s 1ms/step - loss: 0.7838 - acc: 0.6579 - val_loss: 0.7953 - val_acc: 0.6540\n",
      "Epoch 117/200\n",
      "3049/3049 [==============================] - 3s 1ms/step - loss: 0.7648 - acc: 0.6664 - val_loss: 0.7901 - val_acc: 0.6488\n",
      "Epoch 118/200\n",
      "3049/3049 [==============================] - 3s 1ms/step - loss: 0.7737 - acc: 0.6566 - val_loss: 0.7967 - val_acc: 0.6579\n",
      "Epoch 119/200\n",
      "3049/3049 [==============================] - 3s 1ms/step - loss: 0.7614 - acc: 0.6720 - val_loss: 0.7840 - val_acc: 0.6566\n",
      "Epoch 120/200\n",
      "3049/3049 [==============================] - 3s 1ms/step - loss: 0.7736 - acc: 0.6537 - val_loss: 0.7880 - val_acc: 0.6553\n",
      "Epoch 121/200\n",
      "3049/3049 [==============================] - 3s 1ms/step - loss: 0.7379 - acc: 0.6848 - val_loss: 0.7842 - val_acc: 0.6710\n",
      "Epoch 122/200\n",
      "3049/3049 [==============================] - 3s 1ms/step - loss: 0.7553 - acc: 0.6655 - val_loss: 0.7876 - val_acc: 0.6632\n",
      "Epoch 123/200\n",
      "3049/3049 [==============================] - 3s 1ms/step - loss: 0.7565 - acc: 0.6792 - val_loss: 0.7863 - val_acc: 0.6684\n",
      "Epoch 124/200\n",
      "3049/3049 [==============================] - 3s 1ms/step - loss: 0.7408 - acc: 0.6796 - val_loss: 0.7917 - val_acc: 0.6645\n",
      "Epoch 125/200\n",
      "3049/3049 [==============================] - 3s 1ms/step - loss: 0.7503 - acc: 0.6851 - val_loss: 0.7960 - val_acc: 0.6684\n",
      "Epoch 126/200\n",
      "3049/3049 [==============================] - 3s 1ms/step - loss: 0.7533 - acc: 0.6743 - val_loss: 0.7901 - val_acc: 0.6658\n",
      "Epoch 127/200\n",
      "3049/3049 [==============================] - 3s 1ms/step - loss: 0.7446 - acc: 0.6776 - val_loss: 0.7856 - val_acc: 0.6592\n",
      "Epoch 128/200\n",
      "3049/3049 [==============================] - 4s 1ms/step - loss: 0.7404 - acc: 0.6763 - val_loss: 0.7851 - val_acc: 0.6658\n",
      "Epoch 129/200\n",
      "3049/3049 [==============================] - 3s 1ms/step - loss: 0.7437 - acc: 0.6763 - val_loss: 0.7842 - val_acc: 0.6750\n",
      "Epoch 130/200\n",
      "3049/3049 [==============================] - 3s 1ms/step - loss: 0.7391 - acc: 0.6894 - val_loss: 0.7822 - val_acc: 0.6553\n",
      "Epoch 131/200\n",
      "3049/3049 [==============================] - 3s 1ms/step - loss: 0.7348 - acc: 0.6822 - val_loss: 0.7801 - val_acc: 0.6592\n",
      "Epoch 132/200\n",
      "3049/3049 [==============================] - 3s 1ms/step - loss: 0.7509 - acc: 0.6858 - val_loss: 0.7763 - val_acc: 0.6606\n",
      "Epoch 133/200\n",
      "3049/3049 [==============================] - 3s 1ms/step - loss: 0.7411 - acc: 0.6897 - val_loss: 0.7846 - val_acc: 0.6723\n",
      "Epoch 134/200\n",
      "3049/3049 [==============================] - 3s 1ms/step - loss: 0.7488 - acc: 0.6724 - val_loss: 0.7684 - val_acc: 0.6632\n",
      "Epoch 135/200\n",
      "3049/3049 [==============================] - 3s 1ms/step - loss: 0.7185 - acc: 0.6924 - val_loss: 0.7789 - val_acc: 0.6789\n",
      "Epoch 136/200\n",
      "3049/3049 [==============================] - 3s 1ms/step - loss: 0.7186 - acc: 0.6999 - val_loss: 0.7854 - val_acc: 0.6684\n",
      "Epoch 137/200\n",
      "3049/3049 [==============================] - 3s 1ms/step - loss: 0.7285 - acc: 0.6937 - val_loss: 0.7724 - val_acc: 0.6750\n",
      "Epoch 138/200\n",
      "3049/3049 [==============================] - 4s 1ms/step - loss: 0.7309 - acc: 0.6851 - val_loss: 0.7820 - val_acc: 0.6671\n",
      "Epoch 139/200\n",
      "3049/3049 [==============================] - 3s 1ms/step - loss: 0.7263 - acc: 0.6960 - val_loss: 0.7766 - val_acc: 0.6619\n",
      "Epoch 140/200\n",
      "3049/3049 [==============================] - 4s 1ms/step - loss: 0.7163 - acc: 0.7002 - val_loss: 0.7852 - val_acc: 0.6658\n",
      "Epoch 141/200\n",
      "3049/3049 [==============================] - 3s 1ms/step - loss: 0.7288 - acc: 0.6874 - val_loss: 0.7857 - val_acc: 0.6737\n",
      "Epoch 142/200\n",
      "3049/3049 [==============================] - 4s 1ms/step - loss: 0.7154 - acc: 0.6979 - val_loss: 0.7697 - val_acc: 0.6881\n",
      "Epoch 143/200\n",
      "3049/3049 [==============================] - 3s 1ms/step - loss: 0.7045 - acc: 0.6960 - val_loss: 0.7897 - val_acc: 0.6684\n",
      "Epoch 144/200\n",
      "3049/3049 [==============================] - 3s 1ms/step - loss: 0.7071 - acc: 0.7002 - val_loss: 0.7841 - val_acc: 0.6684\n",
      "Epoch 145/200\n",
      "3049/3049 [==============================] - 3s 1ms/step - loss: 0.7157 - acc: 0.6966 - val_loss: 0.7835 - val_acc: 0.6684\n",
      "Epoch 146/200\n",
      "3049/3049 [==============================] - 4s 1ms/step - loss: 0.7099 - acc: 0.6920 - val_loss: 0.7639 - val_acc: 0.6776\n",
      "Epoch 147/200\n",
      "3049/3049 [==============================] - 3s 1ms/step - loss: 0.7074 - acc: 0.7015 - val_loss: 0.7796 - val_acc: 0.6684\n",
      "Epoch 148/200\n",
      "3049/3049 [==============================] - 3s 1ms/step - loss: 0.7154 - acc: 0.6979 - val_loss: 0.7655 - val_acc: 0.6972\n",
      "Epoch 149/200\n",
      "3049/3049 [==============================] - 3s 1ms/step - loss: 0.7183 - acc: 0.6897 - val_loss: 0.7760 - val_acc: 0.6645\n",
      "Epoch 150/200\n",
      "3049/3049 [==============================] - 3s 1ms/step - loss: 0.7246 - acc: 0.6865 - val_loss: 0.7705 - val_acc: 0.6789\n",
      "Epoch 151/200\n",
      "3049/3049 [==============================] - 3s 1ms/step - loss: 0.7075 - acc: 0.6947 - val_loss: 0.7693 - val_acc: 0.6841\n",
      "Epoch 152/200\n",
      "3049/3049 [==============================] - 3s 1ms/step - loss: 0.6993 - acc: 0.7045 - val_loss: 0.7736 - val_acc: 0.6671\n",
      "Epoch 153/200\n",
      "3049/3049 [==============================] - 4s 1ms/step - loss: 0.6798 - acc: 0.7133 - val_loss: 0.7606 - val_acc: 0.6855\n",
      "Epoch 154/200\n",
      "3049/3049 [==============================] - 3s 1ms/step - loss: 0.7053 - acc: 0.6956 - val_loss: 0.7694 - val_acc: 0.6750\n",
      "Epoch 155/200\n",
      "3049/3049 [==============================] - 3s 1ms/step - loss: 0.6934 - acc: 0.7015 - val_loss: 0.7675 - val_acc: 0.6881\n",
      "Epoch 156/200\n",
      "3049/3049 [==============================] - 3s 1ms/step - loss: 0.6918 - acc: 0.7091 - val_loss: 0.7737 - val_acc: 0.6881\n",
      "Epoch 157/200\n",
      "3049/3049 [==============================] - 4s 1ms/step - loss: 0.6971 - acc: 0.7104 - val_loss: 0.7725 - val_acc: 0.6789\n",
      "Epoch 158/200\n",
      "3049/3049 [==============================] - 3s 1ms/step - loss: 0.6852 - acc: 0.7127 - val_loss: 0.7692 - val_acc: 0.6828\n",
      "Epoch 159/200\n",
      "3049/3049 [==============================] - 3s 1ms/step - loss: 0.7030 - acc: 0.7094 - val_loss: 0.7586 - val_acc: 0.6972\n",
      "Epoch 160/200\n",
      "3049/3049 [==============================] - 3s 1ms/step - loss: 0.7002 - acc: 0.7015 - val_loss: 0.7677 - val_acc: 0.6881\n",
      "Epoch 161/200\n",
      "3049/3049 [==============================] - 3s 1ms/step - loss: 0.6761 - acc: 0.7130 - val_loss: 0.7657 - val_acc: 0.6946\n",
      "Epoch 162/200\n",
      "3049/3049 [==============================] - 3s 1ms/step - loss: 0.6947 - acc: 0.7107 - val_loss: 0.7627 - val_acc: 0.6815\n",
      "Epoch 163/200\n",
      "3049/3049 [==============================] - 3s 1ms/step - loss: 0.6690 - acc: 0.7081 - val_loss: 0.7603 - val_acc: 0.6986\n",
      "Epoch 164/200\n",
      "3049/3049 [==============================] - 3s 1ms/step - loss: 0.6751 - acc: 0.7140 - val_loss: 0.7680 - val_acc: 0.6920\n",
      "Epoch 165/200\n",
      "3049/3049 [==============================] - 3s 1ms/step - loss: 0.6823 - acc: 0.7127 - val_loss: 0.7632 - val_acc: 0.7038\n",
      "Epoch 166/200\n",
      "3049/3049 [==============================] - 4s 1ms/step - loss: 0.6902 - acc: 0.7081 - val_loss: 0.7713 - val_acc: 0.6959\n",
      "Epoch 167/200\n",
      "3049/3049 [==============================] - 3s 1ms/step - loss: 0.6946 - acc: 0.7038 - val_loss: 0.7621 - val_acc: 0.6815\n",
      "Epoch 168/200\n",
      "3049/3049 [==============================] - 3s 1ms/step - loss: 0.6676 - acc: 0.7252 - val_loss: 0.7628 - val_acc: 0.6894\n",
      "Epoch 169/200\n",
      "3049/3049 [==============================] - 3s 1ms/step - loss: 0.6544 - acc: 0.7215 - val_loss: 0.7694 - val_acc: 0.6815\n",
      "Epoch 170/200\n",
      "3049/3049 [==============================] - 3s 1ms/step - loss: 0.6685 - acc: 0.7147 - val_loss: 0.7675 - val_acc: 0.6855\n",
      "Epoch 171/200\n",
      "3049/3049 [==============================] - 3s 1ms/step - loss: 0.6795 - acc: 0.7150 - val_loss: 0.7650 - val_acc: 0.6972\n",
      "Epoch 172/200\n",
      "3049/3049 [==============================] - 3s 1ms/step - loss: 0.6652 - acc: 0.7140 - val_loss: 0.7643 - val_acc: 0.6815\n",
      "Epoch 173/200\n",
      "3049/3049 [==============================] - 4s 1ms/step - loss: 0.6730 - acc: 0.7186 - val_loss: 0.7622 - val_acc: 0.6763\n",
      "Epoch 174/200\n",
      "3049/3049 [==============================] - 3s 1ms/step - loss: 0.6585 - acc: 0.7255 - val_loss: 0.7604 - val_acc: 0.6868\n"
     ]
    }
   ],
   "source": [
    "history_3 = lstm_mod3.fit(X_train, y_train,\n",
    "                    validation_split = 0.2,\n",
    "                    callbacks=early_stopping, \n",
    "                    class_weight=class_weights,\n",
    "                    epochs=200, batch_size=500)"
   ]
  },
  {
   "cell_type": "code",
   "execution_count": 71,
   "id": "abe923be",
   "metadata": {},
   "outputs": [
    {
     "data": {
      "image/png": "[encoded data removed]",
      "text/plain": [
       "<Figure size 432x288 with 1 Axes>"
      ]
     },
     "metadata": {
      "needs_background": "light"
     },
     "output_type": "display_data"
    },
    {
     "data": {
      "image/png": "[encoded data removed]",
      "text/plain": [
       "<Figure size 432x288 with 1 Axes>"
      ]
     },
     "metadata": {
      "needs_background": "light"
     },
     "output_type": "display_data"
    }
   ],
   "source": [
    "visualize_training_results(history_3)"
   ]
  },
  {
   "cell_type": "code",
   "execution_count": 72,
   "id": "56538fa1",
   "metadata": {},
   "outputs": [
    {
     "name": "stdout",
     "output_type": "stream",
     "text": [
      "Training Accuracy: 0.7875\n",
      "Testing Accuracy:  0.7065\n"
     ]
    }
   ],
   "source": [
    "# Find train and test accuracy\n",
    "loss, accuracy = lstm_mod3.evaluate(X_train, y_train, verbose=False)\n",
    "print(\"Training Accuracy: {:.4f}\".format(accuracy))\n",
    "loss, accuracy = lstm_mod3.evaluate(X_test, y_test, verbose=False)\n",
    "print(\"Testing Accuracy:  {:.4f}\".format(accuracy))"
   ]
  },
  {
   "cell_type": "code",
   "execution_count": 73,
   "id": "57c59a8b",
   "metadata": {},
   "outputs": [],
   "source": [
    "y_pred = lstm_mod3.predict(X_test)\n",
    "y_pred = np.argmax(y_pred, axis=1)"
   ]
  },
  {
   "cell_type": "code",
   "execution_count": 79,
   "id": "7f0a0d9b",
   "metadata": {},
   "outputs": [],
   "source": [
    "Y_test = np.argmax(y_test, axis=1)"
   ]
  },
  {
   "cell_type": "markdown",
   "id": "f7a3d77c",
   "metadata": {},
   "source": [
    "#### Plot confusion matrix"
   ]
  },
  {
   "cell_type": "code",
   "execution_count": 76,
   "id": "872f2572",
   "metadata": {},
   "outputs": [],
   "source": [
    "class_names = np.array(['Negative', 'Positive', 'Neutral'])"
   ]
  },
  {
   "cell_type": "code",
   "execution_count": 77,
   "id": "b7878149",
   "metadata": {},
   "outputs": [],
   "source": [
    "def plot_confusion_matrix(y_true, y_pred, classes,\n",
    "                          normalize=False,\n",
    "                          title=None,\n",
    "                          cmap=plt.cm.Blues):\n",
    "    \"\"\"\n",
    "    This function prints and plots the confusion matrix.\n",
    "    Normalization can be applied by setting `normalize=True`.\n",
    "    \"\"\"\n",
    "    if not title:\n",
    "        if normalize:\n",
    "            title = 'Normalized confusion matrix'\n",
    "        else:\n",
    "            title = 'Confusion matrix, without normalization'\n",
    "\n",
    "    # Compute confusion matrix\n",
    "    cm = confusion_matrix(y_true, y_pred)\n",
    "    # Only use the labels that appear in the data\n",
    "    classes = classes[unique_labels(y_true, y_pred)]\n",
    "    if normalize:\n",
    "        cm = cm.astype('float') / cm.sum(axis=1)[:, np.newaxis]\n",
    "        print(\"Normalized confusion matrix\")\n",
    "    else:\n",
    "        print('Confusion matrix, without normalization')\n",
    "\n",
    "    print(cm)\n",
    "\n",
    "    fig, ax = plt.subplots()\n",
    "    plt.grid(False)\n",
    "    im = ax.imshow(cm, interpolation='nearest', cmap=cmap)\n",
    "    ax.figure.colorbar(im, ax=ax)\n",
    "    # We want to show all ticks...\n",
    "    ax.set(xticks=np.arange(cm.shape[1]),\n",
    "           yticks=np.arange(cm.shape[0]),\n",
    "           # ... and label them with the respective list entries\n",
    "           xticklabels=classes, yticklabels=classes,\n",
    "           title=title,\n",
    "           ylabel='True label',\n",
    "           xlabel='Predicted label')\n",
    "\n",
    "    # Rotate the tick labels and set their alignment.\n",
    "    plt.setp(ax.get_xticklabels(), rotation=45, ha=\"right\",\n",
    "             rotation_mode=\"anchor\")\n",
    "\n",
    "    # Loop over data dimensions and create text annotations.\n",
    "    fmt = '.2f' if normalize else 'd'\n",
    "    thresh = cm.max() / 2.\n",
    "    for i in range(cm.shape[0]):\n",
    "        for j in range(cm.shape[1]):\n",
    "            ax.text(j, i, format(cm[i, j], fmt),\n",
    "                    ha=\"center\", va=\"center\",\n",
    "                    color=\"white\" if cm[i, j] > thresh else \"black\")\n",
    "    fig.tight_layout()\n",
    "    return ax"
   ]
  },
  {
   "cell_type": "code",
   "execution_count": 78,
   "id": "34805535",
   "metadata": {},
   "outputs": [
    {
     "name": "stdout",
     "output_type": "stream",
     "text": [
      "Confusion matrix, without normalization\n",
      "[[176  28  69]\n",
      " [ 24 156  71]\n",
      " [ 40  48 342]]\n",
      "Normalized confusion matrix\n",
      "[[0.64 0.1  0.25]\n",
      " [0.1  0.62 0.28]\n",
      " [0.09 0.11 0.8 ]]\n"
     ]
    },
    {
     "data": {
      "image/png": "[encoded data removed]",
      "text/plain": [
       "<Figure size 432x288 with 2 Axes>"
      ]
     },
     "metadata": {
      "needs_background": "light"
     },
     "output_type": "display_data"
    },
    {
     "data": {
      "image/png": "[encoded data removed]",
      "text/plain": [
       "<Figure size 432x288 with 2 Axes>"
      ]
     },
     "metadata": {
      "needs_background": "light"
     },
     "output_type": "display_data"
    }
   ],
   "source": [
    "np.set_printoptions(precision=2)\n",
    "\n",
    "# Plot non-normalized confusion matrix\n",
    "plot_confusion_matrix(Y_test, y_pred, classes=class_names,\n",
    "                      title='Confusion matrix, without normalization')\n",
    "\n",
    "# Plot normalized confusion matrix\n",
    "plot_confusion_matrix(Y_test, y_pred, classes=class_names, normalize=True,\n",
    "                      title='Normalized confusion matrix')\n",
    "\n",
    "plt.show()"
   ]
  },
  {
   "cell_type": "markdown",
   "id": "d8e4ec76",
   "metadata": {},
   "source": [
    "### Model 4: GRU Layer Stacking"
   ]
  },
  {
   "cell_type": "code",
   "execution_count": 86,
   "id": "4f0511bc",
   "metadata": {},
   "outputs": [
    {
     "name": "stdout",
     "output_type": "stream",
     "text": [
      "_________________________________________________________________\n",
      "Layer (type)                 Output Shape              Param #   \n",
      "=================================================================\n",
      "embedding_1 (Embedding)      (None, 45, 50)            752500    \n",
      "_________________________________________________________________\n",
      "gru_3 (GRU)                  (None, 45, 64)            22080     \n",
      "_________________________________________________________________\n",
      "gru_4 (GRU)                  (None, 32)                9312      \n",
      "_________________________________________________________________\n",
      "dense_8 (Dense)              (None, 3)                 99        \n",
      "=================================================================\n",
      "Total params: 783,991\n",
      "Trainable params: 31,491\n",
      "Non-trainable params: 752,500\n",
      "_________________________________________________________________\n"
     ]
    }
   ],
   "source": [
    "# GRU Model 2: reduce number of epochs\n",
    "model_4 = Sequential()\n",
    "model_4.add(embedding_layer)\n",
    "model_4.add(GRU(64, \n",
    "               dropout = 0.3, \n",
    "               recurrent_dropout = 0.5,\n",
    "                 return_sequences = True))\n",
    "model_4.add(GRU(32,\n",
    "                dropout = 0.3,\n",
    "                recurrent_dropout = 0.5))\n",
    "model_4.add(Dense(3, activation='softmax'))\n",
    "model_4.compile(optimizer='adam', loss='categorical_crossentropy', metrics=['acc'])\n",
    "model_4.summary()"
   ]
  },
  {
   "cell_type": "code",
   "execution_count": 87,
   "id": "ac603432",
   "metadata": {},
   "outputs": [],
   "source": [
    "# Define the callbacks\n",
    "early_stopping = [EarlyStopping(monitor='val_loss', patience=15), \n",
    "                  ModelCheckpoint(filepath='best_model_gru.h5', monitor='val_loss', save_best_only=True)]"
   ]
  },
  {
   "cell_type": "code",
   "execution_count": 88,
   "id": "67cfb8a6",
   "metadata": {
    "collapsed": true,
    "jupyter": {
     "outputs_hidden": true
    }
   },
   "outputs": [
    {
     "name": "stdout",
     "output_type": "stream",
     "text": [
      "Train on 3049 samples, validate on 763 samples\n",
      "Epoch 1/300\n",
      "3049/3049 [==============================] - 6s 2ms/step - loss: 1.1116 - acc: 0.3837 - val_loss: 1.0821 - val_acc: 0.4181\n",
      "Epoch 2/300\n",
      "3049/3049 [==============================] - 3s 825us/step - loss: 1.0875 - acc: 0.4175 - val_loss: 1.0685 - val_acc: 0.4168\n",
      "Epoch 3/300\n",
      "3049/3049 [==============================] - 2s 712us/step - loss: 1.0786 - acc: 0.4175 - val_loss: 1.0638 - val_acc: 0.4286\n",
      "Epoch 4/300\n",
      "3049/3049 [==============================] - 3s 977us/step - loss: 1.0742 - acc: 0.4313 - val_loss: 1.0627 - val_acc: 0.4273\n",
      "Epoch 5/300\n",
      "3049/3049 [==============================] - 2s 706us/step - loss: 1.0691 - acc: 0.4356 - val_loss: 1.0574 - val_acc: 0.4312\n",
      "Epoch 6/300\n",
      "3049/3049 [==============================] - 2s 753us/step - loss: 1.0618 - acc: 0.4375 - val_loss: 1.0534 - val_acc: 0.4351\n",
      "Epoch 7/300\n",
      "3049/3049 [==============================] - 2s 695us/step - loss: 1.0651 - acc: 0.4415 - val_loss: 1.0519 - val_acc: 0.4364\n",
      "Epoch 8/300\n",
      "3049/3049 [==============================] - 4s 1ms/step - loss: 1.0562 - acc: 0.4408 - val_loss: 1.0488 - val_acc: 0.4338\n",
      "Epoch 9/300\n",
      "3049/3049 [==============================] - 4s 1ms/step - loss: 1.0525 - acc: 0.4464 - val_loss: 1.0466 - val_acc: 0.4299\n",
      "Epoch 10/300\n",
      "3049/3049 [==============================] - 2s 814us/step - loss: 1.0556 - acc: 0.4464 - val_loss: 1.0434 - val_acc: 0.4338\n",
      "Epoch 11/300\n",
      "3049/3049 [==============================] - 2s 815us/step - loss: 1.0541 - acc: 0.4418 - val_loss: 1.0437 - val_acc: 0.4351\n",
      "Epoch 12/300\n",
      "3049/3049 [==============================] - 2s 809us/step - loss: 1.0478 - acc: 0.4523 - val_loss: 1.0383 - val_acc: 0.4443\n",
      "Epoch 13/300\n",
      "3049/3049 [==============================] - 2s 710us/step - loss: 1.0460 - acc: 0.4585 - val_loss: 1.0331 - val_acc: 0.4626\n",
      "Epoch 14/300\n",
      "3049/3049 [==============================] - 2s 700us/step - loss: 1.0420 - acc: 0.4670 - val_loss: 1.0335 - val_acc: 0.4561\n",
      "Epoch 15/300\n",
      "3049/3049 [==============================] - 2s 696us/step - loss: 1.0474 - acc: 0.4513 - val_loss: 1.0324 - val_acc: 0.4522\n",
      "Epoch 16/300\n",
      "3049/3049 [==============================] - 2s 729us/step - loss: 1.0361 - acc: 0.4677 - val_loss: 1.0232 - val_acc: 0.4823\n",
      "Epoch 17/300\n",
      "3049/3049 [==============================] - 2s 723us/step - loss: 1.0323 - acc: 0.4775 - val_loss: 1.0211 - val_acc: 0.4836\n",
      "Epoch 18/300\n",
      "3049/3049 [==============================] - 2s 693us/step - loss: 1.0301 - acc: 0.4687 - val_loss: 1.0199 - val_acc: 0.4784\n",
      "Epoch 19/300\n",
      "3049/3049 [==============================] - 2s 697us/step - loss: 1.0252 - acc: 0.4838 - val_loss: 1.0185 - val_acc: 0.4705\n",
      "Epoch 20/300\n",
      "3049/3049 [==============================] - 2s 705us/step - loss: 1.0258 - acc: 0.4792 - val_loss: 1.0123 - val_acc: 0.4810\n",
      "Epoch 21/300\n",
      "3049/3049 [==============================] - 2s 728us/step - loss: 1.0133 - acc: 0.5041 - val_loss: 1.0042 - val_acc: 0.4993\n",
      "Epoch 22/300\n",
      "3049/3049 [==============================] - 2s 700us/step - loss: 1.0227 - acc: 0.4884 - val_loss: 1.0008 - val_acc: 0.5046\n",
      "Epoch 23/300\n",
      "3049/3049 [==============================] - 2s 701us/step - loss: 1.0132 - acc: 0.5077 - val_loss: 1.0007 - val_acc: 0.5072\n",
      "Epoch 24/300\n",
      "3049/3049 [==============================] - 2s 685us/step - loss: 1.0240 - acc: 0.4641 - val_loss: 0.9968 - val_acc: 0.5072\n",
      "Epoch 25/300\n",
      "3049/3049 [==============================] - 2s 731us/step - loss: 1.0140 - acc: 0.4788 - val_loss: 1.0006 - val_acc: 0.4954\n",
      "Epoch 26/300\n",
      "3049/3049 [==============================] - 2s 712us/step - loss: 1.0064 - acc: 0.5025 - val_loss: 0.9949 - val_acc: 0.4941\n",
      "Epoch 27/300\n",
      "3049/3049 [==============================] - 2s 788us/step - loss: 0.9993 - acc: 0.5028 - val_loss: 0.9864 - val_acc: 0.5138\n",
      "Epoch 28/300\n",
      "3049/3049 [==============================] - 2s 714us/step - loss: 0.9945 - acc: 0.5172 - val_loss: 0.9859 - val_acc: 0.5059\n",
      "Epoch 29/300\n",
      "3049/3049 [==============================] - 2s 778us/step - loss: 0.9952 - acc: 0.4995 - val_loss: 1.0015 - val_acc: 0.4954\n",
      "Epoch 30/300\n",
      "3049/3049 [==============================] - 2s 760us/step - loss: 0.9903 - acc: 0.5130 - val_loss: 0.9790 - val_acc: 0.5177\n",
      "Epoch 31/300\n",
      "3049/3049 [==============================] - 2s 726us/step - loss: 0.9849 - acc: 0.5205 - val_loss: 0.9714 - val_acc: 0.5295\n",
      "Epoch 32/300\n",
      "3049/3049 [==============================] - 2s 691us/step - loss: 0.9756 - acc: 0.5300 - val_loss: 0.9639 - val_acc: 0.5282\n",
      "Epoch 33/300\n",
      "3049/3049 [==============================] - 2s 815us/step - loss: 0.9836 - acc: 0.5169 - val_loss: 0.9806 - val_acc: 0.5151\n",
      "Epoch 34/300\n",
      "3049/3049 [==============================] - 2s 697us/step - loss: 0.9768 - acc: 0.5182 - val_loss: 0.9591 - val_acc: 0.5360\n",
      "Epoch 35/300\n",
      "3049/3049 [==============================] - 2s 697us/step - loss: 0.9649 - acc: 0.5402 - val_loss: 0.9678 - val_acc: 0.5321\n",
      "Epoch 36/300\n",
      "3049/3049 [==============================] - 2s 691us/step - loss: 0.9717 - acc: 0.5198 - val_loss: 0.9541 - val_acc: 0.5413\n",
      "Epoch 37/300\n",
      "3049/3049 [==============================] - 2s 739us/step - loss: 0.9729 - acc: 0.5241 - val_loss: 0.9470 - val_acc: 0.5439\n",
      "Epoch 38/300\n",
      "3049/3049 [==============================] - 3s 1ms/step - loss: 0.9548 - acc: 0.5428 - val_loss: 0.9564 - val_acc: 0.5347\n",
      "Epoch 39/300\n",
      "3049/3049 [==============================] - 4s 1ms/step - loss: 0.9687 - acc: 0.5228 - val_loss: 0.9566 - val_acc: 0.5256\n",
      "Epoch 40/300\n",
      "3049/3049 [==============================] - 4s 1ms/step - loss: 0.9576 - acc: 0.5389 - val_loss: 0.9494 - val_acc: 0.5400\n",
      "Epoch 41/300\n",
      "3049/3049 [==============================] - 3s 829us/step - loss: 0.9599 - acc: 0.5346 - val_loss: 0.9448 - val_acc: 0.5465\n",
      "Epoch 42/300\n",
      "3049/3049 [==============================] - 2s 787us/step - loss: 0.9501 - acc: 0.5507 - val_loss: 0.9406 - val_acc: 0.5544\n",
      "Epoch 43/300\n",
      "3049/3049 [==============================] - 3s 862us/step - loss: 0.9517 - acc: 0.5405 - val_loss: 0.9396 - val_acc: 0.5583\n",
      "Epoch 44/300\n",
      "3049/3049 [==============================] - 3s 1ms/step - loss: 0.9462 - acc: 0.5454 - val_loss: 0.9326 - val_acc: 0.5714\n",
      "Epoch 45/300\n",
      "3049/3049 [==============================] - 3s 1ms/step - loss: 0.9393 - acc: 0.5517 - val_loss: 0.9375 - val_acc: 0.5570\n",
      "Epoch 46/300\n",
      "3049/3049 [==============================] - 2s 782us/step - loss: 0.9372 - acc: 0.5546 - val_loss: 0.9378 - val_acc: 0.5701\n",
      "Epoch 47/300\n",
      "3049/3049 [==============================] - 2s 743us/step - loss: 0.9442 - acc: 0.5513 - val_loss: 0.9240 - val_acc: 0.5596\n",
      "Epoch 48/300\n",
      "3049/3049 [==============================] - 2s 820us/step - loss: 0.9297 - acc: 0.5644 - val_loss: 0.9170 - val_acc: 0.5609\n",
      "Epoch 49/300\n",
      "3049/3049 [==============================] - 3s 874us/step - loss: 0.9375 - acc: 0.5510 - val_loss: 0.9285 - val_acc: 0.5688\n",
      "Epoch 50/300\n",
      "3049/3049 [==============================] - 2s 817us/step - loss: 0.9378 - acc: 0.5622 - val_loss: 0.9153 - val_acc: 0.5793\n",
      "Epoch 51/300\n",
      "3049/3049 [==============================] - 2s 693us/step - loss: 0.9283 - acc: 0.5717 - val_loss: 0.9034 - val_acc: 0.5806\n",
      "Epoch 52/300\n",
      "3049/3049 [==============================] - 3s 900us/step - loss: 0.9187 - acc: 0.5786 - val_loss: 0.9075 - val_acc: 0.5832\n",
      "Epoch 53/300\n",
      "3049/3049 [==============================] - 3s 891us/step - loss: 0.9164 - acc: 0.5717 - val_loss: 0.9123 - val_acc: 0.5793\n",
      "Epoch 54/300\n",
      "3049/3049 [==============================] - 2s 702us/step - loss: 0.9223 - acc: 0.5671 - val_loss: 0.9029 - val_acc: 0.5885\n",
      "Epoch 55/300\n",
      "3049/3049 [==============================] - 2s 800us/step - loss: 0.9126 - acc: 0.5858 - val_loss: 0.8881 - val_acc: 0.5950\n",
      "Epoch 56/300\n",
      "3049/3049 [==============================] - 2s 696us/step - loss: 0.9116 - acc: 0.5835 - val_loss: 0.8934 - val_acc: 0.5976\n",
      "Epoch 57/300\n",
      "3049/3049 [==============================] - 2s 736us/step - loss: 0.9104 - acc: 0.5723 - val_loss: 0.9117 - val_acc: 0.5832\n",
      "Epoch 58/300\n",
      "3049/3049 [==============================] - 2s 690us/step - loss: 0.9145 - acc: 0.5690 - val_loss: 0.8845 - val_acc: 0.5976\n",
      "Epoch 59/300\n",
      "3049/3049 [==============================] - 2s 717us/step - loss: 0.9069 - acc: 0.5805 - val_loss: 0.8847 - val_acc: 0.5976\n",
      "Epoch 60/300\n",
      "3049/3049 [==============================] - 2s 795us/step - loss: 0.9035 - acc: 0.5818 - val_loss: 0.8741 - val_acc: 0.6003\n",
      "Epoch 61/300\n",
      "3049/3049 [==============================] - 2s 707us/step - loss: 0.8926 - acc: 0.5766 - val_loss: 0.8834 - val_acc: 0.5950\n",
      "Epoch 62/300\n",
      "3049/3049 [==============================] - 2s 702us/step - loss: 0.8980 - acc: 0.5825 - val_loss: 0.8828 - val_acc: 0.5924\n",
      "Epoch 63/300\n",
      "3049/3049 [==============================] - 2s 790us/step - loss: 0.9004 - acc: 0.5723 - val_loss: 0.8770 - val_acc: 0.5924\n",
      "Epoch 64/300\n",
      "3049/3049 [==============================] - 2s 684us/step - loss: 0.8953 - acc: 0.5897 - val_loss: 0.8867 - val_acc: 0.5924\n",
      "Epoch 65/300\n",
      "3049/3049 [==============================] - 2s 733us/step - loss: 0.8918 - acc: 0.5894 - val_loss: 0.8696 - val_acc: 0.5963\n",
      "Epoch 66/300\n",
      "3049/3049 [==============================] - 2s 683us/step - loss: 0.8738 - acc: 0.6054 - val_loss: 0.8617 - val_acc: 0.6055\n",
      "Epoch 67/300\n",
      "3049/3049 [==============================] - 3s 864us/step - loss: 0.8881 - acc: 0.5845 - val_loss: 0.8674 - val_acc: 0.6016\n",
      "Epoch 68/300\n",
      "3049/3049 [==============================] - 2s 769us/step - loss: 0.8859 - acc: 0.5989 - val_loss: 0.8624 - val_acc: 0.6042\n",
      "Epoch 69/300\n",
      "3049/3049 [==============================] - 2s 714us/step - loss: 0.8847 - acc: 0.5871 - val_loss: 0.8535 - val_acc: 0.6199\n",
      "Epoch 70/300\n",
      "3049/3049 [==============================] - 2s 738us/step - loss: 0.8789 - acc: 0.6012 - val_loss: 0.8562 - val_acc: 0.6081\n",
      "Epoch 71/300\n",
      "3049/3049 [==============================] - 2s 689us/step - loss: 0.8788 - acc: 0.6028 - val_loss: 0.8386 - val_acc: 0.6186\n",
      "Epoch 72/300\n",
      "3049/3049 [==============================] - 2s 710us/step - loss: 0.8753 - acc: 0.6005 - val_loss: 0.8517 - val_acc: 0.6094\n",
      "Epoch 73/300\n",
      "3049/3049 [==============================] - 3s 828us/step - loss: 0.8814 - acc: 0.5989 - val_loss: 0.8527 - val_acc: 0.6107\n",
      "Epoch 74/300\n",
      "3049/3049 [==============================] - 3s 1ms/step - loss: 0.8735 - acc: 0.5972 - val_loss: 0.8413 - val_acc: 0.6304\n",
      "Epoch 75/300\n",
      "3049/3049 [==============================] - 2s 783us/step - loss: 0.8692 - acc: 0.6061 - val_loss: 0.8418 - val_acc: 0.6317\n",
      "Epoch 76/300\n",
      "3049/3049 [==============================] - 2s 689us/step - loss: 0.8661 - acc: 0.6117 - val_loss: 0.8390 - val_acc: 0.6239\n",
      "Epoch 77/300\n",
      "3049/3049 [==============================] - 2s 774us/step - loss: 0.8579 - acc: 0.6274 - val_loss: 0.8315 - val_acc: 0.6265\n",
      "Epoch 78/300\n",
      "3049/3049 [==============================] - 2s 768us/step - loss: 0.8623 - acc: 0.6068 - val_loss: 0.8217 - val_acc: 0.6448\n",
      "Epoch 79/300\n",
      "3049/3049 [==============================] - 3s 923us/step - loss: 0.8625 - acc: 0.6064 - val_loss: 0.8338 - val_acc: 0.6435\n",
      "Epoch 80/300\n",
      "3049/3049 [==============================] - 3s 1ms/step - loss: 0.8591 - acc: 0.6123 - val_loss: 0.8240 - val_acc: 0.6383\n",
      "Epoch 81/300\n",
      "3049/3049 [==============================] - 3s 1ms/step - loss: 0.8496 - acc: 0.6166 - val_loss: 0.8181 - val_acc: 0.6343\n",
      "Epoch 82/300\n",
      "3049/3049 [==============================] - 3s 1ms/step - loss: 0.8492 - acc: 0.6163 - val_loss: 0.8255 - val_acc: 0.6383\n",
      "Epoch 83/300\n",
      "3049/3049 [==============================] - 5s 2ms/step - loss: 0.8354 - acc: 0.6241 - val_loss: 0.8271 - val_acc: 0.6488\n",
      "Epoch 84/300\n",
      "3049/3049 [==============================] - 3s 922us/step - loss: 0.8521 - acc: 0.6241 - val_loss: 0.8116 - val_acc: 0.6422\n",
      "Epoch 85/300\n",
      "3049/3049 [==============================] - 3s 890us/step - loss: 0.8460 - acc: 0.6255 - val_loss: 0.8196 - val_acc: 0.6356\n",
      "Epoch 86/300\n",
      "3049/3049 [==============================] - 3s 868us/step - loss: 0.8463 - acc: 0.6215 - val_loss: 0.8354 - val_acc: 0.6317\n",
      "Epoch 87/300\n",
      "3049/3049 [==============================] - 2s 786us/step - loss: 0.8491 - acc: 0.6238 - val_loss: 0.8143 - val_acc: 0.6461\n",
      "Epoch 88/300\n",
      "3049/3049 [==============================] - 2s 773us/step - loss: 0.8552 - acc: 0.6156 - val_loss: 0.8045 - val_acc: 0.6527\n",
      "Epoch 89/300\n",
      "3049/3049 [==============================] - 2s 808us/step - loss: 0.8464 - acc: 0.6163 - val_loss: 0.8204 - val_acc: 0.6370\n",
      "Epoch 90/300\n",
      "3049/3049 [==============================] - 2s 805us/step - loss: 0.8466 - acc: 0.6245 - val_loss: 0.8257 - val_acc: 0.6461\n",
      "Epoch 91/300\n",
      "3049/3049 [==============================] - 2s 813us/step - loss: 0.8567 - acc: 0.6130 - val_loss: 0.8121 - val_acc: 0.6435\n",
      "Epoch 92/300\n",
      "3049/3049 [==============================] - 2s 808us/step - loss: 0.8445 - acc: 0.6238 - val_loss: 0.7998 - val_acc: 0.6448\n",
      "Epoch 93/300\n",
      "3049/3049 [==============================] - 2s 811us/step - loss: 0.8509 - acc: 0.6094 - val_loss: 0.8220 - val_acc: 0.6370\n",
      "Epoch 94/300\n",
      "3049/3049 [==============================] - 2s 773us/step - loss: 0.8361 - acc: 0.6274 - val_loss: 0.8103 - val_acc: 0.6619\n",
      "Epoch 95/300\n",
      "3049/3049 [==============================] - 3s 824us/step - loss: 0.8384 - acc: 0.6225 - val_loss: 0.7933 - val_acc: 0.6527\n",
      "Epoch 96/300\n",
      "3049/3049 [==============================] - 3s 872us/step - loss: 0.8435 - acc: 0.6317 - val_loss: 0.7964 - val_acc: 0.6619\n",
      "Epoch 97/300\n",
      "3049/3049 [==============================] - 2s 773us/step - loss: 0.8446 - acc: 0.6284 - val_loss: 0.8021 - val_acc: 0.6527\n",
      "Epoch 98/300\n",
      "3049/3049 [==============================] - 2s 771us/step - loss: 0.8255 - acc: 0.6304 - val_loss: 0.7986 - val_acc: 0.6619\n",
      "Epoch 99/300\n",
      "3049/3049 [==============================] - 3s 842us/step - loss: 0.8372 - acc: 0.6268 - val_loss: 0.8040 - val_acc: 0.6619\n",
      "Epoch 100/300\n",
      "3049/3049 [==============================] - 2s 790us/step - loss: 0.8283 - acc: 0.6284 - val_loss: 0.8040 - val_acc: 0.6658\n",
      "Epoch 101/300\n",
      "3049/3049 [==============================] - 2s 774us/step - loss: 0.8261 - acc: 0.6409 - val_loss: 0.7962 - val_acc: 0.6697\n",
      "Epoch 102/300\n",
      "3049/3049 [==============================] - 3s 822us/step - loss: 0.8087 - acc: 0.6432 - val_loss: 0.7862 - val_acc: 0.6592\n",
      "Epoch 103/300\n",
      "3049/3049 [==============================] - 3s 884us/step - loss: 0.8164 - acc: 0.6382 - val_loss: 0.7856 - val_acc: 0.6566\n",
      "Epoch 104/300\n",
      "3049/3049 [==============================] - 2s 813us/step - loss: 0.8168 - acc: 0.6386 - val_loss: 0.7928 - val_acc: 0.6658\n",
      "Epoch 105/300\n",
      "3049/3049 [==============================] - 2s 788us/step - loss: 0.8250 - acc: 0.6284 - val_loss: 0.7914 - val_acc: 0.6606\n",
      "Epoch 106/300\n",
      "3049/3049 [==============================] - 3s 876us/step - loss: 0.8177 - acc: 0.6376 - val_loss: 0.7845 - val_acc: 0.6645\n",
      "Epoch 107/300\n",
      "3049/3049 [==============================] - 4s 1ms/step - loss: 0.8123 - acc: 0.6402 - val_loss: 0.7864 - val_acc: 0.6671\n",
      "Epoch 108/300\n",
      "3049/3049 [==============================] - 3s 1ms/step - loss: 0.8140 - acc: 0.6366 - val_loss: 0.7856 - val_acc: 0.6579\n",
      "Epoch 109/300\n",
      "3049/3049 [==============================] - 4s 1ms/step - loss: 0.8168 - acc: 0.6333 - val_loss: 0.7821 - val_acc: 0.6606\n",
      "Epoch 110/300\n",
      "3049/3049 [==============================] - 3s 902us/step - loss: 0.8280 - acc: 0.6353 - val_loss: 0.7806 - val_acc: 0.6645\n",
      "Epoch 111/300\n",
      "3049/3049 [==============================] - 3s 1ms/step - loss: 0.8056 - acc: 0.6386 - val_loss: 0.7789 - val_acc: 0.6671\n",
      "Epoch 112/300\n",
      "3049/3049 [==============================] - 3s 838us/step - loss: 0.7990 - acc: 0.6471 - val_loss: 0.7807 - val_acc: 0.6645\n",
      "Epoch 113/300\n",
      "3049/3049 [==============================] - 4s 1ms/step - loss: 0.8105 - acc: 0.6386 - val_loss: 0.7849 - val_acc: 0.6671\n",
      "Epoch 114/300\n",
      "3049/3049 [==============================] - 3s 1ms/step - loss: 0.7972 - acc: 0.6560 - val_loss: 0.7779 - val_acc: 0.6763\n",
      "Epoch 115/300\n",
      "3049/3049 [==============================] - 5s 2ms/step - loss: 0.8079 - acc: 0.6346 - val_loss: 0.7742 - val_acc: 0.6684\n",
      "Epoch 116/300\n",
      "3049/3049 [==============================] - 4s 1ms/step - loss: 0.7983 - acc: 0.6507 - val_loss: 0.7794 - val_acc: 0.6776\n",
      "Epoch 117/300\n",
      "3049/3049 [==============================] - 3s 1ms/step - loss: 0.7975 - acc: 0.6586 - val_loss: 0.7678 - val_acc: 0.6802\n",
      "Epoch 118/300\n",
      "3049/3049 [==============================] - 4s 1ms/step - loss: 0.7971 - acc: 0.6491 - val_loss: 0.7679 - val_acc: 0.6841\n",
      "Epoch 119/300\n",
      "3049/3049 [==============================] - 3s 960us/step - loss: 0.7988 - acc: 0.6523 - val_loss: 0.7652 - val_acc: 0.6776\n",
      "Epoch 120/300\n",
      "3049/3049 [==============================] - 2s 792us/step - loss: 0.7897 - acc: 0.6468 - val_loss: 0.7666 - val_acc: 0.6789\n",
      "Epoch 121/300\n",
      "3049/3049 [==============================] - 2s 798us/step - loss: 0.7956 - acc: 0.6523 - val_loss: 0.7692 - val_acc: 0.6828\n",
      "Epoch 122/300\n",
      "3049/3049 [==============================] - 3s 933us/step - loss: 0.8021 - acc: 0.6445 - val_loss: 0.7598 - val_acc: 0.6763\n",
      "Epoch 123/300\n",
      "3049/3049 [==============================] - 3s 830us/step - loss: 0.7916 - acc: 0.6438 - val_loss: 0.7648 - val_acc: 0.6789\n",
      "Epoch 124/300\n",
      "3049/3049 [==============================] - 2s 816us/step - loss: 0.7990 - acc: 0.6461 - val_loss: 0.7688 - val_acc: 0.6894\n",
      "Epoch 125/300\n",
      "3049/3049 [==============================] - 2s 807us/step - loss: 0.7899 - acc: 0.6589 - val_loss: 0.7592 - val_acc: 0.6894\n",
      "Epoch 126/300\n",
      "3049/3049 [==============================] - 3s 986us/step - loss: 0.7870 - acc: 0.6625 - val_loss: 0.7627 - val_acc: 0.6802\n",
      "Epoch 127/300\n",
      "3049/3049 [==============================] - 4s 1ms/step - loss: 0.7860 - acc: 0.6648 - val_loss: 0.7570 - val_acc: 0.6868\n",
      "Epoch 128/300\n",
      "3049/3049 [==============================] - 3s 1ms/step - loss: 0.7841 - acc: 0.6537 - val_loss: 0.7669 - val_acc: 0.6855\n",
      "Epoch 129/300\n",
      "3049/3049 [==============================] - 3s 879us/step - loss: 0.8001 - acc: 0.6412 - val_loss: 0.7657 - val_acc: 0.6855\n",
      "Epoch 130/300\n",
      "3049/3049 [==============================] - 3s 890us/step - loss: 0.7677 - acc: 0.6655 - val_loss: 0.7481 - val_acc: 0.6750\n",
      "Epoch 131/300\n",
      "3049/3049 [==============================] - 2s 734us/step - loss: 0.7861 - acc: 0.6556 - val_loss: 0.7658 - val_acc: 0.6789\n",
      "Epoch 132/300\n",
      "3049/3049 [==============================] - 2s 736us/step - loss: 0.7723 - acc: 0.6664 - val_loss: 0.7803 - val_acc: 0.6763\n",
      "Epoch 133/300\n",
      "3049/3049 [==============================] - 3s 892us/step - loss: 0.7672 - acc: 0.6710 - val_loss: 0.7581 - val_acc: 0.6841\n",
      "Epoch 134/300\n",
      "3049/3049 [==============================] - 2s 761us/step - loss: 0.7748 - acc: 0.6674 - val_loss: 0.7554 - val_acc: 0.6855\n",
      "Epoch 135/300\n",
      "3049/3049 [==============================] - 2s 731us/step - loss: 0.7740 - acc: 0.6638 - val_loss: 0.7735 - val_acc: 0.6750\n",
      "Epoch 136/300\n",
      "3049/3049 [==============================] - 2s 707us/step - loss: 0.7771 - acc: 0.6602 - val_loss: 0.7592 - val_acc: 0.6841\n",
      "Epoch 137/300\n",
      "3049/3049 [==============================] - 5s 1ms/step - loss: 0.7667 - acc: 0.6638 - val_loss: 0.7509 - val_acc: 0.6855\n",
      "Epoch 138/300\n",
      "3049/3049 [==============================] - 4s 1ms/step - loss: 0.7766 - acc: 0.6566 - val_loss: 0.7473 - val_acc: 0.6841\n",
      "Epoch 139/300\n",
      "3049/3049 [==============================] - 5s 2ms/step - loss: 0.7720 - acc: 0.6592 - val_loss: 0.7527 - val_acc: 0.6855\n",
      "Epoch 140/300\n",
      "3049/3049 [==============================] - 3s 895us/step - loss: 0.7653 - acc: 0.6560 - val_loss: 0.7545 - val_acc: 0.6841\n",
      "Epoch 141/300\n",
      "3049/3049 [==============================] - 3s 992us/step - loss: 0.7624 - acc: 0.6724 - val_loss: 0.7446 - val_acc: 0.6855\n",
      "Epoch 142/300\n",
      "3049/3049 [==============================] - 3s 1ms/step - loss: 0.7796 - acc: 0.6605 - val_loss: 0.7422 - val_acc: 0.6828\n",
      "Epoch 143/300\n",
      "3049/3049 [==============================] - 2s 743us/step - loss: 0.7797 - acc: 0.6540 - val_loss: 0.7482 - val_acc: 0.6920\n",
      "Epoch 144/300\n",
      "3049/3049 [==============================] - 2s 696us/step - loss: 0.7638 - acc: 0.6596 - val_loss: 0.7463 - val_acc: 0.6907\n",
      "Epoch 145/300\n",
      "3049/3049 [==============================] - 2s 715us/step - loss: 0.7512 - acc: 0.6760 - val_loss: 0.7552 - val_acc: 0.6815\n",
      "Epoch 146/300\n",
      "3049/3049 [==============================] - 2s 813us/step - loss: 0.7473 - acc: 0.6776 - val_loss: 0.7409 - val_acc: 0.6881\n",
      "Epoch 147/300\n",
      "3049/3049 [==============================] - 2s 801us/step - loss: 0.7614 - acc: 0.6694 - val_loss: 0.7497 - val_acc: 0.6907\n",
      "Epoch 148/300\n",
      "3049/3049 [==============================] - 2s 744us/step - loss: 0.7669 - acc: 0.6681 - val_loss: 0.7568 - val_acc: 0.6841\n",
      "Epoch 149/300\n",
      "3049/3049 [==============================] - 2s 794us/step - loss: 0.7581 - acc: 0.6792 - val_loss: 0.7362 - val_acc: 0.6855\n",
      "Epoch 150/300\n",
      "3049/3049 [==============================] - 2s 708us/step - loss: 0.7548 - acc: 0.6691 - val_loss: 0.7392 - val_acc: 0.6933\n",
      "Epoch 151/300\n",
      "3049/3049 [==============================] - 2s 725us/step - loss: 0.7639 - acc: 0.6737 - val_loss: 0.7449 - val_acc: 0.6868\n",
      "Epoch 152/300\n",
      "3049/3049 [==============================] - 2s 723us/step - loss: 0.7561 - acc: 0.6720 - val_loss: 0.7441 - val_acc: 0.6999\n",
      "Epoch 153/300\n",
      "3049/3049 [==============================] - 2s 708us/step - loss: 0.7502 - acc: 0.6730 - val_loss: 0.7413 - val_acc: 0.6907\n",
      "Epoch 154/300\n",
      "3049/3049 [==============================] - 2s 682us/step - loss: 0.7604 - acc: 0.6710 - val_loss: 0.7415 - val_acc: 0.6894\n",
      "Epoch 155/300\n",
      "3049/3049 [==============================] - 2s 695us/step - loss: 0.7412 - acc: 0.6855 - val_loss: 0.7457 - val_acc: 0.6933\n",
      "Epoch 156/300\n",
      "3049/3049 [==============================] - 2s 725us/step - loss: 0.7524 - acc: 0.6681 - val_loss: 0.7389 - val_acc: 0.6894\n",
      "Epoch 157/300\n",
      "3049/3049 [==============================] - 2s 706us/step - loss: 0.7499 - acc: 0.6658 - val_loss: 0.7450 - val_acc: 0.6933\n",
      "Epoch 158/300\n",
      "3049/3049 [==============================] - 2s 706us/step - loss: 0.7456 - acc: 0.6848 - val_loss: 0.7385 - val_acc: 0.6881\n",
      "Epoch 159/300\n",
      "3049/3049 [==============================] - 2s 690us/step - loss: 0.7459 - acc: 0.6878 - val_loss: 0.7378 - val_acc: 0.6894\n",
      "Epoch 160/300\n",
      "3049/3049 [==============================] - 2s 721us/step - loss: 0.7558 - acc: 0.6678 - val_loss: 0.7370 - val_acc: 0.6920\n",
      "Epoch 161/300\n",
      "3049/3049 [==============================] - 2s 729us/step - loss: 0.7268 - acc: 0.6891 - val_loss: 0.7343 - val_acc: 0.6933\n",
      "Epoch 162/300\n",
      "3049/3049 [==============================] - 2s 771us/step - loss: 0.7302 - acc: 0.6920 - val_loss: 0.7337 - val_acc: 0.6894\n",
      "Epoch 163/300\n",
      "3049/3049 [==============================] - 2s 694us/step - loss: 0.7392 - acc: 0.6750 - val_loss: 0.7419 - val_acc: 0.6933\n",
      "Epoch 164/300\n",
      "3049/3049 [==============================] - 3s 871us/step - loss: 0.7350 - acc: 0.6825 - val_loss: 0.7277 - val_acc: 0.6841\n",
      "Epoch 165/300\n",
      "3049/3049 [==============================] - 2s 744us/step - loss: 0.7431 - acc: 0.6783 - val_loss: 0.7275 - val_acc: 0.6907\n",
      "Epoch 166/300\n",
      "3049/3049 [==============================] - 2s 695us/step - loss: 0.7443 - acc: 0.6773 - val_loss: 0.7448 - val_acc: 0.6959\n",
      "Epoch 167/300\n",
      "3049/3049 [==============================] - 3s 915us/step - loss: 0.7457 - acc: 0.6812 - val_loss: 0.7235 - val_acc: 0.6855\n",
      "Epoch 168/300\n",
      "3049/3049 [==============================] - 3s 978us/step - loss: 0.7377 - acc: 0.6828 - val_loss: 0.7334 - val_acc: 0.6959\n",
      "Epoch 169/300\n",
      "3049/3049 [==============================] - 4s 1ms/step - loss: 0.7312 - acc: 0.6901 - val_loss: 0.7281 - val_acc: 0.7012\n",
      "Epoch 170/300\n",
      "3049/3049 [==============================] - 4s 1ms/step - loss: 0.7331 - acc: 0.6779 - val_loss: 0.7266 - val_acc: 0.6972\n",
      "Epoch 171/300\n",
      "3049/3049 [==============================] - 3s 1ms/step - loss: 0.7229 - acc: 0.6966 - val_loss: 0.7322 - val_acc: 0.7038\n",
      "Epoch 172/300\n",
      "3049/3049 [==============================] - 3s 980us/step - loss: 0.7313 - acc: 0.6878 - val_loss: 0.7325 - val_acc: 0.7051\n",
      "Epoch 173/300\n",
      "3049/3049 [==============================] - 2s 800us/step - loss: 0.7446 - acc: 0.6835 - val_loss: 0.7286 - val_acc: 0.7064\n",
      "Epoch 174/300\n",
      "3049/3049 [==============================] - 2s 780us/step - loss: 0.7271 - acc: 0.6871 - val_loss: 0.7292 - val_acc: 0.6959\n",
      "Epoch 175/300\n",
      "3049/3049 [==============================] - 2s 810us/step - loss: 0.7265 - acc: 0.6848 - val_loss: 0.7286 - val_acc: 0.6972\n",
      "Epoch 176/300\n",
      "3049/3049 [==============================] - 2s 762us/step - loss: 0.7286 - acc: 0.6937 - val_loss: 0.7233 - val_acc: 0.7025\n",
      "Epoch 177/300\n",
      "3049/3049 [==============================] - 3s 823us/step - loss: 0.7169 - acc: 0.6943 - val_loss: 0.7263 - val_acc: 0.6986\n",
      "Epoch 178/300\n",
      "3049/3049 [==============================] - 2s 764us/step - loss: 0.7232 - acc: 0.6819 - val_loss: 0.7305 - val_acc: 0.6986\n",
      "Epoch 179/300\n",
      "3049/3049 [==============================] - 3s 825us/step - loss: 0.7185 - acc: 0.6897 - val_loss: 0.7192 - val_acc: 0.6972\n",
      "Epoch 180/300\n",
      "3049/3049 [==============================] - 2s 764us/step - loss: 0.7087 - acc: 0.6960 - val_loss: 0.7295 - val_acc: 0.6959\n",
      "Epoch 181/300\n",
      "3049/3049 [==============================] - 2s 786us/step - loss: 0.7225 - acc: 0.6933 - val_loss: 0.7289 - val_acc: 0.6972\n",
      "Epoch 182/300\n",
      "3049/3049 [==============================] - 2s 757us/step - loss: 0.7339 - acc: 0.6894 - val_loss: 0.7139 - val_acc: 0.6999\n",
      "Epoch 183/300\n",
      "3049/3049 [==============================] - 2s 754us/step - loss: 0.7053 - acc: 0.6960 - val_loss: 0.7229 - val_acc: 0.6986\n",
      "Epoch 184/300\n",
      "3049/3049 [==============================] - 2s 763us/step - loss: 0.7242 - acc: 0.6953 - val_loss: 0.7422 - val_acc: 0.6972\n",
      "Epoch 185/300\n",
      "3049/3049 [==============================] - 2s 751us/step - loss: 0.7135 - acc: 0.6825 - val_loss: 0.7171 - val_acc: 0.7038\n",
      "Epoch 186/300\n",
      "3049/3049 [==============================] - 2s 794us/step - loss: 0.7012 - acc: 0.7104 - val_loss: 0.7267 - val_acc: 0.7012\n",
      "Epoch 187/300\n",
      "3049/3049 [==============================] - 3s 1ms/step - loss: 0.7295 - acc: 0.6881 - val_loss: 0.7286 - val_acc: 0.6986\n",
      "Epoch 188/300\n",
      "3049/3049 [==============================] - 4s 1ms/step - loss: 0.7119 - acc: 0.7055 - val_loss: 0.7168 - val_acc: 0.7012\n",
      "Epoch 189/300\n",
      "3049/3049 [==============================] - 3s 1ms/step - loss: 0.7154 - acc: 0.6927 - val_loss: 0.7207 - val_acc: 0.6999\n",
      "Epoch 190/300\n",
      "3049/3049 [==============================] - 3s 1ms/step - loss: 0.7131 - acc: 0.6924 - val_loss: 0.7173 - val_acc: 0.7025\n",
      "Epoch 191/300\n",
      "3049/3049 [==============================] - 4s 1ms/step - loss: 0.7048 - acc: 0.6960 - val_loss: 0.7137 - val_acc: 0.7038\n",
      "Epoch 192/300\n",
      "3049/3049 [==============================] - 3s 848us/step - loss: 0.7147 - acc: 0.7006 - val_loss: 0.7191 - val_acc: 0.7051\n",
      "Epoch 193/300\n",
      "3049/3049 [==============================] - 2s 813us/step - loss: 0.7146 - acc: 0.6950 - val_loss: 0.7160 - val_acc: 0.7090\n",
      "Epoch 194/300\n",
      "3049/3049 [==============================] - 3s 932us/step - loss: 0.7091 - acc: 0.7002 - val_loss: 0.7148 - val_acc: 0.7051\n",
      "Epoch 195/300\n",
      "3049/3049 [==============================] - 4s 1ms/step - loss: 0.7035 - acc: 0.7032 - val_loss: 0.7163 - val_acc: 0.7077\n",
      "Epoch 196/300\n",
      "3049/3049 [==============================] - 3s 1ms/step - loss: 0.7051 - acc: 0.6989 - val_loss: 0.7013 - val_acc: 0.7130\n",
      "Epoch 197/300\n",
      "3049/3049 [==============================] - 3s 1ms/step - loss: 0.7056 - acc: 0.7009 - val_loss: 0.7032 - val_acc: 0.7104\n",
      "Epoch 198/300\n",
      "3049/3049 [==============================] - 3s 1ms/step - loss: 0.6994 - acc: 0.6999 - val_loss: 0.7103 - val_acc: 0.7064\n",
      "Epoch 199/300\n",
      "3049/3049 [==============================] - 3s 1ms/step - loss: 0.7035 - acc: 0.6920 - val_loss: 0.7128 - val_acc: 0.7117\n",
      "Epoch 200/300\n",
      "3049/3049 [==============================] - 3s 1ms/step - loss: 0.6904 - acc: 0.7071 - val_loss: 0.7143 - val_acc: 0.7117\n",
      "Epoch 201/300\n",
      "3049/3049 [==============================] - 2s 811us/step - loss: 0.7028 - acc: 0.7071 - val_loss: 0.7211 - val_acc: 0.7117\n",
      "Epoch 202/300\n",
      "3049/3049 [==============================] - 3s 887us/step - loss: 0.6985 - acc: 0.6996 - val_loss: 0.7078 - val_acc: 0.7156\n",
      "Epoch 203/300\n",
      "3049/3049 [==============================] - 3s 825us/step - loss: 0.7074 - acc: 0.7025 - val_loss: 0.7199 - val_acc: 0.7130\n",
      "Epoch 204/300\n",
      "3049/3049 [==============================] - 3s 916us/step - loss: 0.6895 - acc: 0.7088 - val_loss: 0.7201 - val_acc: 0.7143\n",
      "Epoch 205/300\n",
      "3049/3049 [==============================] - 3s 868us/step - loss: 0.6954 - acc: 0.7088 - val_loss: 0.7069 - val_acc: 0.7143\n",
      "Epoch 206/300\n",
      "3049/3049 [==============================] - 3s 999us/step - loss: 0.6962 - acc: 0.7101 - val_loss: 0.7053 - val_acc: 0.7169\n",
      "Epoch 207/300\n",
      "3049/3049 [==============================] - 2s 799us/step - loss: 0.7100 - acc: 0.7015 - val_loss: 0.7069 - val_acc: 0.7038\n",
      "Epoch 208/300\n",
      "3049/3049 [==============================] - 3s 942us/step - loss: 0.6959 - acc: 0.7045 - val_loss: 0.7074 - val_acc: 0.7090\n",
      "Epoch 209/300\n",
      "3049/3049 [==============================] - 2s 758us/step - loss: 0.7075 - acc: 0.6992 - val_loss: 0.7053 - val_acc: 0.7130\n",
      "Epoch 210/300\n",
      "3049/3049 [==============================] - 2s 754us/step - loss: 0.6897 - acc: 0.7051 - val_loss: 0.7037 - val_acc: 0.7235\n",
      "Epoch 211/300\n",
      "3049/3049 [==============================] - 2s 770us/step - loss: 0.6850 - acc: 0.7114 - val_loss: 0.7015 - val_acc: 0.7156\n"
     ]
    }
   ],
   "source": [
    "history_4 = model_4.fit(X_train, y_train,\n",
    "                    validation_split = 0.2,\n",
    "                    callbacks=early_stopping, \n",
    "                    class_weight=class_weights,\n",
    "                    epochs=300, batch_size=600)"
   ]
  },
  {
   "cell_type": "code",
   "execution_count": 89,
   "id": "5845192d",
   "metadata": {},
   "outputs": [
    {
     "data": {
      "image/png": "[encoded data removed]",
      "text/plain": [
       "<Figure size 432x288 with 1 Axes>"
      ]
     },
     "metadata": {
      "needs_background": "light"
     },
     "output_type": "display_data"
    },
    {
     "data": {
      "image/png": "[encoded data removed]",
      "text/plain": [
       "<Figure size 432x288 with 1 Axes>"
      ]
     },
     "metadata": {
      "needs_background": "light"
     },
     "output_type": "display_data"
    }
   ],
   "source": [
    "visualize_training_results(history_4)"
   ]
  },
  {
   "cell_type": "code",
   "execution_count": 90,
   "id": "b797a369",
   "metadata": {},
   "outputs": [
    {
     "name": "stdout",
     "output_type": "stream",
     "text": [
      "Training Accuracy: 0.7891\n",
      "Testing Accuracy:  0.7096\n"
     ]
    }
   ],
   "source": [
    "# Find train and test accuracy\n",
    "loss, accuracy = model_4.evaluate(X_train, y_train, verbose=False)\n",
    "print(\"Training Accuracy: {:.4f}\".format(accuracy))\n",
    "loss, accuracy = model_4.evaluate(X_test, y_test, verbose=False)\n",
    "print(\"Testing Accuracy:  {:.4f}\".format(accuracy))"
   ]
  },
  {
   "cell_type": "code",
   "execution_count": null,
   "id": "30c3ecc8",
   "metadata": {},
   "outputs": [],
   "source": []
  },
  {
   "cell_type": "code",
   "execution_count": null,
   "id": "970f5edb",
   "metadata": {},
   "outputs": [],
   "source": [
    "make preditions with best_model_gru"
   ]
  },
  {
   "cell_type": "code",
   "execution_count": null,
   "id": "4eb22a9e",
   "metadata": {},
   "outputs": [],
   "source": []
  }
 ],
 "metadata": {
  "kernelspec": {
   "display_name": "learn_env",
   "language": "python",
   "name": "learn_env"
  },
  "language_info": {
   "codemirror_mode": {
    "name": "ipython",
    "version": 3
   },
   "file_extension": ".py",
   "mimetype": "text/x-python",
   "name": "python",
   "nbconvert_exporter": "python",
   "pygments_lexer": "ipython3",
   "version": "3.9.7"
  }
 },
 "nbformat": 4,
 "nbformat_minor": 5
}
